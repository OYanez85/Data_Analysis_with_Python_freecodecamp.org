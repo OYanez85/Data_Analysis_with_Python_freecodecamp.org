{
  "nbformat": 4,
  "nbformat_minor": 0,
  "metadata": {
    "colab": {
      "provenance": [],
      "include_colab_link": true
    },
    "kernelspec": {
      "name": "python3",
      "display_name": "Python 3"
    },
    "language_info": {
      "name": "python"
    }
  },
  "cells": [
    {
      "cell_type": "markdown",
      "metadata": {
        "id": "view-in-github",
        "colab_type": "text"
      },
      "source": [
        "<a href=\"https://colab.research.google.com/github/annaa-p-na/nds_exercises/blob/develop/ejercicios_practica/4.PANDAS_ejercicios_1a_parte.ipynb\" target=\"_parent\"><img src=\"https://colab.research.google.com/assets/colab-badge.svg\" alt=\"Open In Colab\"/></a>"
      ]
    },
    {
      "cell_type": "markdown",
      "source": [
        "## **PANDAS 1 y 2: Exploración de datos y transformación de columnas**"
      ],
      "metadata": {
        "id": "uQFrK_u_KOI-"
      }
    },
    {
      "cell_type": "markdown",
      "source": [
        "1. Importa la librería de pandas y renombrala como pd"
      ],
      "metadata": {
        "id": "qQDJzU9vKJN1"
      }
    },
    {
      "cell_type": "code",
      "source": [],
      "metadata": {
        "id": "FZypv5QavLIJ"
      },
      "execution_count": null,
      "outputs": []
    },
    {
      "cell_type": "markdown",
      "source": [
        "2. Sube el archivo llamado chipotle.csv al entorno Colab o a tu Drive para trabajar con el. Luego, importalo al cuaderno mediante la funcion de pandas read_csv y guárdalo en un dataframe llamado df. La tabla de datos contenida en el archivo csv es un dataset y los datasets en pandas son llamados DataFrames, así que usaremos ambas palabras indistintamente."
      ],
      "metadata": {
        "id": "D3rUT1DjKRb4"
      }
    },
    {
      "cell_type": "code",
      "source": [],
      "metadata": {
        "id": "rMAzq3SUvMEV"
      },
      "execution_count": null,
      "outputs": []
    },
    {
      "cell_type": "markdown",
      "source": [
        "3. Muestra la información esencial del dataframe mediante el método .info()"
      ],
      "metadata": {
        "id": "35DQzNJn3TSr"
      }
    },
    {
      "cell_type": "code",
      "source": [],
      "metadata": {
        "id": "OXGx_IJsvNMu"
      },
      "execution_count": null,
      "outputs": []
    },
    {
      "cell_type": "markdown",
      "source": [
        "4. Muestra las 10 primeras filas de este dataframe, luego muestra las 5 últimas filas"
      ],
      "metadata": {
        "id": "SO_PQbJWLmBY"
      }
    },
    {
      "cell_type": "code",
      "source": [],
      "metadata": {
        "id": "tAsp15c9vORf"
      },
      "execution_count": null,
      "outputs": []
    },
    {
      "cell_type": "markdown",
      "source": [
        "5. Mira de que tipo son las columnas de tu dataframe df mediante el atributo .dtypes"
      ],
      "metadata": {
        "id": "IXbCahbKlAzo"
      }
    },
    {
      "cell_type": "code",
      "source": [],
      "metadata": {
        "id": "0fwuWbOgvPs4"
      },
      "execution_count": null,
      "outputs": []
    },
    {
      "cell_type": "markdown",
      "source": [
        "6. Quita el símbolo del dolar de la columna item_price mediante el método .replace(), comprueba que lo has hecho correctamente imprimiendo las primeras filas del dataframe."
      ],
      "metadata": {
        "id": "xq3UaNE2uhe4"
      }
    },
    {
      "cell_type": "code",
      "source": [],
      "metadata": {
        "id": "X_Izcp4MvQpT"
      },
      "execution_count": null,
      "outputs": []
    },
    {
      "cell_type": "markdown",
      "source": [
        "7. Ahora, transforma la columna item_price columna de tipo object a tipo float64 para considerar el precio como un número decimal y poder llevar a cabo análisis numéricos con este campo. Haz el cambio mediante el método .astype() y luego comprueba que lo has hecho correctamente mediante el atributo .dtypes"
      ],
      "metadata": {
        "id": "v8w7-oRAvj9s"
      }
    },
    {
      "cell_type": "code",
      "source": [],
      "metadata": {
        "id": "aKaui0RSvR4u"
      },
      "execution_count": null,
      "outputs": []
    },
    {
      "cell_type": "markdown",
      "source": [
        "8. Para ver cuántos registros tiene nuestro dataframe, es decir cuántas filas y cuántas columnas tiene, podemos usar el atributo .shape, aplica el atributo .shape a df"
      ],
      "metadata": {
        "id": "YZHRKok1d97P"
      }
    },
    {
      "cell_type": "code",
      "source": [],
      "metadata": {
        "id": "90beL4lPvTCb"
      },
      "execution_count": null,
      "outputs": []
    },
    {
      "cell_type": "markdown",
      "source": [
        "9. Accede a la columna item_name mediante los corchetes y obtén una Serie\n"
      ],
      "metadata": {
        "id": "-aJg8YpMvzTz"
      }
    },
    {
      "cell_type": "code",
      "source": [],
      "metadata": {
        "id": "1YxFmGhSvT-F"
      },
      "execution_count": null,
      "outputs": []
    },
    {
      "cell_type": "markdown",
      "source": [
        "10. Accede a la columna item_name mediante los corchetes y obtén un DataFrame"
      ],
      "metadata": {
        "id": "gxOkBFpux5cw"
      }
    },
    {
      "cell_type": "code",
      "source": [],
      "metadata": {
        "id": "PzAI9IAlvVHf"
      },
      "execution_count": null,
      "outputs": []
    },
    {
      "cell_type": "markdown",
      "source": [
        "11. Toma las columnas order_id, item_name y quantity y almacenalas en un nuevo dataframe llamado df2"
      ],
      "metadata": {
        "id": "fwsdz6JA7pVw"
      }
    },
    {
      "cell_type": "code",
      "source": [],
      "metadata": {
        "id": "QjAv5SorvV_O"
      },
      "execution_count": null,
      "outputs": []
    },
    {
      "cell_type": "markdown",
      "source": [
        "12. Mira cuántas veces aparece cada plato del restaurante mediante el método .value_counts()"
      ],
      "metadata": {
        "id": "0HXU_eWN7vpM"
      }
    },
    {
      "cell_type": "code",
      "source": [],
      "metadata": {
        "id": "X170qHvbvXdP"
      },
      "execution_count": null,
      "outputs": []
    },
    {
      "cell_type": "markdown",
      "source": [
        "13. Cuáles son los 3 platos más populares? Es decir, los que aparecen en más pedidos. Cuáles son los 3 platos que aparecen en menos pedidos?"
      ],
      "metadata": {
        "id": "1Cyt0Vxxy4RH"
      }
    },
    {
      "cell_type": "code",
      "source": [],
      "metadata": {
        "id": "Qukk0doezDus"
      },
      "execution_count": null,
      "outputs": []
    },
    {
      "cell_type": "markdown",
      "source": [
        "14. Si en vez de la cantidad de veces que aparece cada elemento queremos saber en porcentaje cuánta presencia tiene cada valor en una determinada columna, podemos usar el parámetro normalize=True en el método .value_counts(). Aplícalo para ver que presencia tiene cada plato respecto a todos los platos pedidos."
      ],
      "metadata": {
        "id": "s4w_2hYw8p54"
      }
    },
    {
      "cell_type": "code",
      "source": [],
      "metadata": {
        "id": "SlEnZJkQvZYq"
      },
      "execution_count": null,
      "outputs": []
    },
    {
      "cell_type": "markdown",
      "source": [
        "15. De todos los platos pedidos, que presencia en porcentaje tiene el barbacoa burrito?"
      ],
      "metadata": {
        "id": "OMZNlf240UyV"
      }
    },
    {
      "cell_type": "markdown",
      "source": [],
      "metadata": {
        "id": "pVjyieqn0a-X"
      }
    },
    {
      "cell_type": "markdown",
      "source": [
        "16. Guarda la serie obtenida en el ejercicio anterior a partir del vale_counts en un DataFrame mediante la función pd.DataFrame y luego renombra la columna como item_pct y transformala para que los valores porcentuales estén en base 100 y redondeado a 2 decimales"
      ],
      "metadata": {
        "id": "y1Q_5sNz1daP"
      }
    },
    {
      "cell_type": "code",
      "source": [],
      "metadata": {
        "id": "UJUpc34svajK"
      },
      "execution_count": null,
      "outputs": []
    },
    {
      "cell_type": "markdown",
      "source": [
        "Si lo que queremos no es saber cuántas veces aparece un valor en una columna, sino algunas métricas estadísticas sobre la distribución de los valores en una columna, tenemos el método .describe(). Este será útil sobretodo en datos numéricos."
      ],
      "metadata": {
        "id": "DJ1ep8kd9glt"
      }
    },
    {
      "cell_type": "markdown",
      "source": [
        "17. Aplica el método .describe() a la columna item_price"
      ],
      "metadata": {
        "id": "ghCuyGZKAOoF"
      }
    },
    {
      "cell_type": "code",
      "source": [],
      "metadata": {
        "id": "GJX42foFvbhY"
      },
      "execution_count": null,
      "outputs": []
    },
    {
      "cell_type": "markdown",
      "source": [
        "Cuál es el precio promedio de los items ordenados en este restaurante? Cuál es el máximo? Y el mínimo?"
      ],
      "metadata": {
        "id": "IhvLIZVV2_WC"
      }
    },
    {
      "cell_type": "markdown",
      "source": [],
      "metadata": {
        "id": "aFDbqrO33j0r"
      }
    },
    {
      "cell_type": "markdown",
      "source": [
        "18. Para las columnas de tipo object, el output del método .describe() será distinto. Aplícalo a la columna item_name del dataframe df"
      ],
      "metadata": {
        "id": "vrm-yP9DAYqh"
      }
    },
    {
      "cell_type": "code",
      "source": [],
      "metadata": {
        "id": "LfMUr1a4vcu8"
      },
      "execution_count": null,
      "outputs": []
    },
    {
      "cell_type": "markdown",
      "source": [
        "19.Aplica el método .describe() a la totalidad del dataframe df"
      ],
      "metadata": {
        "id": "kOsD4hwY3r_A"
      }
    },
    {
      "cell_type": "code",
      "source": [],
      "metadata": {
        "id": "lQqpqslNveGe"
      },
      "execution_count": null,
      "outputs": []
    }
  ]
}