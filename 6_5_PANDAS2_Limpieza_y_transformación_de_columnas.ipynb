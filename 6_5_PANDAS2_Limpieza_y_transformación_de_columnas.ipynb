{
  "nbformat": 4,
  "nbformat_minor": 0,
  "metadata": {
    "colab": {
      "provenance": []
    },
    "kernelspec": {
      "name": "python3",
      "display_name": "Python 3"
    },
    "language_info": {
      "name": "python"
    }
  },
  "cells": [
    {
      "cell_type": "markdown",
      "source": [
        "# **PANDAS 2: Limpieza y transformación de columnas**"
      ],
      "metadata": {
        "id": "E77jvyIbIbqB"
      }
    },
    {
      "cell_type": "markdown",
      "source": [
        "Muchas veces el dataset con el que tendremos que trabajar no nos vendrá dado con el formato justo que necesitamos. A continuación, veremos como transformar las columnas de un dataset en las que necesitamos para realizar nuestro análisis."
      ],
      "metadata": {
        "id": "Epf0IeuDuizM"
      }
    },
    {
      "cell_type": "markdown",
      "source": [
        "1. Importa pandas como pd e importa el dataset supermarket_products.csv y guardalo en un dataframe llamado df, a continuación ejecuta df.head() para tener una primera idea de los datos que contiene nuestro dataframe"
      ],
      "metadata": {
        "id": "c4DURWLkvWSb"
      }
    },
    {
      "cell_type": "code",
      "source": [],
      "metadata": {
        "id": "GxdUtLFj7DSt"
      },
      "execution_count": null,
      "outputs": []
    },
    {
      "cell_type": "markdown",
      "source": [
        "2. Antes de empezar a transformar los datos, veamos un poco más de información sobre nuestro dataframe, sus columnas y los datos que contienen. Aplica el método .info() a df para obtener más información."
      ],
      "metadata": {
        "id": "U_gr8bW_Doju"
      }
    },
    {
      "cell_type": "code",
      "source": [],
      "metadata": {
        "id": "CnaV-hD7H-ha"
      },
      "execution_count": null,
      "outputs": []
    },
    {
      "cell_type": "markdown",
      "source": [
        "Fíjate en el número de filas que tiene df, el número de columnas, de que tipo es cada columna y el número de registros no nulos de estas. Recuerda que:\n",
        "- '#' indica la posición, el índice, de cada columna\n",
        "- Column hace referencia al nombre de cada columna\n",
        "- Non-Null Count indica el número de valores no nulos en cada columna\n",
        "- Dtype indica el tipo de los datos que contiene cada columna"
      ],
      "metadata": {
        "id": "BLJ72of4D8mA"
      }
    },
    {
      "cell_type": "markdown",
      "source": [
        "3. Si nos fijamos, en nuestro dataframe tenemos una columna llamada index que contiene un índice de 1 a n. Decidimos usar como índice el que viene por defecto de 0 a n-1, elimina la columna index mediante el método .drop() pasándole la lista de columnas a eliminar en el parámetro columns, recuerda aplicar el inplace=True para modificar df"
      ],
      "metadata": {
        "id": "xkjkuh2GG4gl"
      }
    },
    {
      "cell_type": "code",
      "source": [],
      "metadata": {
        "id": "RULqCljwH_Ab"
      },
      "execution_count": null,
      "outputs": []
    },
    {
      "cell_type": "markdown",
      "source": [
        "4. Puede ser interesante renombrar columnas para clarificar el contenido de la columna, corregir fallos de escritura, estandarizar nombres, acortar o quitar carácteres especiales para que sea más rápido escribir los nombres de la columnas para trabajar con ellas. Renombra las columnas sale_price y market_price como sale_price_eur y market_price_eur para clarificar la divisa en que estan los precios del dataframe. Usa el método .rename(), recuerda pasarle un diccionario en el parámetro columns con los nombres actuales de las columnas y los que quieres que tengan, recuerda aplicar el parámetro inplace=True para modificar df.\n"
      ],
      "metadata": {
        "id": "ah8usAgKE1V4"
      }
    },
    {
      "cell_type": "code",
      "source": [],
      "metadata": {
        "id": "yyCYm4-PH_wj"
      },
      "execution_count": null,
      "outputs": []
    },
    {
      "cell_type": "markdown",
      "source": [
        "En pandas podemos usar los operadores aritméticos de python: suma, resta, multiplicación, división; para realizar acciones a una propia columna o crear una nueva columna a partir de columnas ya existentes. Los cálculos siempre se harán fila a fila."
      ],
      "metadata": {
        "id": "7uBwFLRmHdaP"
      }
    },
    {
      "cell_type": "markdown",
      "source": [
        "5. Calcula una nueva columna llamada sale_price_dif que almacene la diferencia entre el precio de mercado (market_price_eur) y el precio de rebajas (sale_price_eur)"
      ],
      "metadata": {
        "id": "qewOJ4oQHxft"
      }
    },
    {
      "cell_type": "code",
      "source": [],
      "metadata": {
        "id": "tzjnHPwPIAsj"
      },
      "execution_count": null,
      "outputs": []
    },
    {
      "cell_type": "markdown",
      "source": [
        "6. Si aplicamos el método .max() a la columna rating, vemos que el valor máximo de esa columna es 10, debido a que la puntuación se ha realizado en una escala del 0 al 10. Cambiemos la escala a una puntuación del 0 al 5, para ello divide la columna rating entre 10 y multiplicalo por 5, almacenalo en la misma columna rating para sustituir su valor."
      ],
      "metadata": {
        "id": "z5pCvjSZIiZy"
      }
    },
    {
      "cell_type": "code",
      "source": [],
      "metadata": {
        "id": "S25oAUpNIBdz"
      },
      "execution_count": null,
      "outputs": []
    },
    {
      "cell_type": "markdown",
      "source": [
        "7. En la columna llamada product, tenemos el nombre del producto seguido de un guión y un detalle sobre el mismo. Separa el nombre del detalle mediante el método split() y guarda en una columna llamada product solamente el nombre del producto y en otra llamada prod_detail el detalle. Recuerda añadir el parámetro expand=True para que las nuevas columnas se guarden en un nuevo dataframe."
      ],
      "metadata": {
        "id": "D-iCJxfhKYgH"
      }
    },
    {
      "cell_type": "code",
      "source": [],
      "metadata": {
        "id": "2Dzr3AaRICST"
      },
      "execution_count": null,
      "outputs": []
    },
    {
      "cell_type": "markdown",
      "source": [
        "8. Reemplaza los símbolos '&' por 'and' en las columnas category, sub_category y type mediante el método .replace()\n"
      ],
      "metadata": {
        "id": "4CjHW585nzgO"
      }
    },
    {
      "cell_type": "code",
      "source": [],
      "metadata": {
        "id": "j-FKnf6zIDwj"
      },
      "execution_count": null,
      "outputs": []
    },
    {
      "cell_type": "markdown",
      "source": [
        "9. Combina las columnas category y sub_category en una sola columna llamada complete_category mediante el método .cat(), usa como separador un guión"
      ],
      "metadata": {
        "id": "RpxQFKPIoCc3"
      }
    },
    {
      "cell_type": "code",
      "source": [],
      "metadata": {
        "id": "HBkvSMyHIE4b"
      },
      "execution_count": null,
      "outputs": []
    },
    {
      "cell_type": "markdown",
      "source": [
        "10. Convierte los elementos de la columna brand en mayúsculas"
      ],
      "metadata": {
        "id": "yhxjihX-oyTy"
      }
    },
    {
      "cell_type": "code",
      "source": [],
      "metadata": {
        "id": "2H0w46pXIFvr"
      },
      "execution_count": null,
      "outputs": []
    },
    {
      "cell_type": "markdown",
      "source": [
        "11. Nos comunican que todos los precios son números enteros por un criterio de negocio. Convierte las columnas sale_price_eur, market_price_eur y sale_price_dif en tipo int64 para ocupar menos memoria ya que no serán necesarios los decimales."
      ],
      "metadata": {
        "id": "GXxC95s1pmGY"
      }
    },
    {
      "cell_type": "code",
      "source": [],
      "metadata": {
        "id": "Kl_JdaRfIHw7"
      },
      "execution_count": null,
      "outputs": []
    }
  ]
}