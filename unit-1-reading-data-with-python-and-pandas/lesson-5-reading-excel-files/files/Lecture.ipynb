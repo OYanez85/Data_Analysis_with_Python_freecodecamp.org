{
  "cells": [
    {
      "cell_type": "markdown",
      "source": [
        "[![Open In Colab](https://colab.research.google.com/assets/colab-badge.svg)](https://colab.research.google.com/github/rmotr-curriculum/RDP-Reading-Data-with-Python-and-Pandas/blob/master/unit-1-reading-data-with-python-and-pandas/lesson-5-reading-excel-files/files/Lecture.ipynb#scrollTo=QbuermPOflJT)\n"
      ],
      "metadata": {
        "id": "QbuermPOflJT"
      }
    },
    {
      "cell_type": "markdown",
      "metadata": {
        "id": "aldctYz2eURU"
      },
      "source": [
        "![rmotr](https://user-images.githubusercontent.com/7065401/52071918-bda15380-2562-11e9-828c-7f95297e4a82.png)\n",
        "<hr style=\"margin-bottom: 40px;\">\n",
        "\n",
        "<img src=\"https://user-images.githubusercontent.com/7065401/68501079-0695df00-023c-11ea-841f-455dac84a089.jpg\"\n",
        "    style=\"width:400px; float: right; margin: 0 40px 40px 40px;\"></img>\n",
        "\n",
        "# Reading Excel files\n",
        "\n",
        "In this lecture we'll learn how to read Excel files (.xlsx) and its sheets into a pandas `DataFrame`s, and how to export that `DataFrame`s to different sheets and Excel files using the pandas `ExcelWriter` and `to_excel` methods."
      ]
    },
    {
      "cell_type": "markdown",
      "metadata": {
        "id": "SXTqGIkDeURY"
      },
      "source": [
        "![purple-divider](https://user-images.githubusercontent.com/7065401/52071927-c1cd7100-2562-11e9-908a-dde91ba14e59.png)\n",
        "\n",
        "## Hands on!"
      ]
    },
    {
      "cell_type": "code",
      "execution_count": null,
      "metadata": {
        "id": "3wCugVxjeURY"
      },
      "outputs": [],
      "source": [
        "import pandas as pd"
      ]
    },
    {
      "cell_type": "markdown",
      "metadata": {
        "id": "fEJjRqcheURa"
      },
      "source": [
        "![green-divider](https://user-images.githubusercontent.com/7065401/52071924-c003ad80-2562-11e9-8297-1c6595f8a7ff.png)\n",
        "\n",
        "## The `read_excel` method\n",
        "\n",
        "We'll begin with the **read_excel** method, that let us read Excel files into a `DataFrame`.\n",
        "\n",
        "This method supports both XLS and XLSX file extensions from a local filesystem or URL and has a broad set of parameters to configure how the data will be read and parsed. These parameters are very similar to the parameters we saw on previous lectures where we introduced the `read_csv` method. The most common parameters are as follows:\n",
        "\n",
        "- `filepath`: Path of the file to be read.\n",
        "- `sheet_name`: Strings are used for sheet names. Integers are used in zero-indexed sheet positions. Lists of strings/integers are used to request multiple sheets. Specify None to get all sheets.\n",
        "- `header`: Index of the row containing the names of the columns (None if none).\n",
        "- `index_col`: Index of the column or sequence of indexes that should be used as index of rows of the data.\n",
        "- `names`: Sequence containing the names of the columns (used together with header = None).\n",
        "- `skiprows`: Number of rows or sequence of row indexes to ignore in the load.\n",
        "- `na_values`: Sequence of values that, if found in the file, should be treated as NaN.\n",
        "- `dtype`: Dictionary in which the keys will be column names and the values will be types of NumPy to which their content must be converted.\n",
        "- `parse_dates`: Flag that indicates if Python should try to parse data with a format similar to dates as dates. You can enter a list of column names that must be joined for the parsing as a date.\n",
        "- `date_parser`: Function to use to try to parse dates.\n",
        "- `nrows`: Number of rows to read from the beginning of the file.\n",
        "- `skip_footer`: Number of rows to ignore at the end of the file.\n",
        "- `squeeze`: Flag that indicates that if the data read only contains one column the result is a Series instead of a DataFrame.\n",
        "- `thousands`: Character to use to detect the thousands separator.\n",
        "\n",
        "> Full `read_excel` documentation can be found here: https://pandas.pydata.org/pandas-docs/stable/reference/api/pandas.read_excel.html."
      ]
    },
    {
      "cell_type": "markdown",
      "metadata": {
        "id": "ZJ0pV6TdeURa"
      },
      "source": [
        "In this case we'll try to read our `products.xlsx` Excel file.\n",
        "\n",
        "This file contains records of products with its price, brand, description and merchant information on different sheets."
      ]
    },
    {
      "cell_type": "markdown",
      "metadata": {
        "id": "ihjStjGJeURb"
      },
      "source": [
        "![green-divider](https://user-images.githubusercontent.com/7065401/52071924-c003ad80-2562-11e9-8297-1c6595f8a7ff.png)\n",
        "\n",
        "## Reading our first Excel file\n",
        "\n",
        "Everytime we call `read_excel` method, we'll need to pass an explicit `filepath` parameter indicating the path where our Excel file is.\n",
        "\n",
        "Any valid string path is acceptable. The string could be a URL. Valid URL schemes include HTTP, FTP, S3, and file. For file URLs, a host is expected. A local file could be: `file://localhost/path/to/table.xlsx`."
      ]
    },
    {
      "cell_type": "code",
      "execution_count": null,
      "metadata": {
        "scrolled": false,
        "id": "xmfAr7PHeURb"
      },
      "outputs": [],
      "source": [
        "df = pd.read_excel('products.xlsx')"
      ]
    },
    {
      "cell_type": "code",
      "execution_count": null,
      "metadata": {
        "id": "mqpBggsieURc",
        "outputId": "9954f247-f98a-40c0-dcaa-7cf76d0db50a"
      },
      "outputs": [
        {
          "data": {
            "text/html": [
              "<div>\n",
              "<style scoped>\n",
              "    .dataframe tbody tr th:only-of-type {\n",
              "        vertical-align: middle;\n",
              "    }\n",
              "\n",
              "    .dataframe tbody tr th {\n",
              "        vertical-align: top;\n",
              "    }\n",
              "\n",
              "    .dataframe thead th {\n",
              "        text-align: right;\n",
              "    }\n",
              "</style>\n",
              "<table border=\"1\" class=\"dataframe\">\n",
              "  <thead>\n",
              "    <tr style=\"text-align: right;\">\n",
              "      <th></th>\n",
              "      <th>product_id</th>\n",
              "      <th>price</th>\n",
              "      <th>merchant_id</th>\n",
              "      <th>brand</th>\n",
              "      <th>name</th>\n",
              "    </tr>\n",
              "  </thead>\n",
              "  <tbody>\n",
              "    <tr>\n",
              "      <th>0</th>\n",
              "      <td>AVphzgbJLJeJML43fA0o</td>\n",
              "      <td>104.99</td>\n",
              "      <td>1001</td>\n",
              "      <td>Sanus</td>\n",
              "      <td>Sanus VLF410B1 10-Inch Super Slim Full-Motion ...</td>\n",
              "    </tr>\n",
              "    <tr>\n",
              "      <th>1</th>\n",
              "      <td>AVpgMuGwLJeJML43KY_c</td>\n",
              "      <td>69.00</td>\n",
              "      <td>1002</td>\n",
              "      <td>Boytone</td>\n",
              "      <td>Boytone - 2500W 2.1-Ch. Home Theater System - ...</td>\n",
              "    </tr>\n",
              "    <tr>\n",
              "      <th>2</th>\n",
              "      <td>AVpe9FXeLJeJML43zHrq</td>\n",
              "      <td>23.99</td>\n",
              "      <td>1001</td>\n",
              "      <td>DENAQ</td>\n",
              "      <td>DENAQ - AC Adapter for TOSHIBA SATELLITE</td>\n",
              "    </tr>\n",
              "    <tr>\n",
              "      <th>3</th>\n",
              "      <td>AVpfVJXu1cnluZ0-iwTT</td>\n",
              "      <td>290.99</td>\n",
              "      <td>1001</td>\n",
              "      <td>DreamWave</td>\n",
              "      <td>DreamWave - Tremor Portable Bluetooth Speaker ...</td>\n",
              "    </tr>\n",
              "    <tr>\n",
              "      <th>4</th>\n",
              "      <td>AVphUeKeilAPnD_x3-Be</td>\n",
              "      <td>244.01</td>\n",
              "      <td>1004</td>\n",
              "      <td>Yamaha</td>\n",
              "      <td>NS-SP1800BL 5.1-Channel Home Theater System (B...</td>\n",
              "    </tr>\n",
              "  </tbody>\n",
              "</table>\n",
              "</div>"
            ],
            "text/plain": [
              "             product_id   price  merchant_id      brand  \\\n",
              "0  AVphzgbJLJeJML43fA0o  104.99         1001      Sanus   \n",
              "1  AVpgMuGwLJeJML43KY_c   69.00         1002    Boytone   \n",
              "2  AVpe9FXeLJeJML43zHrq   23.99         1001      DENAQ   \n",
              "3  AVpfVJXu1cnluZ0-iwTT  290.99         1001  DreamWave   \n",
              "4  AVphUeKeilAPnD_x3-Be  244.01         1004     Yamaha   \n",
              "\n",
              "                                                name  \n",
              "0  Sanus VLF410B1 10-Inch Super Slim Full-Motion ...  \n",
              "1  Boytone - 2500W 2.1-Ch. Home Theater System - ...  \n",
              "2           DENAQ - AC Adapter for TOSHIBA SATELLITE  \n",
              "3  DreamWave - Tremor Portable Bluetooth Speaker ...  \n",
              "4  NS-SP1800BL 5.1-Channel Home Theater System (B...  "
            ]
          },
          "execution_count": 3,
          "metadata": {},
          "output_type": "execute_result"
        }
      ],
      "source": [
        "df.head()"
      ]
    },
    {
      "cell_type": "markdown",
      "metadata": {
        "id": "BwmdrTIheURd"
      },
      "source": [
        "In this case we let pandas infer everything related to our data, but in most of the cases we'll need to explicitly tell pandas how we want our data to be loaded. To do that we use parameters.\n",
        "\n",
        "Let's see how theses parameters work."
      ]
    },
    {
      "cell_type": "markdown",
      "metadata": {
        "id": "fQ-JXuekeURd"
      },
      "source": [
        "![green-divider](https://user-images.githubusercontent.com/7065401/52071924-c003ad80-2562-11e9-8297-1c6595f8a7ff.png)\n",
        "\n",
        "## First row behaviour with `header` parameter\n",
        "\n",
        "The Excel file we're reading has the following columns:\n",
        "\n",
        "- `product_id`\n",
        "- `price`\n",
        "- `merchant_id`\n",
        "- `brand`\n",
        "- `name`\n",
        "\n",
        "The first row (0-index) of the data has that column names, so we keep the implicit `header=0` parameter to let Pandas assign this first row as headers. We can overwrite this behavior defining explicitly the `header` parameter."
      ]
    },
    {
      "cell_type": "code",
      "execution_count": null,
      "metadata": {
        "id": "kIKizRxreURe",
        "outputId": "d53c6c85-c168-4c35-fd07-e2fe1234b00d"
      },
      "outputs": [
        {
          "data": {
            "text/html": [
              "<div>\n",
              "<style scoped>\n",
              "    .dataframe tbody tr th:only-of-type {\n",
              "        vertical-align: middle;\n",
              "    }\n",
              "\n",
              "    .dataframe tbody tr th {\n",
              "        vertical-align: top;\n",
              "    }\n",
              "\n",
              "    .dataframe thead th {\n",
              "        text-align: right;\n",
              "    }\n",
              "</style>\n",
              "<table border=\"1\" class=\"dataframe\">\n",
              "  <thead>\n",
              "    <tr style=\"text-align: right;\">\n",
              "      <th></th>\n",
              "      <th>product_id</th>\n",
              "      <th>price</th>\n",
              "      <th>merchant_id</th>\n",
              "      <th>brand</th>\n",
              "      <th>name</th>\n",
              "    </tr>\n",
              "  </thead>\n",
              "  <tbody>\n",
              "    <tr>\n",
              "      <th>0</th>\n",
              "      <td>AVphzgbJLJeJML43fA0o</td>\n",
              "      <td>104.99</td>\n",
              "      <td>1001</td>\n",
              "      <td>Sanus</td>\n",
              "      <td>Sanus VLF410B1 10-Inch Super Slim Full-Motion ...</td>\n",
              "    </tr>\n",
              "    <tr>\n",
              "      <th>1</th>\n",
              "      <td>AVpgMuGwLJeJML43KY_c</td>\n",
              "      <td>69.00</td>\n",
              "      <td>1002</td>\n",
              "      <td>Boytone</td>\n",
              "      <td>Boytone - 2500W 2.1-Ch. Home Theater System - ...</td>\n",
              "    </tr>\n",
              "    <tr>\n",
              "      <th>2</th>\n",
              "      <td>AVpe9FXeLJeJML43zHrq</td>\n",
              "      <td>23.99</td>\n",
              "      <td>1001</td>\n",
              "      <td>DENAQ</td>\n",
              "      <td>DENAQ - AC Adapter for TOSHIBA SATELLITE</td>\n",
              "    </tr>\n",
              "    <tr>\n",
              "      <th>3</th>\n",
              "      <td>AVpfVJXu1cnluZ0-iwTT</td>\n",
              "      <td>290.99</td>\n",
              "      <td>1001</td>\n",
              "      <td>DreamWave</td>\n",
              "      <td>DreamWave - Tremor Portable Bluetooth Speaker ...</td>\n",
              "    </tr>\n",
              "    <tr>\n",
              "      <th>4</th>\n",
              "      <td>AVphUeKeilAPnD_x3-Be</td>\n",
              "      <td>244.01</td>\n",
              "      <td>1004</td>\n",
              "      <td>Yamaha</td>\n",
              "      <td>NS-SP1800BL 5.1-Channel Home Theater System (B...</td>\n",
              "    </tr>\n",
              "  </tbody>\n",
              "</table>\n",
              "</div>"
            ],
            "text/plain": [
              "             product_id   price  merchant_id      brand  \\\n",
              "0  AVphzgbJLJeJML43fA0o  104.99         1001      Sanus   \n",
              "1  AVpgMuGwLJeJML43KY_c   69.00         1002    Boytone   \n",
              "2  AVpe9FXeLJeJML43zHrq   23.99         1001      DENAQ   \n",
              "3  AVpfVJXu1cnluZ0-iwTT  290.99         1001  DreamWave   \n",
              "4  AVphUeKeilAPnD_x3-Be  244.01         1004     Yamaha   \n",
              "\n",
              "                                                name  \n",
              "0  Sanus VLF410B1 10-Inch Super Slim Full-Motion ...  \n",
              "1  Boytone - 2500W 2.1-Ch. Home Theater System - ...  \n",
              "2           DENAQ - AC Adapter for TOSHIBA SATELLITE  \n",
              "3  DreamWave - Tremor Portable Bluetooth Speaker ...  \n",
              "4  NS-SP1800BL 5.1-Channel Home Theater System (B...  "
            ]
          },
          "execution_count": 4,
          "metadata": {},
          "output_type": "execute_result"
        }
      ],
      "source": [
        "pd.read_excel('products.xlsx').head()"
      ]
    },
    {
      "cell_type": "code",
      "execution_count": null,
      "metadata": {
        "id": "CnQhXi5KeURe",
        "outputId": "a54641a0-19cc-4d36-849b-2d83f9377c55"
      },
      "outputs": [
        {
          "data": {
            "text/html": [
              "<div>\n",
              "<style scoped>\n",
              "    .dataframe tbody tr th:only-of-type {\n",
              "        vertical-align: middle;\n",
              "    }\n",
              "\n",
              "    .dataframe tbody tr th {\n",
              "        vertical-align: top;\n",
              "    }\n",
              "\n",
              "    .dataframe thead th {\n",
              "        text-align: right;\n",
              "    }\n",
              "</style>\n",
              "<table border=\"1\" class=\"dataframe\">\n",
              "  <thead>\n",
              "    <tr style=\"text-align: right;\">\n",
              "      <th></th>\n",
              "      <th>0</th>\n",
              "      <th>1</th>\n",
              "      <th>2</th>\n",
              "      <th>3</th>\n",
              "      <th>4</th>\n",
              "    </tr>\n",
              "  </thead>\n",
              "  <tbody>\n",
              "    <tr>\n",
              "      <th>0</th>\n",
              "      <td>product_id</td>\n",
              "      <td>price</td>\n",
              "      <td>merchant_id</td>\n",
              "      <td>brand</td>\n",
              "      <td>name</td>\n",
              "    </tr>\n",
              "    <tr>\n",
              "      <th>1</th>\n",
              "      <td>AVphzgbJLJeJML43fA0o</td>\n",
              "      <td>104.99</td>\n",
              "      <td>1001</td>\n",
              "      <td>Sanus</td>\n",
              "      <td>Sanus VLF410B1 10-Inch Super Slim Full-Motion ...</td>\n",
              "    </tr>\n",
              "    <tr>\n",
              "      <th>2</th>\n",
              "      <td>AVpgMuGwLJeJML43KY_c</td>\n",
              "      <td>69</td>\n",
              "      <td>1002</td>\n",
              "      <td>Boytone</td>\n",
              "      <td>Boytone - 2500W 2.1-Ch. Home Theater System - ...</td>\n",
              "    </tr>\n",
              "    <tr>\n",
              "      <th>3</th>\n",
              "      <td>AVpe9FXeLJeJML43zHrq</td>\n",
              "      <td>23.99</td>\n",
              "      <td>1001</td>\n",
              "      <td>DENAQ</td>\n",
              "      <td>DENAQ - AC Adapter for TOSHIBA SATELLITE</td>\n",
              "    </tr>\n",
              "    <tr>\n",
              "      <th>4</th>\n",
              "      <td>AVpfVJXu1cnluZ0-iwTT</td>\n",
              "      <td>290.99</td>\n",
              "      <td>1001</td>\n",
              "      <td>DreamWave</td>\n",
              "      <td>DreamWave - Tremor Portable Bluetooth Speaker ...</td>\n",
              "    </tr>\n",
              "  </tbody>\n",
              "</table>\n",
              "</div>"
            ],
            "text/plain": [
              "                      0       1            2          3  \\\n",
              "0            product_id   price  merchant_id      brand   \n",
              "1  AVphzgbJLJeJML43fA0o  104.99         1001      Sanus   \n",
              "2  AVpgMuGwLJeJML43KY_c      69         1002    Boytone   \n",
              "3  AVpe9FXeLJeJML43zHrq   23.99         1001      DENAQ   \n",
              "4  AVpfVJXu1cnluZ0-iwTT  290.99         1001  DreamWave   \n",
              "\n",
              "                                                   4  \n",
              "0                                               name  \n",
              "1  Sanus VLF410B1 10-Inch Super Slim Full-Motion ...  \n",
              "2  Boytone - 2500W 2.1-Ch. Home Theater System - ...  \n",
              "3           DENAQ - AC Adapter for TOSHIBA SATELLITE  \n",
              "4  DreamWave - Tremor Portable Bluetooth Speaker ...  "
            ]
          },
          "execution_count": 5,
          "metadata": {},
          "output_type": "execute_result"
        }
      ],
      "source": [
        "pd.read_excel('products.xlsx',\n",
        "              header=None).head()"
      ]
    },
    {
      "cell_type": "markdown",
      "metadata": {
        "id": "rvKWRx8KeURe"
      },
      "source": [
        "![green-divider](https://user-images.githubusercontent.com/7065401/52071924-c003ad80-2562-11e9-8297-1c6595f8a7ff.png)\n",
        "\n",
        "## Adding index to our data using `index_col` parameter\n",
        "\n",
        "By default, pandas will automatically assign a numeric autoincremental index or row label starting with zero.\n",
        "\n",
        "You may want to leave the default index as such if your data doesn’t have a column with unique values that can serve as a better index.\n",
        "\n",
        "In case there is a column that you feel would serve as a better index, you can override the default behavior by setting `index_col` property to a column. It takes a numeric value or a string for setting a single column as index or a list of numeric values for creating a multi-index.\n",
        "\n",
        "In our data, we are choosing the first column, `product_id`, as index (index=0) by passing zero to the `index_col` argument."
      ]
    },
    {
      "cell_type": "code",
      "execution_count": null,
      "metadata": {
        "id": "d4Hey3qyeURf"
      },
      "outputs": [],
      "source": [
        "df = pd.read_excel('products.xlsx',\n",
        "                   index_col=[0])"
      ]
    },
    {
      "cell_type": "code",
      "execution_count": null,
      "metadata": {
        "id": "kmJ6Yp9geURf",
        "outputId": "264e1423-a598-4c54-85b9-18e378002b3b"
      },
      "outputs": [
        {
          "data": {
            "text/html": [
              "<div>\n",
              "<style scoped>\n",
              "    .dataframe tbody tr th:only-of-type {\n",
              "        vertical-align: middle;\n",
              "    }\n",
              "\n",
              "    .dataframe tbody tr th {\n",
              "        vertical-align: top;\n",
              "    }\n",
              "\n",
              "    .dataframe thead th {\n",
              "        text-align: right;\n",
              "    }\n",
              "</style>\n",
              "<table border=\"1\" class=\"dataframe\">\n",
              "  <thead>\n",
              "    <tr style=\"text-align: right;\">\n",
              "      <th></th>\n",
              "      <th>price</th>\n",
              "      <th>merchant_id</th>\n",
              "      <th>brand</th>\n",
              "      <th>name</th>\n",
              "    </tr>\n",
              "    <tr>\n",
              "      <th>product_id</th>\n",
              "      <th></th>\n",
              "      <th></th>\n",
              "      <th></th>\n",
              "      <th></th>\n",
              "    </tr>\n",
              "  </thead>\n",
              "  <tbody>\n",
              "    <tr>\n",
              "      <th>AVphzgbJLJeJML43fA0o</th>\n",
              "      <td>104.99</td>\n",
              "      <td>1001</td>\n",
              "      <td>Sanus</td>\n",
              "      <td>Sanus VLF410B1 10-Inch Super Slim Full-Motion ...</td>\n",
              "    </tr>\n",
              "    <tr>\n",
              "      <th>AVpgMuGwLJeJML43KY_c</th>\n",
              "      <td>69.00</td>\n",
              "      <td>1002</td>\n",
              "      <td>Boytone</td>\n",
              "      <td>Boytone - 2500W 2.1-Ch. Home Theater System - ...</td>\n",
              "    </tr>\n",
              "    <tr>\n",
              "      <th>AVpe9FXeLJeJML43zHrq</th>\n",
              "      <td>23.99</td>\n",
              "      <td>1001</td>\n",
              "      <td>DENAQ</td>\n",
              "      <td>DENAQ - AC Adapter for TOSHIBA SATELLITE</td>\n",
              "    </tr>\n",
              "    <tr>\n",
              "      <th>AVpfVJXu1cnluZ0-iwTT</th>\n",
              "      <td>290.99</td>\n",
              "      <td>1001</td>\n",
              "      <td>DreamWave</td>\n",
              "      <td>DreamWave - Tremor Portable Bluetooth Speaker ...</td>\n",
              "    </tr>\n",
              "    <tr>\n",
              "      <th>AVphUeKeilAPnD_x3-Be</th>\n",
              "      <td>244.01</td>\n",
              "      <td>1004</td>\n",
              "      <td>Yamaha</td>\n",
              "      <td>NS-SP1800BL 5.1-Channel Home Theater System (B...</td>\n",
              "    </tr>\n",
              "  </tbody>\n",
              "</table>\n",
              "</div>"
            ],
            "text/plain": [
              "                       price  merchant_id      brand  \\\n",
              "product_id                                             \n",
              "AVphzgbJLJeJML43fA0o  104.99         1001      Sanus   \n",
              "AVpgMuGwLJeJML43KY_c   69.00         1002    Boytone   \n",
              "AVpe9FXeLJeJML43zHrq   23.99         1001      DENAQ   \n",
              "AVpfVJXu1cnluZ0-iwTT  290.99         1001  DreamWave   \n",
              "AVphUeKeilAPnD_x3-Be  244.01         1004     Yamaha   \n",
              "\n",
              "                                                                   name  \n",
              "product_id                                                               \n",
              "AVphzgbJLJeJML43fA0o  Sanus VLF410B1 10-Inch Super Slim Full-Motion ...  \n",
              "AVpgMuGwLJeJML43KY_c  Boytone - 2500W 2.1-Ch. Home Theater System - ...  \n",
              "AVpe9FXeLJeJML43zHrq           DENAQ - AC Adapter for TOSHIBA SATELLITE  \n",
              "AVpfVJXu1cnluZ0-iwTT  DreamWave - Tremor Portable Bluetooth Speaker ...  \n",
              "AVphUeKeilAPnD_x3-Be  NS-SP1800BL 5.1-Channel Home Theater System (B...  "
            ]
          },
          "execution_count": 5,
          "metadata": {},
          "output_type": "execute_result"
        }
      ],
      "source": [
        "df.head()"
      ]
    },
    {
      "cell_type": "markdown",
      "metadata": {
        "id": "dZzh3G8eeURf"
      },
      "source": [
        "![green-divider](https://user-images.githubusercontent.com/7065401/52071924-c003ad80-2562-11e9-8297-1c6595f8a7ff.png)\n",
        "\n",
        "## Selecting specific sheets\n",
        "\n",
        "Excel files quite often have multiple sheets and the ability to read a specific sheet or all of them is very important. To make this easy, the pandas `read_excel` method takes an argument called `sheet_name` that tells pandas which sheet to read in the data from.\n",
        "\n",
        "For this, you can either use the sheet name or the sheet number. Sheet numbers start with zero. The first sheet will be the one loaded by default. You can change sheet by specifying `sheet_name` parameter."
      ]
    },
    {
      "cell_type": "code",
      "execution_count": null,
      "metadata": {
        "id": "i-unvLLyeURg"
      },
      "outputs": [],
      "source": [
        "products = pd.read_excel('products.xlsx',\n",
        "                         sheet_name='Products',\n",
        "                         index_col='product_id')"
      ]
    },
    {
      "cell_type": "code",
      "execution_count": null,
      "metadata": {
        "id": "-SzGhNAweURg",
        "outputId": "752b0421-9fb8-4e1b-c57d-b4d80bdae6af"
      },
      "outputs": [
        {
          "data": {
            "text/html": [
              "<div>\n",
              "<style scoped>\n",
              "    .dataframe tbody tr th:only-of-type {\n",
              "        vertical-align: middle;\n",
              "    }\n",
              "\n",
              "    .dataframe tbody tr th {\n",
              "        vertical-align: top;\n",
              "    }\n",
              "\n",
              "    .dataframe thead th {\n",
              "        text-align: right;\n",
              "    }\n",
              "</style>\n",
              "<table border=\"1\" class=\"dataframe\">\n",
              "  <thead>\n",
              "    <tr style=\"text-align: right;\">\n",
              "      <th></th>\n",
              "      <th>price</th>\n",
              "      <th>merchant_id</th>\n",
              "      <th>brand</th>\n",
              "      <th>name</th>\n",
              "    </tr>\n",
              "    <tr>\n",
              "      <th>product_id</th>\n",
              "      <th></th>\n",
              "      <th></th>\n",
              "      <th></th>\n",
              "      <th></th>\n",
              "    </tr>\n",
              "  </thead>\n",
              "  <tbody>\n",
              "    <tr>\n",
              "      <th>AVphzgbJLJeJML43fA0o</th>\n",
              "      <td>104.99</td>\n",
              "      <td>1001</td>\n",
              "      <td>Sanus</td>\n",
              "      <td>Sanus VLF410B1 10-Inch Super Slim Full-Motion ...</td>\n",
              "    </tr>\n",
              "    <tr>\n",
              "      <th>AVpgMuGwLJeJML43KY_c</th>\n",
              "      <td>69.00</td>\n",
              "      <td>1002</td>\n",
              "      <td>Boytone</td>\n",
              "      <td>Boytone - 2500W 2.1-Ch. Home Theater System - ...</td>\n",
              "    </tr>\n",
              "    <tr>\n",
              "      <th>AVpe9FXeLJeJML43zHrq</th>\n",
              "      <td>23.99</td>\n",
              "      <td>1001</td>\n",
              "      <td>DENAQ</td>\n",
              "      <td>DENAQ - AC Adapter for TOSHIBA SATELLITE</td>\n",
              "    </tr>\n",
              "    <tr>\n",
              "      <th>AVpfVJXu1cnluZ0-iwTT</th>\n",
              "      <td>290.99</td>\n",
              "      <td>1001</td>\n",
              "      <td>DreamWave</td>\n",
              "      <td>DreamWave - Tremor Portable Bluetooth Speaker ...</td>\n",
              "    </tr>\n",
              "    <tr>\n",
              "      <th>AVphUeKeilAPnD_x3-Be</th>\n",
              "      <td>244.01</td>\n",
              "      <td>1004</td>\n",
              "      <td>Yamaha</td>\n",
              "      <td>NS-SP1800BL 5.1-Channel Home Theater System (B...</td>\n",
              "    </tr>\n",
              "  </tbody>\n",
              "</table>\n",
              "</div>"
            ],
            "text/plain": [
              "                       price  merchant_id      brand  \\\n",
              "product_id                                             \n",
              "AVphzgbJLJeJML43fA0o  104.99         1001      Sanus   \n",
              "AVpgMuGwLJeJML43KY_c   69.00         1002    Boytone   \n",
              "AVpe9FXeLJeJML43zHrq   23.99         1001      DENAQ   \n",
              "AVpfVJXu1cnluZ0-iwTT  290.99         1001  DreamWave   \n",
              "AVphUeKeilAPnD_x3-Be  244.01         1004     Yamaha   \n",
              "\n",
              "                                                                   name  \n",
              "product_id                                                               \n",
              "AVphzgbJLJeJML43fA0o  Sanus VLF410B1 10-Inch Super Slim Full-Motion ...  \n",
              "AVpgMuGwLJeJML43KY_c  Boytone - 2500W 2.1-Ch. Home Theater System - ...  \n",
              "AVpe9FXeLJeJML43zHrq           DENAQ - AC Adapter for TOSHIBA SATELLITE  \n",
              "AVpfVJXu1cnluZ0-iwTT  DreamWave - Tremor Portable Bluetooth Speaker ...  \n",
              "AVphUeKeilAPnD_x3-Be  NS-SP1800BL 5.1-Channel Home Theater System (B...  "
            ]
          },
          "execution_count": 9,
          "metadata": {},
          "output_type": "execute_result"
        }
      ],
      "source": [
        "products.head()"
      ]
    },
    {
      "cell_type": "code",
      "execution_count": null,
      "metadata": {
        "scrolled": false,
        "id": "oYug0K4-eURg"
      },
      "outputs": [],
      "source": [
        "merchants = pd.read_excel('products.xlsx',\n",
        "                          sheet_name='Merchants',\n",
        "                          index_col='merchant_id')"
      ]
    },
    {
      "cell_type": "code",
      "execution_count": null,
      "metadata": {
        "id": "-dA_uEjaeURg",
        "outputId": "53b61670-75d0-40ee-b025-d37da19588b9"
      },
      "outputs": [
        {
          "data": {
            "text/html": [
              "<div>\n",
              "<style scoped>\n",
              "    .dataframe tbody tr th:only-of-type {\n",
              "        vertical-align: middle;\n",
              "    }\n",
              "\n",
              "    .dataframe tbody tr th {\n",
              "        vertical-align: top;\n",
              "    }\n",
              "\n",
              "    .dataframe thead th {\n",
              "        text-align: right;\n",
              "    }\n",
              "</style>\n",
              "<table border=\"1\" class=\"dataframe\">\n",
              "  <thead>\n",
              "    <tr style=\"text-align: right;\">\n",
              "      <th></th>\n",
              "      <th>merchant</th>\n",
              "    </tr>\n",
              "    <tr>\n",
              "      <th>merchant_id</th>\n",
              "      <th></th>\n",
              "    </tr>\n",
              "  </thead>\n",
              "  <tbody>\n",
              "    <tr>\n",
              "      <th>1001</th>\n",
              "      <td>Bestbuy.com</td>\n",
              "    </tr>\n",
              "    <tr>\n",
              "      <th>1002</th>\n",
              "      <td>Walmart.com</td>\n",
              "    </tr>\n",
              "    <tr>\n",
              "      <th>1003</th>\n",
              "      <td>Bestbuy.com</td>\n",
              "    </tr>\n",
              "    <tr>\n",
              "      <th>1004</th>\n",
              "      <td>Growkart</td>\n",
              "    </tr>\n",
              "    <tr>\n",
              "      <th>1005</th>\n",
              "      <td>bhphotovideo.com</td>\n",
              "    </tr>\n",
              "  </tbody>\n",
              "</table>\n",
              "</div>"
            ],
            "text/plain": [
              "                     merchant\n",
              "merchant_id                  \n",
              "1001              Bestbuy.com\n",
              "1002              Walmart.com\n",
              "1003              Bestbuy.com\n",
              "1004                 Growkart\n",
              "1005         bhphotovideo.com"
            ]
          },
          "execution_count": 11,
          "metadata": {},
          "output_type": "execute_result"
        }
      ],
      "source": [
        "merchants.head()"
      ]
    },
    {
      "cell_type": "markdown",
      "metadata": {
        "id": "BnpkrqzPeURh"
      },
      "source": [
        "![green-divider](https://user-images.githubusercontent.com/7065401/52071924-c003ad80-2562-11e9-8297-1c6595f8a7ff.png)\n",
        "\n",
        "## The `ExcelFile` class\n",
        "\n",
        "Another approach on reading Excel data is using the `ExcelFile` class for parsing tabular Excel sheets into `DataFrame` objects.\n",
        "\n",
        "This `ExcelFile` will let us work with sheets easily, and will be faster than the previous `read_excel` method."
      ]
    },
    {
      "cell_type": "code",
      "execution_count": null,
      "metadata": {
        "id": "z7Rt2WGHeURh"
      },
      "outputs": [],
      "source": [
        "excel_file = pd.ExcelFile('products.xlsx')"
      ]
    },
    {
      "cell_type": "markdown",
      "metadata": {
        "id": "FRpeRHqNeURh"
      },
      "source": [
        "We can now explore the sheets on that Excel file with `sheet_names`:"
      ]
    },
    {
      "cell_type": "code",
      "execution_count": null,
      "metadata": {
        "id": "m6wIdtQteURh",
        "outputId": "8c4f21bd-2a01-4540-fdb1-515f374750d3"
      },
      "outputs": [
        {
          "data": {
            "text/plain": [
              "['Products', 'Descriptions', 'Merchants']"
            ]
          },
          "execution_count": 13,
          "metadata": {},
          "output_type": "execute_result"
        }
      ],
      "source": [
        "excel_file.sheet_names"
      ]
    },
    {
      "cell_type": "markdown",
      "metadata": {
        "id": "LOdmSp2weURh"
      },
      "source": [
        "And parse specified sheet(s) into a Pandas' `DataFrame` using ExcelFile's `parse()` method.\n",
        "\n",
        "Everytime we call `parse()` method, we'll need to pass an explicit `sheet_name` parameter indicating which sheet from the Excel file we want to be parsed. First sheet will be parsed by default."
      ]
    },
    {
      "cell_type": "code",
      "execution_count": null,
      "metadata": {
        "id": "duP-BMhheURh"
      },
      "outputs": [],
      "source": [
        "products = excel_file.parse('Products')"
      ]
    },
    {
      "cell_type": "code",
      "execution_count": null,
      "metadata": {
        "id": "VoLwg4kzeURi",
        "outputId": "acda78b6-9fea-4da2-b753-f447895245a7"
      },
      "outputs": [
        {
          "data": {
            "text/html": [
              "<div>\n",
              "<style scoped>\n",
              "    .dataframe tbody tr th:only-of-type {\n",
              "        vertical-align: middle;\n",
              "    }\n",
              "\n",
              "    .dataframe tbody tr th {\n",
              "        vertical-align: top;\n",
              "    }\n",
              "\n",
              "    .dataframe thead th {\n",
              "        text-align: right;\n",
              "    }\n",
              "</style>\n",
              "<table border=\"1\" class=\"dataframe\">\n",
              "  <thead>\n",
              "    <tr style=\"text-align: right;\">\n",
              "      <th></th>\n",
              "      <th>product_id</th>\n",
              "      <th>price</th>\n",
              "      <th>merchant_id</th>\n",
              "      <th>brand</th>\n",
              "      <th>name</th>\n",
              "    </tr>\n",
              "  </thead>\n",
              "  <tbody>\n",
              "    <tr>\n",
              "      <th>0</th>\n",
              "      <td>AVphzgbJLJeJML43fA0o</td>\n",
              "      <td>104.99</td>\n",
              "      <td>1001</td>\n",
              "      <td>Sanus</td>\n",
              "      <td>Sanus VLF410B1 10-Inch Super Slim Full-Motion ...</td>\n",
              "    </tr>\n",
              "    <tr>\n",
              "      <th>1</th>\n",
              "      <td>AVpgMuGwLJeJML43KY_c</td>\n",
              "      <td>69.00</td>\n",
              "      <td>1002</td>\n",
              "      <td>Boytone</td>\n",
              "      <td>Boytone - 2500W 2.1-Ch. Home Theater System - ...</td>\n",
              "    </tr>\n",
              "    <tr>\n",
              "      <th>2</th>\n",
              "      <td>AVpe9FXeLJeJML43zHrq</td>\n",
              "      <td>23.99</td>\n",
              "      <td>1001</td>\n",
              "      <td>DENAQ</td>\n",
              "      <td>DENAQ - AC Adapter for TOSHIBA SATELLITE</td>\n",
              "    </tr>\n",
              "    <tr>\n",
              "      <th>3</th>\n",
              "      <td>AVpfVJXu1cnluZ0-iwTT</td>\n",
              "      <td>290.99</td>\n",
              "      <td>1001</td>\n",
              "      <td>DreamWave</td>\n",
              "      <td>DreamWave - Tremor Portable Bluetooth Speaker ...</td>\n",
              "    </tr>\n",
              "    <tr>\n",
              "      <th>4</th>\n",
              "      <td>AVphUeKeilAPnD_x3-Be</td>\n",
              "      <td>244.01</td>\n",
              "      <td>1004</td>\n",
              "      <td>Yamaha</td>\n",
              "      <td>NS-SP1800BL 5.1-Channel Home Theater System (B...</td>\n",
              "    </tr>\n",
              "  </tbody>\n",
              "</table>\n",
              "</div>"
            ],
            "text/plain": [
              "             product_id   price  merchant_id      brand  \\\n",
              "0  AVphzgbJLJeJML43fA0o  104.99         1001      Sanus   \n",
              "1  AVpgMuGwLJeJML43KY_c   69.00         1002    Boytone   \n",
              "2  AVpe9FXeLJeJML43zHrq   23.99         1001      DENAQ   \n",
              "3  AVpfVJXu1cnluZ0-iwTT  290.99         1001  DreamWave   \n",
              "4  AVphUeKeilAPnD_x3-Be  244.01         1004     Yamaha   \n",
              "\n",
              "                                                name  \n",
              "0  Sanus VLF410B1 10-Inch Super Slim Full-Motion ...  \n",
              "1  Boytone - 2500W 2.1-Ch. Home Theater System - ...  \n",
              "2           DENAQ - AC Adapter for TOSHIBA SATELLITE  \n",
              "3  DreamWave - Tremor Portable Bluetooth Speaker ...  \n",
              "4  NS-SP1800BL 5.1-Channel Home Theater System (B...  "
            ]
          },
          "execution_count": 15,
          "metadata": {},
          "output_type": "execute_result"
        }
      ],
      "source": [
        "products.head()"
      ]
    },
    {
      "cell_type": "markdown",
      "metadata": {
        "id": "Kn36PH_OeURi"
      },
      "source": [
        "This `parse()` method has all the parameters we saw before on `read_excel()` method, let's try some of them:"
      ]
    },
    {
      "cell_type": "code",
      "execution_count": null,
      "metadata": {
        "id": "0TwoZw4reURi"
      },
      "outputs": [],
      "source": [
        "products = excel_file.parse(sheet_name='Products',\n",
        "                            header=0,\n",
        "                            index_col='product_id')"
      ]
    },
    {
      "cell_type": "code",
      "execution_count": null,
      "metadata": {
        "id": "3JFM54NBeURi",
        "outputId": "3151ba8d-9468-4d3d-e5c1-e4ae72663219"
      },
      "outputs": [
        {
          "data": {
            "text/html": [
              "<div>\n",
              "<style scoped>\n",
              "    .dataframe tbody tr th:only-of-type {\n",
              "        vertical-align: middle;\n",
              "    }\n",
              "\n",
              "    .dataframe tbody tr th {\n",
              "        vertical-align: top;\n",
              "    }\n",
              "\n",
              "    .dataframe thead th {\n",
              "        text-align: right;\n",
              "    }\n",
              "</style>\n",
              "<table border=\"1\" class=\"dataframe\">\n",
              "  <thead>\n",
              "    <tr style=\"text-align: right;\">\n",
              "      <th></th>\n",
              "      <th>price</th>\n",
              "      <th>merchant_id</th>\n",
              "      <th>brand</th>\n",
              "      <th>name</th>\n",
              "    </tr>\n",
              "    <tr>\n",
              "      <th>product_id</th>\n",
              "      <th></th>\n",
              "      <th></th>\n",
              "      <th></th>\n",
              "      <th></th>\n",
              "    </tr>\n",
              "  </thead>\n",
              "  <tbody>\n",
              "    <tr>\n",
              "      <th>AVphzgbJLJeJML43fA0o</th>\n",
              "      <td>104.99</td>\n",
              "      <td>1001</td>\n",
              "      <td>Sanus</td>\n",
              "      <td>Sanus VLF410B1 10-Inch Super Slim Full-Motion ...</td>\n",
              "    </tr>\n",
              "    <tr>\n",
              "      <th>AVpgMuGwLJeJML43KY_c</th>\n",
              "      <td>69.00</td>\n",
              "      <td>1002</td>\n",
              "      <td>Boytone</td>\n",
              "      <td>Boytone - 2500W 2.1-Ch. Home Theater System - ...</td>\n",
              "    </tr>\n",
              "    <tr>\n",
              "      <th>AVpe9FXeLJeJML43zHrq</th>\n",
              "      <td>23.99</td>\n",
              "      <td>1001</td>\n",
              "      <td>DENAQ</td>\n",
              "      <td>DENAQ - AC Adapter for TOSHIBA SATELLITE</td>\n",
              "    </tr>\n",
              "    <tr>\n",
              "      <th>AVpfVJXu1cnluZ0-iwTT</th>\n",
              "      <td>290.99</td>\n",
              "      <td>1001</td>\n",
              "      <td>DreamWave</td>\n",
              "      <td>DreamWave - Tremor Portable Bluetooth Speaker ...</td>\n",
              "    </tr>\n",
              "    <tr>\n",
              "      <th>AVphUeKeilAPnD_x3-Be</th>\n",
              "      <td>244.01</td>\n",
              "      <td>1004</td>\n",
              "      <td>Yamaha</td>\n",
              "      <td>NS-SP1800BL 5.1-Channel Home Theater System (B...</td>\n",
              "    </tr>\n",
              "  </tbody>\n",
              "</table>\n",
              "</div>"
            ],
            "text/plain": [
              "                       price  merchant_id      brand  \\\n",
              "product_id                                             \n",
              "AVphzgbJLJeJML43fA0o  104.99         1001      Sanus   \n",
              "AVpgMuGwLJeJML43KY_c   69.00         1002    Boytone   \n",
              "AVpe9FXeLJeJML43zHrq   23.99         1001      DENAQ   \n",
              "AVpfVJXu1cnluZ0-iwTT  290.99         1001  DreamWave   \n",
              "AVphUeKeilAPnD_x3-Be  244.01         1004     Yamaha   \n",
              "\n",
              "                                                                   name  \n",
              "product_id                                                               \n",
              "AVphzgbJLJeJML43fA0o  Sanus VLF410B1 10-Inch Super Slim Full-Motion ...  \n",
              "AVpgMuGwLJeJML43KY_c  Boytone - 2500W 2.1-Ch. Home Theater System - ...  \n",
              "AVpe9FXeLJeJML43zHrq           DENAQ - AC Adapter for TOSHIBA SATELLITE  \n",
              "AVpfVJXu1cnluZ0-iwTT  DreamWave - Tremor Portable Bluetooth Speaker ...  \n",
              "AVphUeKeilAPnD_x3-Be  NS-SP1800BL 5.1-Channel Home Theater System (B...  "
            ]
          },
          "execution_count": 17,
          "metadata": {},
          "output_type": "execute_result"
        }
      ],
      "source": [
        "products.head()"
      ]
    },
    {
      "cell_type": "code",
      "execution_count": null,
      "metadata": {
        "id": "MDMVve_keURi",
        "outputId": "70f3d1d0-15c8-4abb-eb85-e8ca5c859126"
      },
      "outputs": [
        {
          "data": {
            "text/plain": [
              "price          float64\n",
              "merchant_id      int64\n",
              "brand           object\n",
              "name            object\n",
              "dtype: object"
            ]
          },
          "execution_count": 18,
          "metadata": {},
          "output_type": "execute_result"
        }
      ],
      "source": [
        "products.dtypes"
      ]
    },
    {
      "cell_type": "code",
      "execution_count": null,
      "metadata": {
        "id": "_E8sn9TgeURj"
      },
      "outputs": [],
      "source": [
        "merchants = excel_file.parse('Merchants',\n",
        "                             index_col='merchant_id')"
      ]
    },
    {
      "cell_type": "code",
      "execution_count": null,
      "metadata": {
        "id": "C2mG6lKzeURj",
        "outputId": "0ae211ca-29d8-477c-be52-12ed63366b6e"
      },
      "outputs": [
        {
          "data": {
            "text/html": [
              "<div>\n",
              "<style scoped>\n",
              "    .dataframe tbody tr th:only-of-type {\n",
              "        vertical-align: middle;\n",
              "    }\n",
              "\n",
              "    .dataframe tbody tr th {\n",
              "        vertical-align: top;\n",
              "    }\n",
              "\n",
              "    .dataframe thead th {\n",
              "        text-align: right;\n",
              "    }\n",
              "</style>\n",
              "<table border=\"1\" class=\"dataframe\">\n",
              "  <thead>\n",
              "    <tr style=\"text-align: right;\">\n",
              "      <th></th>\n",
              "      <th>merchant</th>\n",
              "    </tr>\n",
              "    <tr>\n",
              "      <th>merchant_id</th>\n",
              "      <th></th>\n",
              "    </tr>\n",
              "  </thead>\n",
              "  <tbody>\n",
              "    <tr>\n",
              "      <th>1001</th>\n",
              "      <td>Bestbuy.com</td>\n",
              "    </tr>\n",
              "    <tr>\n",
              "      <th>1002</th>\n",
              "      <td>Walmart.com</td>\n",
              "    </tr>\n",
              "    <tr>\n",
              "      <th>1003</th>\n",
              "      <td>Bestbuy.com</td>\n",
              "    </tr>\n",
              "    <tr>\n",
              "      <th>1004</th>\n",
              "      <td>Growkart</td>\n",
              "    </tr>\n",
              "    <tr>\n",
              "      <th>1005</th>\n",
              "      <td>bhphotovideo.com</td>\n",
              "    </tr>\n",
              "  </tbody>\n",
              "</table>\n",
              "</div>"
            ],
            "text/plain": [
              "                     merchant\n",
              "merchant_id                  \n",
              "1001              Bestbuy.com\n",
              "1002              Walmart.com\n",
              "1003              Bestbuy.com\n",
              "1004                 Growkart\n",
              "1005         bhphotovideo.com"
            ]
          },
          "execution_count": 20,
          "metadata": {},
          "output_type": "execute_result"
        }
      ],
      "source": [
        "merchants.head()"
      ]
    },
    {
      "cell_type": "code",
      "execution_count": null,
      "metadata": {
        "id": "LTDUOBeBeURj",
        "outputId": "e7896000-bfd5-4373-8ca4-828cd0fb5179"
      },
      "outputs": [
        {
          "data": {
            "text/plain": [
              "merchant    object\n",
              "dtype: object"
            ]
          },
          "execution_count": 21,
          "metadata": {},
          "output_type": "execute_result"
        }
      ],
      "source": [
        "merchants.dtypes"
      ]
    },
    {
      "cell_type": "markdown",
      "metadata": {
        "id": "ORGR3o2meURk"
      },
      "source": [
        "![green-divider](https://user-images.githubusercontent.com/7065401/52071924-c003ad80-2562-11e9-8297-1c6595f8a7ff.png)\n",
        "\n",
        "## Save to Excel file\n",
        "\n",
        "Finally we can save our `DataFrame` as a Excel file."
      ]
    },
    {
      "cell_type": "code",
      "execution_count": null,
      "metadata": {
        "id": "CTouyhoTeURk",
        "outputId": "076f6d72-7735-406f-e1e1-ae8ea5777e01"
      },
      "outputs": [
        {
          "data": {
            "text/html": [
              "<div>\n",
              "<style scoped>\n",
              "    .dataframe tbody tr th:only-of-type {\n",
              "        vertical-align: middle;\n",
              "    }\n",
              "\n",
              "    .dataframe tbody tr th {\n",
              "        vertical-align: top;\n",
              "    }\n",
              "\n",
              "    .dataframe thead th {\n",
              "        text-align: right;\n",
              "    }\n",
              "</style>\n",
              "<table border=\"1\" class=\"dataframe\">\n",
              "  <thead>\n",
              "    <tr style=\"text-align: right;\">\n",
              "      <th></th>\n",
              "      <th>price</th>\n",
              "      <th>merchant_id</th>\n",
              "      <th>brand</th>\n",
              "      <th>name</th>\n",
              "    </tr>\n",
              "    <tr>\n",
              "      <th>product_id</th>\n",
              "      <th></th>\n",
              "      <th></th>\n",
              "      <th></th>\n",
              "      <th></th>\n",
              "    </tr>\n",
              "  </thead>\n",
              "  <tbody>\n",
              "    <tr>\n",
              "      <th>AVphzgbJLJeJML43fA0o</th>\n",
              "      <td>104.99</td>\n",
              "      <td>1001</td>\n",
              "      <td>Sanus</td>\n",
              "      <td>Sanus VLF410B1 10-Inch Super Slim Full-Motion ...</td>\n",
              "    </tr>\n",
              "    <tr>\n",
              "      <th>AVpgMuGwLJeJML43KY_c</th>\n",
              "      <td>69.00</td>\n",
              "      <td>1002</td>\n",
              "      <td>Boytone</td>\n",
              "      <td>Boytone - 2500W 2.1-Ch. Home Theater System - ...</td>\n",
              "    </tr>\n",
              "    <tr>\n",
              "      <th>AVpe9FXeLJeJML43zHrq</th>\n",
              "      <td>23.99</td>\n",
              "      <td>1001</td>\n",
              "      <td>DENAQ</td>\n",
              "      <td>DENAQ - AC Adapter for TOSHIBA SATELLITE</td>\n",
              "    </tr>\n",
              "    <tr>\n",
              "      <th>AVpfVJXu1cnluZ0-iwTT</th>\n",
              "      <td>290.99</td>\n",
              "      <td>1001</td>\n",
              "      <td>DreamWave</td>\n",
              "      <td>DreamWave - Tremor Portable Bluetooth Speaker ...</td>\n",
              "    </tr>\n",
              "    <tr>\n",
              "      <th>AVphUeKeilAPnD_x3-Be</th>\n",
              "      <td>244.01</td>\n",
              "      <td>1004</td>\n",
              "      <td>Yamaha</td>\n",
              "      <td>NS-SP1800BL 5.1-Channel Home Theater System (B...</td>\n",
              "    </tr>\n",
              "  </tbody>\n",
              "</table>\n",
              "</div>"
            ],
            "text/plain": [
              "                       price  merchant_id      brand  \\\n",
              "product_id                                             \n",
              "AVphzgbJLJeJML43fA0o  104.99         1001      Sanus   \n",
              "AVpgMuGwLJeJML43KY_c   69.00         1002    Boytone   \n",
              "AVpe9FXeLJeJML43zHrq   23.99         1001      DENAQ   \n",
              "AVpfVJXu1cnluZ0-iwTT  290.99         1001  DreamWave   \n",
              "AVphUeKeilAPnD_x3-Be  244.01         1004     Yamaha   \n",
              "\n",
              "                                                                   name  \n",
              "product_id                                                               \n",
              "AVphzgbJLJeJML43fA0o  Sanus VLF410B1 10-Inch Super Slim Full-Motion ...  \n",
              "AVpgMuGwLJeJML43KY_c  Boytone - 2500W 2.1-Ch. Home Theater System - ...  \n",
              "AVpe9FXeLJeJML43zHrq           DENAQ - AC Adapter for TOSHIBA SATELLITE  \n",
              "AVpfVJXu1cnluZ0-iwTT  DreamWave - Tremor Portable Bluetooth Speaker ...  \n",
              "AVphUeKeilAPnD_x3-Be  NS-SP1800BL 5.1-Channel Home Theater System (B...  "
            ]
          },
          "execution_count": 22,
          "metadata": {},
          "output_type": "execute_result"
        }
      ],
      "source": [
        "products.head()"
      ]
    },
    {
      "cell_type": "markdown",
      "metadata": {
        "id": "YBAFZjioeURk"
      },
      "source": [
        "A fast, simple way to write a single `DataFrame` to an Excel file is to use the `to_excel()` method of the `DataFrame` directly.\n",
        "\n",
        "Note that it's required to pass a output file path.\n",
        "\n",
        "> The `OpenPyXL - openpyxl` library should be installed in order to save Excel files. `pip install openpyxl`"
      ]
    },
    {
      "cell_type": "code",
      "execution_count": null,
      "metadata": {
        "id": "AME0CrHBeURk"
      },
      "outputs": [],
      "source": [
        "products.to_excel('out.xlsx')"
      ]
    },
    {
      "cell_type": "code",
      "execution_count": null,
      "metadata": {
        "id": "1IvRh1h9eURk",
        "outputId": "26220047-44dd-425c-a8ea-5db07ef92ee3"
      },
      "outputs": [
        {
          "data": {
            "text/html": [
              "<div>\n",
              "<style scoped>\n",
              "    .dataframe tbody tr th:only-of-type {\n",
              "        vertical-align: middle;\n",
              "    }\n",
              "\n",
              "    .dataframe tbody tr th {\n",
              "        vertical-align: top;\n",
              "    }\n",
              "\n",
              "    .dataframe thead th {\n",
              "        text-align: right;\n",
              "    }\n",
              "</style>\n",
              "<table border=\"1\" class=\"dataframe\">\n",
              "  <thead>\n",
              "    <tr style=\"text-align: right;\">\n",
              "      <th></th>\n",
              "      <th>product_id</th>\n",
              "      <th>price</th>\n",
              "      <th>merchant_id</th>\n",
              "      <th>brand</th>\n",
              "      <th>name</th>\n",
              "    </tr>\n",
              "  </thead>\n",
              "  <tbody>\n",
              "    <tr>\n",
              "      <th>0</th>\n",
              "      <td>AVphzgbJLJeJML43fA0o</td>\n",
              "      <td>104.99</td>\n",
              "      <td>1001</td>\n",
              "      <td>Sanus</td>\n",
              "      <td>Sanus VLF410B1 10-Inch Super Slim Full-Motion ...</td>\n",
              "    </tr>\n",
              "    <tr>\n",
              "      <th>1</th>\n",
              "      <td>AVpgMuGwLJeJML43KY_c</td>\n",
              "      <td>69.00</td>\n",
              "      <td>1002</td>\n",
              "      <td>Boytone</td>\n",
              "      <td>Boytone - 2500W 2.1-Ch. Home Theater System - ...</td>\n",
              "    </tr>\n",
              "    <tr>\n",
              "      <th>2</th>\n",
              "      <td>AVpe9FXeLJeJML43zHrq</td>\n",
              "      <td>23.99</td>\n",
              "      <td>1001</td>\n",
              "      <td>DENAQ</td>\n",
              "      <td>DENAQ - AC Adapter for TOSHIBA SATELLITE</td>\n",
              "    </tr>\n",
              "    <tr>\n",
              "      <th>3</th>\n",
              "      <td>AVpfVJXu1cnluZ0-iwTT</td>\n",
              "      <td>290.99</td>\n",
              "      <td>1001</td>\n",
              "      <td>DreamWave</td>\n",
              "      <td>DreamWave - Tremor Portable Bluetooth Speaker ...</td>\n",
              "    </tr>\n",
              "    <tr>\n",
              "      <th>4</th>\n",
              "      <td>AVphUeKeilAPnD_x3-Be</td>\n",
              "      <td>244.01</td>\n",
              "      <td>1004</td>\n",
              "      <td>Yamaha</td>\n",
              "      <td>NS-SP1800BL 5.1-Channel Home Theater System (B...</td>\n",
              "    </tr>\n",
              "  </tbody>\n",
              "</table>\n",
              "</div>"
            ],
            "text/plain": [
              "             product_id   price  merchant_id      brand  \\\n",
              "0  AVphzgbJLJeJML43fA0o  104.99         1001      Sanus   \n",
              "1  AVpgMuGwLJeJML43KY_c   69.00         1002    Boytone   \n",
              "2  AVpe9FXeLJeJML43zHrq   23.99         1001      DENAQ   \n",
              "3  AVpfVJXu1cnluZ0-iwTT  290.99         1001  DreamWave   \n",
              "4  AVphUeKeilAPnD_x3-Be  244.01         1004     Yamaha   \n",
              "\n",
              "                                                name  \n",
              "0  Sanus VLF410B1 10-Inch Super Slim Full-Motion ...  \n",
              "1  Boytone - 2500W 2.1-Ch. Home Theater System - ...  \n",
              "2           DENAQ - AC Adapter for TOSHIBA SATELLITE  \n",
              "3  DreamWave - Tremor Portable Bluetooth Speaker ...  \n",
              "4  NS-SP1800BL 5.1-Channel Home Theater System (B...  "
            ]
          },
          "execution_count": 24,
          "metadata": {},
          "output_type": "execute_result"
        }
      ],
      "source": [
        "pd.read_excel('out.xlsx').head()"
      ]
    },
    {
      "cell_type": "markdown",
      "metadata": {
        "id": "yooUcJVBeURp"
      },
      "source": [
        "We can specify the sheet name with `sheet_name` parameter:"
      ]
    },
    {
      "cell_type": "code",
      "execution_count": null,
      "metadata": {
        "id": "UlQe0iIPeURr"
      },
      "outputs": [],
      "source": [
        "products.to_excel('out.xlsx',\n",
        "                  sheet_name='Products')"
      ]
    },
    {
      "cell_type": "markdown",
      "metadata": {
        "id": "sd2Ic-WQeURr"
      },
      "source": [
        "Further calls of `to_excel` with different sheet names will only overwrite the first sheet instead of adding additional sheets.\n",
        "\n",
        "Also, be aware that by removing the index, we'll lose that column."
      ]
    },
    {
      "cell_type": "code",
      "execution_count": null,
      "metadata": {
        "id": "BZPCJ758eURr"
      },
      "outputs": [],
      "source": [
        "products.to_excel('out.xlsx',\n",
        "                  index=None)"
      ]
    },
    {
      "cell_type": "code",
      "execution_count": null,
      "metadata": {
        "scrolled": false,
        "id": "2RI3UvQceURr",
        "outputId": "035c61a1-c520-4d6f-c0f7-62e855e75ee3"
      },
      "outputs": [
        {
          "data": {
            "text/html": [
              "<div>\n",
              "<style scoped>\n",
              "    .dataframe tbody tr th:only-of-type {\n",
              "        vertical-align: middle;\n",
              "    }\n",
              "\n",
              "    .dataframe tbody tr th {\n",
              "        vertical-align: top;\n",
              "    }\n",
              "\n",
              "    .dataframe thead th {\n",
              "        text-align: right;\n",
              "    }\n",
              "</style>\n",
              "<table border=\"1\" class=\"dataframe\">\n",
              "  <thead>\n",
              "    <tr style=\"text-align: right;\">\n",
              "      <th></th>\n",
              "      <th>price</th>\n",
              "      <th>merchant_id</th>\n",
              "      <th>brand</th>\n",
              "      <th>name</th>\n",
              "    </tr>\n",
              "  </thead>\n",
              "  <tbody>\n",
              "    <tr>\n",
              "      <th>0</th>\n",
              "      <td>104.99</td>\n",
              "      <td>1001</td>\n",
              "      <td>Sanus</td>\n",
              "      <td>Sanus VLF410B1 10-Inch Super Slim Full-Motion ...</td>\n",
              "    </tr>\n",
              "    <tr>\n",
              "      <th>1</th>\n",
              "      <td>69.00</td>\n",
              "      <td>1002</td>\n",
              "      <td>Boytone</td>\n",
              "      <td>Boytone - 2500W 2.1-Ch. Home Theater System - ...</td>\n",
              "    </tr>\n",
              "    <tr>\n",
              "      <th>2</th>\n",
              "      <td>23.99</td>\n",
              "      <td>1001</td>\n",
              "      <td>DENAQ</td>\n",
              "      <td>DENAQ - AC Adapter for TOSHIBA SATELLITE</td>\n",
              "    </tr>\n",
              "    <tr>\n",
              "      <th>3</th>\n",
              "      <td>290.99</td>\n",
              "      <td>1001</td>\n",
              "      <td>DreamWave</td>\n",
              "      <td>DreamWave - Tremor Portable Bluetooth Speaker ...</td>\n",
              "    </tr>\n",
              "    <tr>\n",
              "      <th>4</th>\n",
              "      <td>244.01</td>\n",
              "      <td>1004</td>\n",
              "      <td>Yamaha</td>\n",
              "      <td>NS-SP1800BL 5.1-Channel Home Theater System (B...</td>\n",
              "    </tr>\n",
              "  </tbody>\n",
              "</table>\n",
              "</div>"
            ],
            "text/plain": [
              "    price  merchant_id      brand  \\\n",
              "0  104.99         1001      Sanus   \n",
              "1   69.00         1002    Boytone   \n",
              "2   23.99         1001      DENAQ   \n",
              "3  290.99         1001  DreamWave   \n",
              "4  244.01         1004     Yamaha   \n",
              "\n",
              "                                                name  \n",
              "0  Sanus VLF410B1 10-Inch Super Slim Full-Motion ...  \n",
              "1  Boytone - 2500W 2.1-Ch. Home Theater System - ...  \n",
              "2           DENAQ - AC Adapter for TOSHIBA SATELLITE  \n",
              "3  DreamWave - Tremor Portable Bluetooth Speaker ...  \n",
              "4  NS-SP1800BL 5.1-Channel Home Theater System (B...  "
            ]
          },
          "execution_count": 27,
          "metadata": {},
          "output_type": "execute_result"
        }
      ],
      "source": [
        "pd.read_excel('out.xlsx').head()"
      ]
    },
    {
      "cell_type": "markdown",
      "metadata": {
        "id": "2oOCPKn4eURr"
      },
      "source": [
        "![green-divider](https://user-images.githubusercontent.com/7065401/52071924-c003ad80-2562-11e9-8297-1c6595f8a7ff.png)\n",
        "\n",
        "## Positioning Data with `startrow` and `startcol`\n",
        "\n",
        "Suppose we wanted to insert the our data into the spreadsheet file in a position somewhere other than the top-left corner.\n",
        "\n",
        "We can shift where the `to_excel` method writes the data by using `startrow` to set the cell after which the first row will be printed, and `startcol` to set which cell after which the first column will be printed."
      ]
    },
    {
      "cell_type": "markdown",
      "metadata": {
        "id": "LVJgBBtCeURs"
      },
      "source": [
        "<img src=\"https://user-images.githubusercontent.com/7065401/68594890-41378b80-0477-11ea-9ae4-ff87e5e1128d.png\" />"
      ]
    },
    {
      "cell_type": "code",
      "execution_count": null,
      "metadata": {
        "id": "HsrB1c26eURs"
      },
      "outputs": [],
      "source": [
        "products.to_excel('out.xlsx',\n",
        "                  sheet_name='Products',\n",
        "                  startrow=1,\n",
        "                  startcol=2)"
      ]
    },
    {
      "cell_type": "markdown",
      "metadata": {
        "id": "lryZai9zeURs"
      },
      "source": [
        "<img src=\"https://user-images.githubusercontent.com/7065401/68594828-249b5380-0477-11ea-87d7-af694c09f2d2.png\" />"
      ]
    },
    {
      "cell_type": "markdown",
      "metadata": {
        "id": "CKakZgBdeURs"
      },
      "source": [
        "![green-divider](https://user-images.githubusercontent.com/7065401/52071924-c003ad80-2562-11e9-8297-1c6595f8a7ff.png)\n",
        "\n",
        "## Saving multiple sheets\n",
        "\n",
        "If we wanted to write a single `DataFrame` to a single sheet with default formatting then we are done. However, if we want to write multiple sheets and/or multiple `DataFrame`s, then we will need to create an `ExcelWriter` object.\n",
        "\n",
        "The `ExcelWriter` object is included in the Pandas module and is used to open Excel files and handle write operations. This object behaves almost exactly like the vanilla Python `open` object that we used on previous courses and can be used within a `with` block.\n",
        "\n",
        "> When the `ExcelWriter` object is executed, any existing file with the same name as the output file will be overwritten."
      ]
    },
    {
      "cell_type": "code",
      "execution_count": null,
      "metadata": {
        "id": "RPJU9Qz9eURs"
      },
      "outputs": [],
      "source": [
        "writer = pd.ExcelWriter('out.xlsx')"
      ]
    },
    {
      "cell_type": "code",
      "execution_count": null,
      "metadata": {
        "id": "oTdY6YYfeURs",
        "outputId": "03341998-703d-4734-90a2-a90cac0d984b"
      },
      "outputs": [
        {
          "data": {
            "text/plain": [
              "<pandas.io.excel._openpyxl._OpenpyxlWriter at 0x116668278>"
            ]
          },
          "execution_count": 30,
          "metadata": {},
          "output_type": "execute_result"
        }
      ],
      "source": [
        "writer"
      ]
    },
    {
      "cell_type": "markdown",
      "metadata": {
        "id": "l9GzEtQdeURs"
      },
      "source": [
        "Instead of including the file pathname in the `to_excel` call, we will use the `ExcelWriter` object `writer` instead."
      ]
    },
    {
      "cell_type": "code",
      "execution_count": null,
      "metadata": {
        "id": "Chh0Qn3TeURt"
      },
      "outputs": [],
      "source": [
        "with writer:\n",
        "    products.to_excel(writer, sheet_name='Products')"
      ]
    },
    {
      "cell_type": "code",
      "execution_count": null,
      "metadata": {
        "id": "Wra5Jn1meURt",
        "outputId": "dd4402ea-befd-4e45-9d01-b8acbdc04a5a"
      },
      "outputs": [
        {
          "data": {
            "text/html": [
              "<div>\n",
              "<style scoped>\n",
              "    .dataframe tbody tr th:only-of-type {\n",
              "        vertical-align: middle;\n",
              "    }\n",
              "\n",
              "    .dataframe tbody tr th {\n",
              "        vertical-align: top;\n",
              "    }\n",
              "\n",
              "    .dataframe thead th {\n",
              "        text-align: right;\n",
              "    }\n",
              "</style>\n",
              "<table border=\"1\" class=\"dataframe\">\n",
              "  <thead>\n",
              "    <tr style=\"text-align: right;\">\n",
              "      <th></th>\n",
              "      <th>product_id</th>\n",
              "      <th>price</th>\n",
              "      <th>merchant_id</th>\n",
              "      <th>brand</th>\n",
              "      <th>name</th>\n",
              "    </tr>\n",
              "  </thead>\n",
              "  <tbody>\n",
              "    <tr>\n",
              "      <th>0</th>\n",
              "      <td>AVphzgbJLJeJML43fA0o</td>\n",
              "      <td>104.99</td>\n",
              "      <td>1001</td>\n",
              "      <td>Sanus</td>\n",
              "      <td>Sanus VLF410B1 10-Inch Super Slim Full-Motion ...</td>\n",
              "    </tr>\n",
              "    <tr>\n",
              "      <th>1</th>\n",
              "      <td>AVpgMuGwLJeJML43KY_c</td>\n",
              "      <td>69.00</td>\n",
              "      <td>1002</td>\n",
              "      <td>Boytone</td>\n",
              "      <td>Boytone - 2500W 2.1-Ch. Home Theater System - ...</td>\n",
              "    </tr>\n",
              "    <tr>\n",
              "      <th>2</th>\n",
              "      <td>AVpe9FXeLJeJML43zHrq</td>\n",
              "      <td>23.99</td>\n",
              "      <td>1001</td>\n",
              "      <td>DENAQ</td>\n",
              "      <td>DENAQ - AC Adapter for TOSHIBA SATELLITE</td>\n",
              "    </tr>\n",
              "    <tr>\n",
              "      <th>3</th>\n",
              "      <td>AVpfVJXu1cnluZ0-iwTT</td>\n",
              "      <td>290.99</td>\n",
              "      <td>1001</td>\n",
              "      <td>DreamWave</td>\n",
              "      <td>DreamWave - Tremor Portable Bluetooth Speaker ...</td>\n",
              "    </tr>\n",
              "    <tr>\n",
              "      <th>4</th>\n",
              "      <td>AVphUeKeilAPnD_x3-Be</td>\n",
              "      <td>244.01</td>\n",
              "      <td>1004</td>\n",
              "      <td>Yamaha</td>\n",
              "      <td>NS-SP1800BL 5.1-Channel Home Theater System (B...</td>\n",
              "    </tr>\n",
              "  </tbody>\n",
              "</table>\n",
              "</div>"
            ],
            "text/plain": [
              "             product_id   price  merchant_id      brand  \\\n",
              "0  AVphzgbJLJeJML43fA0o  104.99         1001      Sanus   \n",
              "1  AVpgMuGwLJeJML43KY_c   69.00         1002    Boytone   \n",
              "2  AVpe9FXeLJeJML43zHrq   23.99         1001      DENAQ   \n",
              "3  AVpfVJXu1cnluZ0-iwTT  290.99         1001  DreamWave   \n",
              "4  AVphUeKeilAPnD_x3-Be  244.01         1004     Yamaha   \n",
              "\n",
              "                                                name  \n",
              "0  Sanus VLF410B1 10-Inch Super Slim Full-Motion ...  \n",
              "1  Boytone - 2500W 2.1-Ch. Home Theater System - ...  \n",
              "2           DENAQ - AC Adapter for TOSHIBA SATELLITE  \n",
              "3  DreamWave - Tremor Portable Bluetooth Speaker ...  \n",
              "4  NS-SP1800BL 5.1-Channel Home Theater System (B...  "
            ]
          },
          "execution_count": 32,
          "metadata": {},
          "output_type": "execute_result"
        }
      ],
      "source": [
        "pd.read_excel('out.xlsx', sheet_name='Products').head()"
      ]
    },
    {
      "cell_type": "markdown",
      "metadata": {
        "id": "abRO4PDqeURt"
      },
      "source": [
        "We can now add another `Merchants` sheet simply using the `writer` object:"
      ]
    },
    {
      "cell_type": "code",
      "execution_count": null,
      "metadata": {
        "id": "tHdWIMXNeURt"
      },
      "outputs": [],
      "source": [
        "with writer:\n",
        "    merchants.to_excel(writer, sheet_name='Merchants')"
      ]
    },
    {
      "cell_type": "code",
      "execution_count": null,
      "metadata": {
        "id": "03oih-ZzeURt",
        "outputId": "8efbd7c6-4029-443a-ba23-f9370ce03649"
      },
      "outputs": [
        {
          "data": {
            "text/html": [
              "<div>\n",
              "<style scoped>\n",
              "    .dataframe tbody tr th:only-of-type {\n",
              "        vertical-align: middle;\n",
              "    }\n",
              "\n",
              "    .dataframe tbody tr th {\n",
              "        vertical-align: top;\n",
              "    }\n",
              "\n",
              "    .dataframe thead th {\n",
              "        text-align: right;\n",
              "    }\n",
              "</style>\n",
              "<table border=\"1\" class=\"dataframe\">\n",
              "  <thead>\n",
              "    <tr style=\"text-align: right;\">\n",
              "      <th></th>\n",
              "      <th>product_id</th>\n",
              "      <th>price</th>\n",
              "      <th>merchant_id</th>\n",
              "      <th>brand</th>\n",
              "      <th>name</th>\n",
              "    </tr>\n",
              "  </thead>\n",
              "  <tbody>\n",
              "    <tr>\n",
              "      <th>0</th>\n",
              "      <td>AVphzgbJLJeJML43fA0o</td>\n",
              "      <td>104.99</td>\n",
              "      <td>1001</td>\n",
              "      <td>Sanus</td>\n",
              "      <td>Sanus VLF410B1 10-Inch Super Slim Full-Motion ...</td>\n",
              "    </tr>\n",
              "    <tr>\n",
              "      <th>1</th>\n",
              "      <td>AVpgMuGwLJeJML43KY_c</td>\n",
              "      <td>69.00</td>\n",
              "      <td>1002</td>\n",
              "      <td>Boytone</td>\n",
              "      <td>Boytone - 2500W 2.1-Ch. Home Theater System - ...</td>\n",
              "    </tr>\n",
              "    <tr>\n",
              "      <th>2</th>\n",
              "      <td>AVpe9FXeLJeJML43zHrq</td>\n",
              "      <td>23.99</td>\n",
              "      <td>1001</td>\n",
              "      <td>DENAQ</td>\n",
              "      <td>DENAQ - AC Adapter for TOSHIBA SATELLITE</td>\n",
              "    </tr>\n",
              "    <tr>\n",
              "      <th>3</th>\n",
              "      <td>AVpfVJXu1cnluZ0-iwTT</td>\n",
              "      <td>290.99</td>\n",
              "      <td>1001</td>\n",
              "      <td>DreamWave</td>\n",
              "      <td>DreamWave - Tremor Portable Bluetooth Speaker ...</td>\n",
              "    </tr>\n",
              "    <tr>\n",
              "      <th>4</th>\n",
              "      <td>AVphUeKeilAPnD_x3-Be</td>\n",
              "      <td>244.01</td>\n",
              "      <td>1004</td>\n",
              "      <td>Yamaha</td>\n",
              "      <td>NS-SP1800BL 5.1-Channel Home Theater System (B...</td>\n",
              "    </tr>\n",
              "  </tbody>\n",
              "</table>\n",
              "</div>"
            ],
            "text/plain": [
              "             product_id   price  merchant_id      brand  \\\n",
              "0  AVphzgbJLJeJML43fA0o  104.99         1001      Sanus   \n",
              "1  AVpgMuGwLJeJML43KY_c   69.00         1002    Boytone   \n",
              "2  AVpe9FXeLJeJML43zHrq   23.99         1001      DENAQ   \n",
              "3  AVpfVJXu1cnluZ0-iwTT  290.99         1001  DreamWave   \n",
              "4  AVphUeKeilAPnD_x3-Be  244.01         1004     Yamaha   \n",
              "\n",
              "                                                name  \n",
              "0  Sanus VLF410B1 10-Inch Super Slim Full-Motion ...  \n",
              "1  Boytone - 2500W 2.1-Ch. Home Theater System - ...  \n",
              "2           DENAQ - AC Adapter for TOSHIBA SATELLITE  \n",
              "3  DreamWave - Tremor Portable Bluetooth Speaker ...  \n",
              "4  NS-SP1800BL 5.1-Channel Home Theater System (B...  "
            ]
          },
          "execution_count": 34,
          "metadata": {},
          "output_type": "execute_result"
        }
      ],
      "source": [
        "pd.read_excel('out.xlsx', sheet_name='Products').head()"
      ]
    },
    {
      "cell_type": "code",
      "execution_count": null,
      "metadata": {
        "id": "srE8zHDjeURu",
        "outputId": "be35eef3-63ed-488e-ce51-694d0fedc53a"
      },
      "outputs": [
        {
          "data": {
            "text/html": [
              "<div>\n",
              "<style scoped>\n",
              "    .dataframe tbody tr th:only-of-type {\n",
              "        vertical-align: middle;\n",
              "    }\n",
              "\n",
              "    .dataframe tbody tr th {\n",
              "        vertical-align: top;\n",
              "    }\n",
              "\n",
              "    .dataframe thead th {\n",
              "        text-align: right;\n",
              "    }\n",
              "</style>\n",
              "<table border=\"1\" class=\"dataframe\">\n",
              "  <thead>\n",
              "    <tr style=\"text-align: right;\">\n",
              "      <th></th>\n",
              "      <th>merchant_id</th>\n",
              "      <th>merchant</th>\n",
              "    </tr>\n",
              "  </thead>\n",
              "  <tbody>\n",
              "    <tr>\n",
              "      <th>0</th>\n",
              "      <td>1001</td>\n",
              "      <td>Bestbuy.com</td>\n",
              "    </tr>\n",
              "    <tr>\n",
              "      <th>1</th>\n",
              "      <td>1002</td>\n",
              "      <td>Walmart.com</td>\n",
              "    </tr>\n",
              "    <tr>\n",
              "      <th>2</th>\n",
              "      <td>1003</td>\n",
              "      <td>Bestbuy.com</td>\n",
              "    </tr>\n",
              "    <tr>\n",
              "      <th>3</th>\n",
              "      <td>1004</td>\n",
              "      <td>Growkart</td>\n",
              "    </tr>\n",
              "    <tr>\n",
              "      <th>4</th>\n",
              "      <td>1005</td>\n",
              "      <td>bhphotovideo.com</td>\n",
              "    </tr>\n",
              "  </tbody>\n",
              "</table>\n",
              "</div>"
            ],
            "text/plain": [
              "   merchant_id          merchant\n",
              "0         1001       Bestbuy.com\n",
              "1         1002       Walmart.com\n",
              "2         1003       Bestbuy.com\n",
              "3         1004          Growkart\n",
              "4         1005  bhphotovideo.com"
            ]
          },
          "execution_count": 35,
          "metadata": {},
          "output_type": "execute_result"
        }
      ],
      "source": [
        "pd.read_excel('out.xlsx', sheet_name='Merchants').head()"
      ]
    },
    {
      "cell_type": "markdown",
      "metadata": {
        "id": "bUnOH8qfeURu"
      },
      "source": [
        "Or we can save multiple sheets at the same time:"
      ]
    },
    {
      "cell_type": "code",
      "execution_count": null,
      "metadata": {
        "id": "-drgwi20eURu"
      },
      "outputs": [],
      "source": [
        "with pd.ExcelWriter('out.xlsx') as writer:\n",
        "    products.to_excel(writer, sheet_name='Products')\n",
        "    merchants.to_excel(writer, sheet_name='Merchants')"
      ]
    },
    {
      "cell_type": "markdown",
      "metadata": {
        "id": "F7mmlB99eURu"
      },
      "source": [
        "In that case the resulting `out.xlxs` file will have two sheets `Products` and `Merchants`."
      ]
    },
    {
      "cell_type": "markdown",
      "metadata": {
        "id": "k29A1dgpeURu"
      },
      "source": [
        "![purple-divider](https://user-images.githubusercontent.com/7065401/52071927-c1cd7100-2562-11e9-908a-dde91ba14e59.png)"
      ]
    }
  ],
  "metadata": {
    "kernelspec": {
      "display_name": "Python 3",
      "language": "python",
      "name": "python3"
    },
    "language_info": {
      "codemirror_mode": {
        "name": "ipython",
        "version": 3
      },
      "file_extension": ".py",
      "mimetype": "text/x-python",
      "name": "python",
      "nbconvert_exporter": "python",
      "pygments_lexer": "ipython3",
      "version": "3.6.8"
    },
    "colab": {
      "provenance": []
    }
  },
  "nbformat": 4,
  "nbformat_minor": 0
}