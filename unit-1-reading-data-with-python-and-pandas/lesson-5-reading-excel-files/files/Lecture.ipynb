{
  "cells": [
    {
      "cell_type": "markdown",
      "source": [
        "[![Open In Colab](https://colab.research.google.com/assets/colab-badge.svg)](https://colab.research.google.com/github/rmotr-curriculum/RDP-Reading-Data-with-Python-and-Pandas/blob/master/unit-1-reading-data-with-python-and-pandas/lesson-5-reading-excel-files/files/Lecture.ipynb#scrollTo=k5rjKT3lgwd_)\n"
      ],
      "metadata": {
        "id": "k5rjKT3lgwd_"
      }
    },
    {
      "cell_type": "markdown",
      "metadata": {
        "id": "h08Ewfougv2-"
      },
      "source": [
        "![rmotr](https://user-images.githubusercontent.com/7065401/52071918-bda15380-2562-11e9-828c-7f95297e4a82.png)\n",
        "<hr style=\"margin-bottom: 40px;\">\n",
        "\n",
        "<img src=\"https://user-images.githubusercontent.com/7065401/68501079-0695df00-023c-11ea-841f-455dac84a089.jpg\"\n",
        "    style=\"width:400px; float: right; margin: 0 40px 40px 40px;\"></img>\n",
        "\n",
        "# Reading Excel files\n",
        "\n",
        "In this lecture we'll learn how to read Excel files (.xlsx) and its sheets into a pandas `DataFrame`s, and how to export that `DataFrame`s to different sheets and Excel files using the pandas `ExcelWriter` and `to_excel` methods."
      ]
    },
    {
      "cell_type": "markdown",
      "metadata": {
        "id": "NgUYxsYygv2_"
      },
      "source": [
        "![purple-divider](https://user-images.githubusercontent.com/7065401/52071927-c1cd7100-2562-11e9-908a-dde91ba14e59.png)\n",
        "\n",
        "## Hands on!"
      ]
    },
    {
      "cell_type": "code",
      "execution_count": 2,
      "metadata": {
        "id": "QDu33zfrgv2_"
      },
      "outputs": [],
      "source": [
        "import pandas as pd"
      ]
    },
    {
      "cell_type": "code",
      "source": [
        "from google.colab import files\n",
        "uploaded = files.upload()\n"
      ],
      "metadata": {
        "id": "U4f6RmTUhtsw",
        "outputId": "815018dc-b9f8-4446-d327-3d2e18cc6f27",
        "colab": {
          "base_uri": "https://localhost:8080/",
          "height": 74
        }
      },
      "execution_count": 4,
      "outputs": [
        {
          "output_type": "display_data",
          "data": {
            "text/plain": [
              "<IPython.core.display.HTML object>"
            ],
            "text/html": [
              "\n",
              "     <input type=\"file\" id=\"files-3438557c-0f93-4632-84cc-12e1a36b2bba\" name=\"files[]\" multiple disabled\n",
              "        style=\"border:none\" />\n",
              "     <output id=\"result-3438557c-0f93-4632-84cc-12e1a36b2bba\">\n",
              "      Upload widget is only available when the cell has been executed in the\n",
              "      current browser session. Please rerun this cell to enable.\n",
              "      </output>\n",
              "      <script>// Copyright 2017 Google LLC\n",
              "//\n",
              "// Licensed under the Apache License, Version 2.0 (the \"License\");\n",
              "// you may not use this file except in compliance with the License.\n",
              "// You may obtain a copy of the License at\n",
              "//\n",
              "//      http://www.apache.org/licenses/LICENSE-2.0\n",
              "//\n",
              "// Unless required by applicable law or agreed to in writing, software\n",
              "// distributed under the License is distributed on an \"AS IS\" BASIS,\n",
              "// WITHOUT WARRANTIES OR CONDITIONS OF ANY KIND, either express or implied.\n",
              "// See the License for the specific language governing permissions and\n",
              "// limitations under the License.\n",
              "\n",
              "/**\n",
              " * @fileoverview Helpers for google.colab Python module.\n",
              " */\n",
              "(function(scope) {\n",
              "function span(text, styleAttributes = {}) {\n",
              "  const element = document.createElement('span');\n",
              "  element.textContent = text;\n",
              "  for (const key of Object.keys(styleAttributes)) {\n",
              "    element.style[key] = styleAttributes[key];\n",
              "  }\n",
              "  return element;\n",
              "}\n",
              "\n",
              "// Max number of bytes which will be uploaded at a time.\n",
              "const MAX_PAYLOAD_SIZE = 100 * 1024;\n",
              "\n",
              "function _uploadFiles(inputId, outputId) {\n",
              "  const steps = uploadFilesStep(inputId, outputId);\n",
              "  const outputElement = document.getElementById(outputId);\n",
              "  // Cache steps on the outputElement to make it available for the next call\n",
              "  // to uploadFilesContinue from Python.\n",
              "  outputElement.steps = steps;\n",
              "\n",
              "  return _uploadFilesContinue(outputId);\n",
              "}\n",
              "\n",
              "// This is roughly an async generator (not supported in the browser yet),\n",
              "// where there are multiple asynchronous steps and the Python side is going\n",
              "// to poll for completion of each step.\n",
              "// This uses a Promise to block the python side on completion of each step,\n",
              "// then passes the result of the previous step as the input to the next step.\n",
              "function _uploadFilesContinue(outputId) {\n",
              "  const outputElement = document.getElementById(outputId);\n",
              "  const steps = outputElement.steps;\n",
              "\n",
              "  const next = steps.next(outputElement.lastPromiseValue);\n",
              "  return Promise.resolve(next.value.promise).then((value) => {\n",
              "    // Cache the last promise value to make it available to the next\n",
              "    // step of the generator.\n",
              "    outputElement.lastPromiseValue = value;\n",
              "    return next.value.response;\n",
              "  });\n",
              "}\n",
              "\n",
              "/**\n",
              " * Generator function which is called between each async step of the upload\n",
              " * process.\n",
              " * @param {string} inputId Element ID of the input file picker element.\n",
              " * @param {string} outputId Element ID of the output display.\n",
              " * @return {!Iterable<!Object>} Iterable of next steps.\n",
              " */\n",
              "function* uploadFilesStep(inputId, outputId) {\n",
              "  const inputElement = document.getElementById(inputId);\n",
              "  inputElement.disabled = false;\n",
              "\n",
              "  const outputElement = document.getElementById(outputId);\n",
              "  outputElement.innerHTML = '';\n",
              "\n",
              "  const pickedPromise = new Promise((resolve) => {\n",
              "    inputElement.addEventListener('change', (e) => {\n",
              "      resolve(e.target.files);\n",
              "    });\n",
              "  });\n",
              "\n",
              "  const cancel = document.createElement('button');\n",
              "  inputElement.parentElement.appendChild(cancel);\n",
              "  cancel.textContent = 'Cancel upload';\n",
              "  const cancelPromise = new Promise((resolve) => {\n",
              "    cancel.onclick = () => {\n",
              "      resolve(null);\n",
              "    };\n",
              "  });\n",
              "\n",
              "  // Wait for the user to pick the files.\n",
              "  const files = yield {\n",
              "    promise: Promise.race([pickedPromise, cancelPromise]),\n",
              "    response: {\n",
              "      action: 'starting',\n",
              "    }\n",
              "  };\n",
              "\n",
              "  cancel.remove();\n",
              "\n",
              "  // Disable the input element since further picks are not allowed.\n",
              "  inputElement.disabled = true;\n",
              "\n",
              "  if (!files) {\n",
              "    return {\n",
              "      response: {\n",
              "        action: 'complete',\n",
              "      }\n",
              "    };\n",
              "  }\n",
              "\n",
              "  for (const file of files) {\n",
              "    const li = document.createElement('li');\n",
              "    li.append(span(file.name, {fontWeight: 'bold'}));\n",
              "    li.append(span(\n",
              "        `(${file.type || 'n/a'}) - ${file.size} bytes, ` +\n",
              "        `last modified: ${\n",
              "            file.lastModifiedDate ? file.lastModifiedDate.toLocaleDateString() :\n",
              "                                    'n/a'} - `));\n",
              "    const percent = span('0% done');\n",
              "    li.appendChild(percent);\n",
              "\n",
              "    outputElement.appendChild(li);\n",
              "\n",
              "    const fileDataPromise = new Promise((resolve) => {\n",
              "      const reader = new FileReader();\n",
              "      reader.onload = (e) => {\n",
              "        resolve(e.target.result);\n",
              "      };\n",
              "      reader.readAsArrayBuffer(file);\n",
              "    });\n",
              "    // Wait for the data to be ready.\n",
              "    let fileData = yield {\n",
              "      promise: fileDataPromise,\n",
              "      response: {\n",
              "        action: 'continue',\n",
              "      }\n",
              "    };\n",
              "\n",
              "    // Use a chunked sending to avoid message size limits. See b/62115660.\n",
              "    let position = 0;\n",
              "    do {\n",
              "      const length = Math.min(fileData.byteLength - position, MAX_PAYLOAD_SIZE);\n",
              "      const chunk = new Uint8Array(fileData, position, length);\n",
              "      position += length;\n",
              "\n",
              "      const base64 = btoa(String.fromCharCode.apply(null, chunk));\n",
              "      yield {\n",
              "        response: {\n",
              "          action: 'append',\n",
              "          file: file.name,\n",
              "          data: base64,\n",
              "        },\n",
              "      };\n",
              "\n",
              "      let percentDone = fileData.byteLength === 0 ?\n",
              "          100 :\n",
              "          Math.round((position / fileData.byteLength) * 100);\n",
              "      percent.textContent = `${percentDone}% done`;\n",
              "\n",
              "    } while (position < fileData.byteLength);\n",
              "  }\n",
              "\n",
              "  // All done.\n",
              "  yield {\n",
              "    response: {\n",
              "      action: 'complete',\n",
              "    }\n",
              "  };\n",
              "}\n",
              "\n",
              "scope.google = scope.google || {};\n",
              "scope.google.colab = scope.google.colab || {};\n",
              "scope.google.colab._files = {\n",
              "  _uploadFiles,\n",
              "  _uploadFilesContinue,\n",
              "};\n",
              "})(self);\n",
              "</script> "
            ]
          },
          "metadata": {}
        },
        {
          "output_type": "stream",
          "name": "stdout",
          "text": [
            "Saving products.xlsx to products.xlsx\n"
          ]
        }
      ]
    },
    {
      "cell_type": "code",
      "source": [
        "!head products.xlsx"
      ],
      "metadata": {
        "id": "RfGx1kF8hHbH",
        "outputId": "c4e723f4-d24f-413e-e1cd-fe780d00af18",
        "colab": {
          "base_uri": "https://localhost:8080/"
        }
      },
      "execution_count": 5,
      "outputs": [
        {
          "output_type": "stream",
          "name": "stdout",
          "text": [
            "PK\u0003\u0004\u0014\u0000\u0006\u0000\b\u0000\u0000\u0000!\u0000߱_\b�\u0001\u0000\u0000 \u0007\u0000\u0000\u0013\u0000\b\u0002[Content_Types].xml �\u0004\u0002(�\u0000\u0002\u0000\u0000\u0000\u0000\u0000\u0000\u0000\u0000\u0000\u0000\u0000\u0000\u0000\u0000\u0000\u0000\u0000\u0000\u0000\u0000\u0000\u0000\u0000\u0000\u0000\u0000\u0000\u0000\u0000\u0000\u0000\u0000\u0000\u0000\u0000\u0000\u0000\u0000\u0000\u0000\u0000\u0000\u0000\u0000\u0000\u0000\u0000\u0000\u0000\u0000\u0000\u0000\u0000\u0000\u0000\u0000\u0000\u0000\u0000\u0000\u0000\u0000\u0000\u0000\u0000\u0000\u0000\u0000\u0000\u0000\u0000\u0000\u0000\u0000\u0000\u0000\u0000\u0000\u0000\u0000\u0000\u0000\u0000\u0000\u0000\u0000\u0000\u0000\u0000\u0000\u0000\u0000\u0000\u0000\u0000\u0000\u0000\u0000\u0000\u0000\u0000\u0000\u0000\u0000\u0000\u0000\u0000\u0000\u0000\u0000\u0000\u0000\u0000\u0000\u0000\u0000\u0000\u0000\u0000\u0000\u0000\u0000\u0000\u0000\u0000\u0000\u0000\u0000\u0000\u0000\u0000\u0000\u0000\u0000\u0000\u0000\u0000\u0000\u0000\u0000\u0000\u0000\u0000\u0000\u0000\u0000\u0000\u0000\u0000\u0000\u0000\u0000\u0000\u0000\u0000\u0000\u0000\u0000\u0000\u0000\u0000\u0000\u0000\u0000\u0000\u0000\u0000\u0000\u0000\u0000\u0000\u0000\u0000\u0000\u0000\u0000\u0000\u0000\u0000\u0000\u0000\u0000\u0000\u0000\u0000\u0000\u0000\u0000\u0000\u0000\u0000\u0000\u0000\u0000\u0000\u0000\u0000\u0000\u0000\u0000\u0000\u0000\u0000\u0000\u0000\u0000\u0000\u0000\u0000\u0000\u0000\u0000\u0000\u0000\u0000\u0000\u0000\u0000\u0000\u0000\u0000\u0000\u0000\u0000\u0000\u0000\u0000\u0000\u0000\u0000\u0000\u0000\u0000\u0000\u0000\u0000\u0000\u0000\u0000\u0000\u0000\u0000\u0000\u0000\u0000\u0000\u0000\u0000\u0000\u0000\u0000\u0000\u0000\u0000\u0000\u0000\u0000\u0000\u0000\u0000\u0000\u0000\u0000\u0000\u0000\u0000\u0000\u0000\u0000\u0000\u0000\u0000\u0000\u0000\u0000\u0000\u0000\u0000\u0000\u0000\u0000\u0000\u0000\u0000\u0000\u0000\u0000\u0000\u0000\u0000\u0000\u0000\u0000\u0000\u0000\u0000\u0000\u0000\u0000\u0000\u0000\u0000\u0000\u0000\u0000\u0000\u0000\u0000\u0000\u0000\u0000\u0000\u0000\u0000\u0000\u0000\u0000\u0000\u0000\u0000\u0000\u0000\u0000\u0000\u0000\u0000\u0000\u0000\u0000\u0000\u0000\u0000\u0000\u0000\u0000\u0000\u0000\u0000\u0000\u0000\u0000\u0000\u0000\u0000\u0000\u0000\u0000\u0000\u0000\u0000\u0000\u0000\u0000\u0000\u0000\u0000\u0000\u0000\u0000\u0000\u0000\u0000\u0000\u0000\u0000\u0000\u0000\u0000\u0000\u0000\u0000\u0000\u0000\u0000\u0000\u0000\u0000\u0000\u0000\u0000\u0000\u0000\u0000\u0000\u0000\u0000\u0000\u0000\u0000\u0000\u0000\u0000\u0000\u0000\u0000\u0000\u0000\u0000\u0000\u0000\u0000\u0000\u0000\u0000\u0000\u0000\u0000\u0000\u0000\u0000\u0000\u0000\u0000\u0000\u0000\u0000\u0000\u0000\u0000\u0000\u0000\u0000\u0000\u0000\u0000\u0000\u0000\u0000\u0000\u0000\u0000\u0000\u0000\u0000\u0000\u0000\u0000\u0000\u0000\u0000\u0000\u0000\u0000\u0000\u0000\u0000\u0000\u0000\u0000\u0000\u0000\u0000\u0000\u0000\u0000\u0000\u0000\u0000\u0000\u0000\u0000\u0000\u0000\u0000\u0000\u0000\u0000\u0000\u0000\u0000\u0000\u0000\u0000\u0000\u0000\u0000\u0000\u0000\u0000\u0000\u0000\u0000\u0000\u0000\u0000\u0000\u0000\u0000\u0000\u0000\u0000\u0000\u0000\u0000\u0000\u0000\u0000\u0000\u0000\u0000\u0000\u0000\u0000\u0000\u0000\u0000\u0000\u0000\u0000\u0000\u0000\u0000�U�j�0\u0010�\u0017�\u000fF�b+I��\u0012'�>�m��\u0007(�:\u0016�%!m���V\u001e��Ƙ\u0018ڋ\u0017Kڙ�j=;�n�2ڀ���\r�\u0001�@gF*�L���%�g�G��(���������j<�Y�\u0011ek��\u0002�>p�\u0002*�\u0013cA�Nn\\%�^ݒ[���\u0012�h0���\b\u001ac�1�d�\u0004�X�\u0018=oiy��A�Y��?Xs�LX[�L )�\u001b-��\u0007��2�\u0019_(�oH\u0006�\f���\u0004��7*�S\u0012��p�**���%�4n�0f��\u0007iPi�\\e M���\u0002��\u000e��\u0005\u0000Ve\u0012bR\t������Þ�0�YH�}\u0001����?�q�G:��\u001fxx^~%\u0001��\u0002<�J�}�a\u0000mc.�\u0003�����w\u0001߱[t�XP\u0005x\b}�\u0006\u0001�\u0003��ߕ��o�'\u001f�9c=9���]x��:;�\u0004\u0004\u000e\u0015�L���N�4\r.n{��\u0004����|�|\u0001\u0000\u0000��\u0003\u0000PK\u0003\u0004\u0014\u0000\u0006\u0000\b\u0000\u0000\u0000!\u0000�U0#�\u0000\u0000\u0000L\u0002\u0000\u0000\u000b\u0000\b\u0002_rels/.rels �\u0004\u0002(�\u0000\u0002\u0000\u0000\u0000\u0000\u0000\u0000\u0000\u0000\u0000\u0000\u0000\u0000\u0000\u0000\u0000\u0000\u0000\u0000\u0000\u0000\u0000\u0000\u0000\u0000\u0000\u0000\u0000\u0000\u0000\u0000\u0000\u0000\u0000\u0000\u0000\u0000\u0000\u0000\u0000\u0000\u0000\u0000\u0000\u0000\u0000\u0000\u0000\u0000\u0000\u0000\u0000\u0000\u0000\u0000\u0000\u0000\u0000\u0000\u0000\u0000\u0000\u0000\u0000\u0000\u0000\u0000\u0000\u0000\u0000\u0000\u0000\u0000\u0000\u0000\u0000\u0000\u0000\u0000\u0000\u0000\u0000\u0000\u0000\u0000\u0000\u0000\u0000\u0000\u0000\u0000\u0000\u0000\u0000\u0000\u0000\u0000\u0000\u0000\u0000\u0000\u0000\u0000\u0000\u0000\u0000\u0000\u0000\u0000\u0000\u0000\u0000\u0000\u0000\u0000\u0000\u0000\u0000\u0000\u0000\u0000\u0000\u0000\u0000\u0000\u0000\u0000\u0000\u0000\u0000\u0000\u0000\u0000\u0000\u0000\u0000\u0000\u0000\u0000\u0000\u0000\u0000\u0000\u0000\u0000\u0000\u0000\u0000\u0000\u0000\u0000\u0000\u0000\u0000\u0000\u0000\u0000\u0000\u0000\u0000\u0000\u0000\u0000\u0000\u0000\u0000\u0000\u0000\u0000\u0000\u0000\u0000\u0000\u0000\u0000\u0000\u0000\u0000\u0000\u0000\u0000\u0000\u0000\u0000\u0000\u0000\u0000\u0000\u0000\u0000\u0000\u0000\u0000\u0000\u0000\u0000\u0000\u0000\u0000\u0000\u0000\u0000\u0000\u0000\u0000\u0000\u0000\u0000\u0000\u0000\u0000\u0000\u0000\u0000\u0000\u0000\u0000\u0000\u0000\u0000\u0000\u0000\u0000\u0000\u0000\u0000\u0000\u0000\u0000\u0000\u0000\u0000\u0000\u0000\u0000\u0000\u0000\u0000\u0000\u0000\u0000\u0000\u0000\u0000\u0000\u0000\u0000\u0000\u0000\u0000\u0000\u0000\u0000\u0000\u0000\u0000\u0000\u0000\u0000\u0000\u0000\u0000\u0000\u0000\u0000\u0000\u0000\u0000\u0000\u0000\u0000\u0000\u0000\u0000\u0000\u0000\u0000\u0000\u0000\u0000\u0000\u0000\u0000\u0000\u0000\u0000\u0000\u0000\u0000\u0000\u0000\u0000\u0000\u0000\u0000\u0000\u0000\u0000\u0000\u0000\u0000\u0000\u0000\u0000\u0000\u0000\u0000\u0000\u0000\u0000\u0000\u0000\u0000\u0000\u0000\u0000\u0000\u0000\u0000\u0000\u0000\u0000\u0000\u0000\u0000\u0000\u0000\u0000\u0000\u0000\u0000\u0000\u0000\u0000\u0000\u0000\u0000\u0000\u0000\u0000\u0000\u0000\u0000\u0000\u0000\u0000\u0000\u0000\u0000\u0000\u0000\u0000\u0000\u0000\u0000\u0000\u0000\u0000\u0000\u0000\u0000\u0000\u0000\u0000\u0000\u0000\u0000\u0000\u0000\u0000\u0000\u0000\u0000\u0000\u0000\u0000\u0000\u0000\u0000\u0000\u0000\u0000\u0000\u0000\u0000\u0000\u0000\u0000\u0000\u0000\u0000\u0000\u0000\u0000\u0000\u0000\u0000\u0000\u0000\u0000\u0000\u0000\u0000\u0000\u0000\u0000\u0000\u0000\u0000\u0000\u0000\u0000\u0000\u0000\u0000\u0000\u0000\u0000\u0000\u0000\u0000\u0000\u0000\u0000\u0000\u0000\u0000\u0000\u0000\u0000\u0000\u0000\u0000\u0000\u0000\u0000\u0000\u0000\u0000\u0000\u0000\u0000\u0000\u0000\u0000\u0000\u0000\u0000\u0000\u0000\u0000\u0000\u0000\u0000\u0000\u0000\u0000\u0000\u0000\u0000\u0000\u0000\u0000\u0000\u0000\u0000\u0000\u0000\u0000\u0000\u0000\u0000\u0000\u0000\u0000\u0000\u0000\u0000\u0000\u0000\u0000\u0000\u0000\u0000\u0000\u0000\u0000\u0000\u0000\u0000\u0000\u0000\u0000\u0000\u0000\u0000\u0000\u0000\u0000\u0000\u0000\u0000\u0000\u0000\u0000\u0000\u0000\u0000\u0000\u0000\u0000\u0000\u0000��MO�0\f��H�����ݐ\u0010BKwAH�!T~�I�\u000f���$\u001bݿ'\u001c\u0010T\u001a�\u0003G�~����<���!��4��\u0012\u0014;#�w����qu\u0007*&r�Fq���\u0011v�����GJy(v��*����K��#F��D�\u0010�.W\u001a\t\u0013�\u001c�\u0016=��Z�MY�b��\u0001�BS�����7��ϛז��\r?�9L�ҙ\u0015�sbgٮ|�l!��\u001aUSh9i�b�r:\"y_dl��D��\u0013�|-N��R\"4\u0012�2�G�%��Z�4�˝y�7\të��ɂ�\u001f��\u0001\u0000\u0000��\u0003\u0000PK\u0003\u0004\u0014\u0000\u0006\u0000\b\u0000\u0000\u0000!\u0000�\t�(\u0002\u0001\u0000\u0000�\u0003\u0000\u0000\u001a\u0000\b\u0001xl/_rels/workbook.xml.rels �\u0004\u0001(�\u0000\u0001\u0000\u0000\u0000\u0000\u0000\u0000\u0000\u0000\u0000\u0000\u0000\u0000\u0000\u0000\u0000\u0000\u0000\u0000\u0000\u0000\u0000\u0000\u0000\u0000\u0000\u0000\u0000\u0000\u0000\u0000\u0000\u0000\u0000\u0000\u0000\u0000\u0000\u0000\u0000\u0000\u0000\u0000\u0000\u0000\u0000\u0000\u0000\u0000\u0000\u0000\u0000\u0000\u0000\u0000\u0000\u0000\u0000\u0000\u0000\u0000\u0000\u0000\u0000\u0000\u0000\u0000\u0000\u0000\u0000\u0000\u0000\u0000\u0000\u0000\u0000\u0000\u0000\u0000\u0000\u0000\u0000\u0000\u0000\u0000\u0000\u0000\u0000\u0000\u0000\u0000\u0000\u0000\u0000\u0000\u0000\u0000\u0000\u0000\u0000\u0000\u0000\u0000\u0000\u0000\u0000\u0000\u0000\u0000\u0000\u0000\u0000\u0000\u0000\u0000\u0000\u0000\u0000\u0000\u0000\u0000\u0000\u0000\u0000\u0000\u0000\u0000\u0000\u0000\u0000\u0000\u0000\u0000\u0000\u0000\u0000\u0000\u0000\u0000\u0000\u0000\u0000\u0000\u0000\u0000\u0000\u0000\u0000\u0000\u0000\u0000\u0000\u0000\u0000\u0000\u0000\u0000\u0000\u0000\u0000\u0000\u0000\u0000\u0000\u0000\u0000\u0000\u0000\u0000\u0000\u0000\u0000\u0000\u0000\u0000\u0000\u0000\u0000\u0000\u0000\u0000\u0000\u0000\u0000\u0000\u0000\u0000\u0000\u0000\u0000\u0000\u0000\u0000\u0000\u0000\u0000\u0000\u0000\u0000\u0000\u0000\u0000\u0000\u0000\u0000\u0000\u0000\u0000\u0000\u0000\u0000\u0000\u0000\u0000\u0000\u0000\u0000\u0000\u0000\u0000\u0000\u0000\u0000\u0000\u0000\u0000\u0000\u0000\u0000\u0000\u0000\u0000\u0000\u0000\u0000\u0000\u0000\u0000\u0000\u0000\u0000\u0000\u0000\u0000\u0000\u0000\u0000\u0000\u0000\u0000\u0000\u0000\u0000\u0000\u0000\u0000\u0000���j�0\f���}q�ne�:��A�[�\u0000&Q���6��'o?�C�@�.�\u0017�$�}?Ч����\u0017\u0006j�U�%)\b���Z�(�8�><� ֶҝ��`@�Cq��Ns�D��$��%\u0005��襤�`�)q\u001em��.��c\u0019\u001a�uy�\r�<M�2�Հb�)���p�6 N����k��nK|q�g���X�o\u0017�d\u00109��� +�Z$��&�� ���7�ɗ`�\u001b�dK0�5a���;��B��j�^�yZ\u0015��.�~\n",
            "\f������\u001cO\t/�c)�wڇ��b�\u000b\u0000\u0000��\u0003\u0000PK\u0003\u0004\u0014\u0000\u0006\u0000\b\u0000\u0000\u0000!\u0000���5\u001e\u0003\u0000\u0000�\u0007\u0000\u0000\u000f\u0000\u0000\u0000xl/workbook.xml�U]O�0\u0014}���\u0010�=8N��F\u0004�R�!�\t1>\u001e���\"�3ۡE���k�)-��A�����9��:\u0007G˺�\u001e��B6\u0019\"{\u0001�x�d!��\f]]��\u0010y�Ц��lx�\u001e�FG�߿\u001d,���Iy�\u0001@�3T\u001aӦ\u0018kV��=��\u0006F�R��@S�a�*N\u000b]rn�\n",
            "�A����\u0006�\u0010R�\u0011\f9�\u000bƧ�u5o�\n",
            "D�\u001a��K��\u001e�f\u001f�����Z�ɺ\u0005����yt�ȫYzz�HEg\u0015�^��[*�%�'\u0001\u0014a�\u0013\f�٪\u0016LI-�f\u000f���\u001b�$���`�6\u0006\u001fC���\u000fᆕJ>�*�`%/`$�2\u001a\u0001k9��\u0010�O��\u001bn!:<���_���Ѷ�Ek{R\u0015�*��I!\f/2�\u000fM��;\u001d�k'��`���\f\u0010>���\\y\u0005�Ӯ2�`�\u001e\u001e&&�(��L0Ƹ2\\5��c�\u0018��Z�W=簏K\t\u000e�.��N(\u000e�\u0005�\u0002�PR�ҙ>���:Ue\b_i\u0010\u000f\u00062\u0002O��7��[��o3�?lI�ՊA�����p���z�Fy�~:�\t��M\u001f�0�ȋu���h\u000fn\u001b�Rr�����`x|⏒\u0001�I\u0010E�x\u0014�~4�'c2\u001d\u000f'��\u0019Ĩ$e�v�\\����P\u0014�3tF��\b\t�N\u0014/4������Uя=[��F�\u0016|�_\u001ca���F4�\\8E��{����\u001b�\u0011�)3\u0014\u000e����\u0007\u0017w%�%�q\u0004��\u0019��/�\f�Y��嘡\u001dn�\u0015�\u001c\u001e�\u0016;��\u00169w�\u0002IW{�s���E�\f\\���\u0005\u001cy*���ӂX}���3L��]�[k\u0006[k��kθb%mv6\u00015�M\\.�\u001d�\u0015����c3\"A8��|i~j�j�(L��$\u0018��\u00019����\u00022I\"?��x�L�Obg\b��I�\u0016q��;d��jNM\u0007�eS˵S[���M�|ձ��N��\u0017S+e��_\u0013�k�K��!\u0014�[}@p�Y=�\u000b\u0000\u0000��\u0003\u0000PK\u0003\u0004\u0014\u0000\u0006\u0000\b\u0000\u0000\u0000!\u0000�\u0017\u0010�N\u0007\u0000\u0000� \u0000\u0000\u0013\u0000\u0000\u0000xl/theme/theme1.xml�Y͋\u001b7\u0014�\u0017�?\fsw�5�%���l��$d��\u001c���QV32��\u001b\u0013\u0002%9�R(���Bo=��@\u0003\r��\t$��\u001f�'��#��$�lJZv\r�G������~z�t�ҽ�zG�\u000b�_�P�=��ؘ$Ӗk8(4|OH��\u0011e\tn�\u000b,�K۟~r\u0011m�\b��\u0003�Dl��\u001fI9�*\u0016�\b����f8��&��H�#�\u0016�\u001c\u001d�ޘ\u0016+�R�\u0018#��^�bP{}2!#�\r�J{��O�1�B\r�(�W��%���òB���R�\u001d!��a�1;\u001e�{��(\u0012\u0012~h�%��\u0017�/\u0016�V&D�\u0006YCn��2�L`|X�s���j� \b�Z{�_\u0003�\\����Z��ҧ\u0001h4�����:�n�a\rP�ա�W�U�\u0016��_]��\u001d���נT��\u001f\f��E\u000b�A)>\\Ç�f�g�נ\u0014_[��K�^P��kPDIr��.��jw��\u0015d��\u0013�\f�A��)�Q�\r��RSLX\"7�Z��2>\u0000�\u0002R$I���\fO�\b���(9���%�\b\u0012o�\u0012&`�T)\rJU��>���#��02��]`�X\u001bR�xb��L��+��7 /�={����=����_���*Kn\u0007%SS�Տ_���\u0017�_�����7��'��Ŀ��˗���:����\u0015/�}���\u0017�}��O�\u001d��\u001c\u001d��!����c�&�a�\u000e��\u0001?��0BĒ@\u0011�v����\u0002^[ ��u����\u001cX�\u0005�<�kٺ\u001f�$���F�\u0005�c�v\u0018w:ચ���p�Lݓ󹉻�Бk�.J�\u0000��3�W�Rٍ�e�\r�\u0012��8��S��C�\u001d��C���=2�L����\u0010����%Cr`%R.�Cb���e �����m�èk�=|d#a[ �0~�����h.Q�R9D15\u001d��d�2r�G&�/$Dz�)��c,�K�:��\u001aA�\n",
            "\f�\u000e�\u001e]�6�Kr�ҹ�\u00183�=v؍P<s�L���~&\u000e!E�w�I\u0017|��;D=C\u001cP�1ܷ\t���f\"�\u0005�j��'��e�\u001d�����\u001f\u0017t���e�<�ص͉3;:�ڻ\u0018St��\u0018{�>sX�a3���W\"`�\u001d�J�+��U��`\u0001e��k�)r�\b+e��m�goq�x\u0016(�\u0011ߤ�\u001aD�J]8�Tz��\u000eM�5\u0002�\u001f��)�\u0005�0���I�\bYg�z\u0016�|]p+~o��`_�=��\u0004\u0019|j\u0019 ����\u0010Qk�<a�\b\n",
            "\f\u0017݂�\u0015�\\D��Zl؛6\u000f\u0003\u0014FV�\u0013���ω�'�w�\u001ew\u0001s\u0006\u0005�[���:�(e�D��\t�\u001f,kzh���p��s�yUs^�����f�^>�e�k��Z����Aj��|��&���O���3!���\u0005ŻBw}\u0004�ь\u00070��Q�'�j\u0001�\"��5�,ܔ#-�q&?'2ڏ�\fZCe����L�Tx3&�c��u+\u0015�Э�N�x���Ng�����\u000b\u0005��x)\\�C�J��Z=�ޭ��~�TwY�\u0006(��\u0018aLf\u001bQu\u0018Q_\u000eB\u0014^g�^ٙX�tX�PꗡZFq�\n",
            "0m\u0015\u0015x���E��A�A�f\u001c��c\u0015������\n",
            "ΙFz�3��\u0001Pb/3 �tSٺqyjui��E�-#�t��0�0�\u0017�,;͖�Yƺ���2O�b�\u001br3�\u000f\u0011kE\"'��&&S��;n��j\b�*#4k�\u0013�\u0018��x\u0006�#�[\u0017�S�v\u0019I�n�wa�\u0019\u0017��D�:\\�N�\u00061��{��-_-�\r4�\u001c�m+W�\u0010>Z�@+\u001f�q\u0010t;�x2�#i��\u0018Q�N\u001f��S�p����\u001d�$�\u001c½\u001f���\u0003:�7\u0011�XX/+\u0007�����r��1���\u0015���w�`�h׼��9��#:�Pv��d��5����O+\u001f\u0018Oٚ���.<��\u0003��O�7\u001f��s\u0006i�g��*��t��;�\r��CԲ*�n�N-r�k.�\u000e\u0012�yJ���}�\u0003�0-��2MY�NÊ��Q۴3,\b\fO�6�muF8=�'?ȝ�Zu@,�J����ܼ�f\u0007w�<zp8�R�PBo�#(��\u001bȔ6`�ܓY�\b߼9'-�~)l\u0007�J�-�\u001aa�\u0010T�R�\u0011���v\u0018V���\\�u*\u000f�`�Q\\\u000e���\u0001\\a�Evi���.���-ͅ\u0011��L_�\u0017����\\�|q�\u0011 ���ʠYmvj�f�=(\u0004�N����:�^�[�\rzݰ�\u001c<�#\r\u000e��nP�7\n",
            "�r�[\bj%e~�Y�\u0007�J;��\u001b��� +c`�)}d�\u0000�j���\u0001\u0000\u0000��\u0003\u0000PK\u0003\u0004\u0014\u0000\u0006\u0000\b\u0000\u0000\u0000!\u0000�)���\t\u0000\u0000�I\u0000\u0000\r\u0000\u0000\u0000xl/styles.xml�\\m��\u0011����\u0007�7ɧ0~\u0007<\u0001�\u0006\u0006'[�ٻ�N*��1��_�-��R��iI�%�2�\u0019���\u001dl��[ݏZRK��m�j��J�|�[w���yT,�|5���\u0014�V�0_�i��c}\u0017W�\u000f���nT�]\u001a{�c�\u0001D^��\u0017����QE/q\u0016Vw�:��eQf!��reT�2\u000e\u0017\u0015.���m�}#\u000b�\\�\b�Y$\u0003����f݋�l\u001d��9I\u0013�#X��E��WyQ��)����0ҶV���m�\b!w\u000f�dIT\u0016U�Dw�k\u0014�e\u0012Ň���o�\u0011C\u0002��!Y�a�Bݷ�;�\\���'�}�d�o� C�\u0016\u0015�\u001c�;�[\u001a���\u0002n�]]�^�\u0015\u000b�ӟ��)�_�@�|��O�i��dd�p�Ѳ�9T�\u0004���k^��\u0007�7*\u000b?6\u0019U�j��\u0014��\u0018$*Ң�\u0010p\u0002DY�N\u001ef1}b\u0016��s����0K�\u001d�M�\u0011\u001a��e\t8�hD%(�3<��s�>ڗd����*��H���\u0018�\u0005=I�ﴠ ��E����u!���z��1�\\=�� ��cQv_���0f��ks�\u0015�\rnV3'p�A�5\u0013��E��vX�\u0013ti�3\u0002������ٽ�S��\u00031��7h\u0001��ukń���<\u0019\u0004�s\u000b�ܸK��c\u0006�ʡ�MҴ\u001d'8}\u0018(�;�\u0011��P\\�\u0001\\h����\u001a��\u001c��\u000b&ϝyzU�;�&ݗA\u001f=S�*�d��X�Ȁ�n���<�͉\\N3\u0018�|\u00044\bf�+�Χ��{Mg��5�\u001d��c�\u0007\u000f:�>��3��\r��J�\u0016OC\t\u001em�w\u0003���V8\u001c��c�.1�s��$_��\u0018\u0006����t��\u0007\u001a����۠��\u000e���j��\u0002\u0003�\u001bz�o���\f���A�6�t�^�4P�UN\u0003E^%#L���_���r�r\u001a(�*��\"�\u000e:��\u0003�^�4P�UN\u0003E^%ّ\u000e�*d�\u0014���\u0006���i�ȫ�\r>�\b�+�*��\"�r\u001a�ګ��jn�ur�pd����͸MM��^o!k`�.�E&��d�\\�\u000bX\ti��&�G��(��\b2\u000f%���_T����\u0002!X.��\u0016I�*�0�I�DIXY�E���^��\u0015�\t\u0019Q�\u0007*�Z\u0012�\b�♋;ṕ��}:9�Ht\u0016/�MvX�V��6\u0000fĶ=_qΆx\u0005����\u001eK\u0006\u0019���$K\u0010W\u0013OK\u0016\u0000N4��,�E\u001dYbT��\\\t�:r\u0005$�ȕ�E�b\u0003�z�\u000e\u000e��i�\u0019��|9\u000e��5ϖ9���\"G,z�L\u0017����CF�m�+!�\u001b��$o�\u0012���ц'$~��[x�-5�P\u000f=G\u0014��7\u001c���l�\u000f��LF�%��\n",
            "k�8��\u0017a�Wȣ�_iWA/�\u000b9U�>YH\u000b��t�u�=�e@\u0016܉\br\u0017�r�Ք�q��!MVy\u0016���Na~*\u000b\u0014G�l\b }�)}�\u0013�X5��>\u001f��ױ�\u0019\u0011�$m��ȇ��Q�`\u0017��\\J�\u0000���\u001e�\u0002��o��%#a\u0016�h\u0000NP�\u0001��\u001a\r��*4��E�\u0001\u0010�i\u0000�����\u0003��f�\u0001&\u0012�_K$Ę����+��T�\u0005�7i�\u0016\u0017o����pq-3�\n"
          ]
        }
      ]
    },
    {
      "cell_type": "markdown",
      "metadata": {
        "id": "vCigOwm9gv3A"
      },
      "source": [
        "![green-divider](https://user-images.githubusercontent.com/7065401/52071924-c003ad80-2562-11e9-8297-1c6595f8a7ff.png)\n",
        "\n",
        "## The `read_excel` method\n",
        "\n",
        "We'll begin with the **read_excel** method, that let us read Excel files into a `DataFrame`.\n",
        "\n",
        "This method supports both XLS and XLSX file extensions from a local filesystem or URL and has a broad set of parameters to configure how the data will be read and parsed. These parameters are very similar to the parameters we saw on previous lectures where we introduced the `read_csv` method. The most common parameters are as follows:\n",
        "\n",
        "- `filepath`: Path of the file to be read.\n",
        "- `sheet_name`: Strings are used for sheet names. Integers are used in zero-indexed sheet positions. Lists of strings/integers are used to request multiple sheets. Specify None to get all sheets.\n",
        "- `header`: Index of the row containing the names of the columns (None if none).\n",
        "- `index_col`: Index of the column or sequence of indexes that should be used as index of rows of the data.\n",
        "- `names`: Sequence containing the names of the columns (used together with header = None).\n",
        "- `skiprows`: Number of rows or sequence of row indexes to ignore in the load.\n",
        "- `na_values`: Sequence of values that, if found in the file, should be treated as NaN.\n",
        "- `dtype`: Dictionary in which the keys will be column names and the values will be types of NumPy to which their content must be converted.\n",
        "- `parse_dates`: Flag that indicates if Python should try to parse data with a format similar to dates as dates. You can enter a list of column names that must be joined for the parsing as a date.\n",
        "- `date_parser`: Function to use to try to parse dates.\n",
        "- `nrows`: Number of rows to read from the beginning of the file.\n",
        "- `skip_footer`: Number of rows to ignore at the end of the file.\n",
        "- `squeeze`: Flag that indicates that if the data read only contains one column the result is a Series instead of a DataFrame.\n",
        "- `thousands`: Character to use to detect the thousands separator.\n",
        "\n",
        "> Full `read_excel` documentation can be found here: https://pandas.pydata.org/pandas-docs/stable/reference/api/pandas.read_excel.html."
      ]
    },
    {
      "cell_type": "markdown",
      "metadata": {
        "id": "GVNmF7lqgv3A"
      },
      "source": [
        "In this case we'll try to read our `products.xlsx` Excel file.\n",
        "\n",
        "This file contains records of products with its price, brand, description and merchant information on different sheets."
      ]
    },
    {
      "cell_type": "markdown",
      "metadata": {
        "id": "BKillo3kgv3A"
      },
      "source": [
        "![green-divider](https://user-images.githubusercontent.com/7065401/52071924-c003ad80-2562-11e9-8297-1c6595f8a7ff.png)\n",
        "\n",
        "## Reading our first Excel file\n",
        "\n",
        "Everytime we call `read_excel` method, we'll need to pass an explicit `filepath` parameter indicating the path where our Excel file is.\n",
        "\n",
        "Any valid string path is acceptable. The string could be a URL. Valid URL schemes include HTTP, FTP, S3, and file. For file URLs, a host is expected. A local file could be: `file://localhost/path/to/table.xlsx`."
      ]
    },
    {
      "cell_type": "code",
      "execution_count": null,
      "metadata": {
        "scrolled": false,
        "id": "yQKQbTOEgv3A"
      },
      "outputs": [],
      "source": [
        "df = pd.read_excel('products.xlsx')"
      ]
    },
    {
      "cell_type": "code",
      "execution_count": null,
      "metadata": {
        "id": "xgcfWYmPgv3A",
        "outputId": "764af86d-2eff-4df0-f4da-3caf95191a56"
      },
      "outputs": [
        {
          "data": {
            "text/html": [
              "<div>\n",
              "<style scoped>\n",
              "    .dataframe tbody tr th:only-of-type {\n",
              "        vertical-align: middle;\n",
              "    }\n",
              "\n",
              "    .dataframe tbody tr th {\n",
              "        vertical-align: top;\n",
              "    }\n",
              "\n",
              "    .dataframe thead th {\n",
              "        text-align: right;\n",
              "    }\n",
              "</style>\n",
              "<table border=\"1\" class=\"dataframe\">\n",
              "  <thead>\n",
              "    <tr style=\"text-align: right;\">\n",
              "      <th></th>\n",
              "      <th>product_id</th>\n",
              "      <th>price</th>\n",
              "      <th>merchant_id</th>\n",
              "      <th>brand</th>\n",
              "      <th>name</th>\n",
              "    </tr>\n",
              "  </thead>\n",
              "  <tbody>\n",
              "    <tr>\n",
              "      <th>0</th>\n",
              "      <td>AVphzgbJLJeJML43fA0o</td>\n",
              "      <td>104.99</td>\n",
              "      <td>1001</td>\n",
              "      <td>Sanus</td>\n",
              "      <td>Sanus VLF410B1 10-Inch Super Slim Full-Motion ...</td>\n",
              "    </tr>\n",
              "    <tr>\n",
              "      <th>1</th>\n",
              "      <td>AVpgMuGwLJeJML43KY_c</td>\n",
              "      <td>69.00</td>\n",
              "      <td>1002</td>\n",
              "      <td>Boytone</td>\n",
              "      <td>Boytone - 2500W 2.1-Ch. Home Theater System - ...</td>\n",
              "    </tr>\n",
              "    <tr>\n",
              "      <th>2</th>\n",
              "      <td>AVpe9FXeLJeJML43zHrq</td>\n",
              "      <td>23.99</td>\n",
              "      <td>1001</td>\n",
              "      <td>DENAQ</td>\n",
              "      <td>DENAQ - AC Adapter for TOSHIBA SATELLITE</td>\n",
              "    </tr>\n",
              "    <tr>\n",
              "      <th>3</th>\n",
              "      <td>AVpfVJXu1cnluZ0-iwTT</td>\n",
              "      <td>290.99</td>\n",
              "      <td>1001</td>\n",
              "      <td>DreamWave</td>\n",
              "      <td>DreamWave - Tremor Portable Bluetooth Speaker ...</td>\n",
              "    </tr>\n",
              "    <tr>\n",
              "      <th>4</th>\n",
              "      <td>AVphUeKeilAPnD_x3-Be</td>\n",
              "      <td>244.01</td>\n",
              "      <td>1004</td>\n",
              "      <td>Yamaha</td>\n",
              "      <td>NS-SP1800BL 5.1-Channel Home Theater System (B...</td>\n",
              "    </tr>\n",
              "  </tbody>\n",
              "</table>\n",
              "</div>"
            ],
            "text/plain": [
              "             product_id   price  merchant_id      brand  \\\n",
              "0  AVphzgbJLJeJML43fA0o  104.99         1001      Sanus   \n",
              "1  AVpgMuGwLJeJML43KY_c   69.00         1002    Boytone   \n",
              "2  AVpe9FXeLJeJML43zHrq   23.99         1001      DENAQ   \n",
              "3  AVpfVJXu1cnluZ0-iwTT  290.99         1001  DreamWave   \n",
              "4  AVphUeKeilAPnD_x3-Be  244.01         1004     Yamaha   \n",
              "\n",
              "                                                name  \n",
              "0  Sanus VLF410B1 10-Inch Super Slim Full-Motion ...  \n",
              "1  Boytone - 2500W 2.1-Ch. Home Theater System - ...  \n",
              "2           DENAQ - AC Adapter for TOSHIBA SATELLITE  \n",
              "3  DreamWave - Tremor Portable Bluetooth Speaker ...  \n",
              "4  NS-SP1800BL 5.1-Channel Home Theater System (B...  "
            ]
          },
          "execution_count": 3,
          "metadata": {},
          "output_type": "execute_result"
        }
      ],
      "source": [
        "df.head()"
      ]
    },
    {
      "cell_type": "markdown",
      "metadata": {
        "id": "avHE5967gv3A"
      },
      "source": [
        "In this case we let pandas infer everything related to our data, but in most of the cases we'll need to explicitly tell pandas how we want our data to be loaded. To do that we use parameters.\n",
        "\n",
        "Let's see how theses parameters work."
      ]
    },
    {
      "cell_type": "markdown",
      "metadata": {
        "id": "r3ioWYZ2gv3B"
      },
      "source": [
        "![green-divider](https://user-images.githubusercontent.com/7065401/52071924-c003ad80-2562-11e9-8297-1c6595f8a7ff.png)\n",
        "\n",
        "## First row behaviour with `header` parameter\n",
        "\n",
        "The Excel file we're reading has the following columns:\n",
        "\n",
        "- `product_id`\n",
        "- `price`\n",
        "- `merchant_id`\n",
        "- `brand`\n",
        "- `name`\n",
        "\n",
        "The first row (0-index) of the data has that column names, so we keep the implicit `header=0` parameter to let Pandas assign this first row as headers. We can overwrite this behavior defining explicitly the `header` parameter."
      ]
    },
    {
      "cell_type": "code",
      "execution_count": null,
      "metadata": {
        "id": "JdOWe4tggv3B",
        "outputId": "7ea58f32-4993-4ee5-d9a8-85e08f64e154"
      },
      "outputs": [
        {
          "data": {
            "text/html": [
              "<div>\n",
              "<style scoped>\n",
              "    .dataframe tbody tr th:only-of-type {\n",
              "        vertical-align: middle;\n",
              "    }\n",
              "\n",
              "    .dataframe tbody tr th {\n",
              "        vertical-align: top;\n",
              "    }\n",
              "\n",
              "    .dataframe thead th {\n",
              "        text-align: right;\n",
              "    }\n",
              "</style>\n",
              "<table border=\"1\" class=\"dataframe\">\n",
              "  <thead>\n",
              "    <tr style=\"text-align: right;\">\n",
              "      <th></th>\n",
              "      <th>product_id</th>\n",
              "      <th>price</th>\n",
              "      <th>merchant_id</th>\n",
              "      <th>brand</th>\n",
              "      <th>name</th>\n",
              "    </tr>\n",
              "  </thead>\n",
              "  <tbody>\n",
              "    <tr>\n",
              "      <th>0</th>\n",
              "      <td>AVphzgbJLJeJML43fA0o</td>\n",
              "      <td>104.99</td>\n",
              "      <td>1001</td>\n",
              "      <td>Sanus</td>\n",
              "      <td>Sanus VLF410B1 10-Inch Super Slim Full-Motion ...</td>\n",
              "    </tr>\n",
              "    <tr>\n",
              "      <th>1</th>\n",
              "      <td>AVpgMuGwLJeJML43KY_c</td>\n",
              "      <td>69.00</td>\n",
              "      <td>1002</td>\n",
              "      <td>Boytone</td>\n",
              "      <td>Boytone - 2500W 2.1-Ch. Home Theater System - ...</td>\n",
              "    </tr>\n",
              "    <tr>\n",
              "      <th>2</th>\n",
              "      <td>AVpe9FXeLJeJML43zHrq</td>\n",
              "      <td>23.99</td>\n",
              "      <td>1001</td>\n",
              "      <td>DENAQ</td>\n",
              "      <td>DENAQ - AC Adapter for TOSHIBA SATELLITE</td>\n",
              "    </tr>\n",
              "    <tr>\n",
              "      <th>3</th>\n",
              "      <td>AVpfVJXu1cnluZ0-iwTT</td>\n",
              "      <td>290.99</td>\n",
              "      <td>1001</td>\n",
              "      <td>DreamWave</td>\n",
              "      <td>DreamWave - Tremor Portable Bluetooth Speaker ...</td>\n",
              "    </tr>\n",
              "    <tr>\n",
              "      <th>4</th>\n",
              "      <td>AVphUeKeilAPnD_x3-Be</td>\n",
              "      <td>244.01</td>\n",
              "      <td>1004</td>\n",
              "      <td>Yamaha</td>\n",
              "      <td>NS-SP1800BL 5.1-Channel Home Theater System (B...</td>\n",
              "    </tr>\n",
              "  </tbody>\n",
              "</table>\n",
              "</div>"
            ],
            "text/plain": [
              "             product_id   price  merchant_id      brand  \\\n",
              "0  AVphzgbJLJeJML43fA0o  104.99         1001      Sanus   \n",
              "1  AVpgMuGwLJeJML43KY_c   69.00         1002    Boytone   \n",
              "2  AVpe9FXeLJeJML43zHrq   23.99         1001      DENAQ   \n",
              "3  AVpfVJXu1cnluZ0-iwTT  290.99         1001  DreamWave   \n",
              "4  AVphUeKeilAPnD_x3-Be  244.01         1004     Yamaha   \n",
              "\n",
              "                                                name  \n",
              "0  Sanus VLF410B1 10-Inch Super Slim Full-Motion ...  \n",
              "1  Boytone - 2500W 2.1-Ch. Home Theater System - ...  \n",
              "2           DENAQ - AC Adapter for TOSHIBA SATELLITE  \n",
              "3  DreamWave - Tremor Portable Bluetooth Speaker ...  \n",
              "4  NS-SP1800BL 5.1-Channel Home Theater System (B...  "
            ]
          },
          "execution_count": 4,
          "metadata": {},
          "output_type": "execute_result"
        }
      ],
      "source": [
        "pd.read_excel('products.xlsx').head()"
      ]
    },
    {
      "cell_type": "code",
      "execution_count": null,
      "metadata": {
        "id": "NVXrvB_Sgv3B",
        "outputId": "6ae113fb-19bc-47a2-810b-d83ec12dc507"
      },
      "outputs": [
        {
          "data": {
            "text/html": [
              "<div>\n",
              "<style scoped>\n",
              "    .dataframe tbody tr th:only-of-type {\n",
              "        vertical-align: middle;\n",
              "    }\n",
              "\n",
              "    .dataframe tbody tr th {\n",
              "        vertical-align: top;\n",
              "    }\n",
              "\n",
              "    .dataframe thead th {\n",
              "        text-align: right;\n",
              "    }\n",
              "</style>\n",
              "<table border=\"1\" class=\"dataframe\">\n",
              "  <thead>\n",
              "    <tr style=\"text-align: right;\">\n",
              "      <th></th>\n",
              "      <th>0</th>\n",
              "      <th>1</th>\n",
              "      <th>2</th>\n",
              "      <th>3</th>\n",
              "      <th>4</th>\n",
              "    </tr>\n",
              "  </thead>\n",
              "  <tbody>\n",
              "    <tr>\n",
              "      <th>0</th>\n",
              "      <td>product_id</td>\n",
              "      <td>price</td>\n",
              "      <td>merchant_id</td>\n",
              "      <td>brand</td>\n",
              "      <td>name</td>\n",
              "    </tr>\n",
              "    <tr>\n",
              "      <th>1</th>\n",
              "      <td>AVphzgbJLJeJML43fA0o</td>\n",
              "      <td>104.99</td>\n",
              "      <td>1001</td>\n",
              "      <td>Sanus</td>\n",
              "      <td>Sanus VLF410B1 10-Inch Super Slim Full-Motion ...</td>\n",
              "    </tr>\n",
              "    <tr>\n",
              "      <th>2</th>\n",
              "      <td>AVpgMuGwLJeJML43KY_c</td>\n",
              "      <td>69</td>\n",
              "      <td>1002</td>\n",
              "      <td>Boytone</td>\n",
              "      <td>Boytone - 2500W 2.1-Ch. Home Theater System - ...</td>\n",
              "    </tr>\n",
              "    <tr>\n",
              "      <th>3</th>\n",
              "      <td>AVpe9FXeLJeJML43zHrq</td>\n",
              "      <td>23.99</td>\n",
              "      <td>1001</td>\n",
              "      <td>DENAQ</td>\n",
              "      <td>DENAQ - AC Adapter for TOSHIBA SATELLITE</td>\n",
              "    </tr>\n",
              "    <tr>\n",
              "      <th>4</th>\n",
              "      <td>AVpfVJXu1cnluZ0-iwTT</td>\n",
              "      <td>290.99</td>\n",
              "      <td>1001</td>\n",
              "      <td>DreamWave</td>\n",
              "      <td>DreamWave - Tremor Portable Bluetooth Speaker ...</td>\n",
              "    </tr>\n",
              "  </tbody>\n",
              "</table>\n",
              "</div>"
            ],
            "text/plain": [
              "                      0       1            2          3  \\\n",
              "0            product_id   price  merchant_id      brand   \n",
              "1  AVphzgbJLJeJML43fA0o  104.99         1001      Sanus   \n",
              "2  AVpgMuGwLJeJML43KY_c      69         1002    Boytone   \n",
              "3  AVpe9FXeLJeJML43zHrq   23.99         1001      DENAQ   \n",
              "4  AVpfVJXu1cnluZ0-iwTT  290.99         1001  DreamWave   \n",
              "\n",
              "                                                   4  \n",
              "0                                               name  \n",
              "1  Sanus VLF410B1 10-Inch Super Slim Full-Motion ...  \n",
              "2  Boytone - 2500W 2.1-Ch. Home Theater System - ...  \n",
              "3           DENAQ - AC Adapter for TOSHIBA SATELLITE  \n",
              "4  DreamWave - Tremor Portable Bluetooth Speaker ...  "
            ]
          },
          "execution_count": 5,
          "metadata": {},
          "output_type": "execute_result"
        }
      ],
      "source": [
        "pd.read_excel('products.xlsx',\n",
        "              header=None).head()"
      ]
    },
    {
      "cell_type": "markdown",
      "metadata": {
        "id": "5Rp2VuaNgv3B"
      },
      "source": [
        "![green-divider](https://user-images.githubusercontent.com/7065401/52071924-c003ad80-2562-11e9-8297-1c6595f8a7ff.png)\n",
        "\n",
        "## Adding index to our data using `index_col` parameter\n",
        "\n",
        "By default, pandas will automatically assign a numeric autoincremental index or row label starting with zero.\n",
        "\n",
        "You may want to leave the default index as such if your data doesn’t have a column with unique values that can serve as a better index.\n",
        "\n",
        "In case there is a column that you feel would serve as a better index, you can override the default behavior by setting `index_col` property to a column. It takes a numeric value or a string for setting a single column as index or a list of numeric values for creating a multi-index.\n",
        "\n",
        "In our data, we are choosing the first column, `product_id`, as index (index=0) by passing zero to the `index_col` argument."
      ]
    },
    {
      "cell_type": "code",
      "execution_count": null,
      "metadata": {
        "id": "Ei4M3HXUgv3B"
      },
      "outputs": [],
      "source": [
        "df = pd.read_excel('products.xlsx',\n",
        "                   index_col=[0])"
      ]
    },
    {
      "cell_type": "code",
      "execution_count": null,
      "metadata": {
        "id": "CDQf-v21gv3B",
        "outputId": "8202bbab-6897-496d-e4ca-319b8438d538"
      },
      "outputs": [
        {
          "data": {
            "text/html": [
              "<div>\n",
              "<style scoped>\n",
              "    .dataframe tbody tr th:only-of-type {\n",
              "        vertical-align: middle;\n",
              "    }\n",
              "\n",
              "    .dataframe tbody tr th {\n",
              "        vertical-align: top;\n",
              "    }\n",
              "\n",
              "    .dataframe thead th {\n",
              "        text-align: right;\n",
              "    }\n",
              "</style>\n",
              "<table border=\"1\" class=\"dataframe\">\n",
              "  <thead>\n",
              "    <tr style=\"text-align: right;\">\n",
              "      <th></th>\n",
              "      <th>price</th>\n",
              "      <th>merchant_id</th>\n",
              "      <th>brand</th>\n",
              "      <th>name</th>\n",
              "    </tr>\n",
              "    <tr>\n",
              "      <th>product_id</th>\n",
              "      <th></th>\n",
              "      <th></th>\n",
              "      <th></th>\n",
              "      <th></th>\n",
              "    </tr>\n",
              "  </thead>\n",
              "  <tbody>\n",
              "    <tr>\n",
              "      <th>AVphzgbJLJeJML43fA0o</th>\n",
              "      <td>104.99</td>\n",
              "      <td>1001</td>\n",
              "      <td>Sanus</td>\n",
              "      <td>Sanus VLF410B1 10-Inch Super Slim Full-Motion ...</td>\n",
              "    </tr>\n",
              "    <tr>\n",
              "      <th>AVpgMuGwLJeJML43KY_c</th>\n",
              "      <td>69.00</td>\n",
              "      <td>1002</td>\n",
              "      <td>Boytone</td>\n",
              "      <td>Boytone - 2500W 2.1-Ch. Home Theater System - ...</td>\n",
              "    </tr>\n",
              "    <tr>\n",
              "      <th>AVpe9FXeLJeJML43zHrq</th>\n",
              "      <td>23.99</td>\n",
              "      <td>1001</td>\n",
              "      <td>DENAQ</td>\n",
              "      <td>DENAQ - AC Adapter for TOSHIBA SATELLITE</td>\n",
              "    </tr>\n",
              "    <tr>\n",
              "      <th>AVpfVJXu1cnluZ0-iwTT</th>\n",
              "      <td>290.99</td>\n",
              "      <td>1001</td>\n",
              "      <td>DreamWave</td>\n",
              "      <td>DreamWave - Tremor Portable Bluetooth Speaker ...</td>\n",
              "    </tr>\n",
              "    <tr>\n",
              "      <th>AVphUeKeilAPnD_x3-Be</th>\n",
              "      <td>244.01</td>\n",
              "      <td>1004</td>\n",
              "      <td>Yamaha</td>\n",
              "      <td>NS-SP1800BL 5.1-Channel Home Theater System (B...</td>\n",
              "    </tr>\n",
              "  </tbody>\n",
              "</table>\n",
              "</div>"
            ],
            "text/plain": [
              "                       price  merchant_id      brand  \\\n",
              "product_id                                             \n",
              "AVphzgbJLJeJML43fA0o  104.99         1001      Sanus   \n",
              "AVpgMuGwLJeJML43KY_c   69.00         1002    Boytone   \n",
              "AVpe9FXeLJeJML43zHrq   23.99         1001      DENAQ   \n",
              "AVpfVJXu1cnluZ0-iwTT  290.99         1001  DreamWave   \n",
              "AVphUeKeilAPnD_x3-Be  244.01         1004     Yamaha   \n",
              "\n",
              "                                                                   name  \n",
              "product_id                                                               \n",
              "AVphzgbJLJeJML43fA0o  Sanus VLF410B1 10-Inch Super Slim Full-Motion ...  \n",
              "AVpgMuGwLJeJML43KY_c  Boytone - 2500W 2.1-Ch. Home Theater System - ...  \n",
              "AVpe9FXeLJeJML43zHrq           DENAQ - AC Adapter for TOSHIBA SATELLITE  \n",
              "AVpfVJXu1cnluZ0-iwTT  DreamWave - Tremor Portable Bluetooth Speaker ...  \n",
              "AVphUeKeilAPnD_x3-Be  NS-SP1800BL 5.1-Channel Home Theater System (B...  "
            ]
          },
          "execution_count": 5,
          "metadata": {},
          "output_type": "execute_result"
        }
      ],
      "source": [
        "df.head()"
      ]
    },
    {
      "cell_type": "markdown",
      "metadata": {
        "id": "BXjvefPIgv3B"
      },
      "source": [
        "![green-divider](https://user-images.githubusercontent.com/7065401/52071924-c003ad80-2562-11e9-8297-1c6595f8a7ff.png)\n",
        "\n",
        "## Selecting specific sheets\n",
        "\n",
        "Excel files quite often have multiple sheets and the ability to read a specific sheet or all of them is very important. To make this easy, the pandas `read_excel` method takes an argument called `sheet_name` that tells pandas which sheet to read in the data from.\n",
        "\n",
        "For this, you can either use the sheet name or the sheet number. Sheet numbers start with zero. The first sheet will be the one loaded by default. You can change sheet by specifying `sheet_name` parameter."
      ]
    },
    {
      "cell_type": "code",
      "execution_count": null,
      "metadata": {
        "id": "PgmgrsT_gv3B"
      },
      "outputs": [],
      "source": [
        "products = pd.read_excel('products.xlsx',\n",
        "                         sheet_name='Products',\n",
        "                         index_col='product_id')"
      ]
    },
    {
      "cell_type": "code",
      "execution_count": null,
      "metadata": {
        "id": "jQMmGcM4gv3B",
        "outputId": "0a41b63b-03bf-4975-d324-58326c67c868"
      },
      "outputs": [
        {
          "data": {
            "text/html": [
              "<div>\n",
              "<style scoped>\n",
              "    .dataframe tbody tr th:only-of-type {\n",
              "        vertical-align: middle;\n",
              "    }\n",
              "\n",
              "    .dataframe tbody tr th {\n",
              "        vertical-align: top;\n",
              "    }\n",
              "\n",
              "    .dataframe thead th {\n",
              "        text-align: right;\n",
              "    }\n",
              "</style>\n",
              "<table border=\"1\" class=\"dataframe\">\n",
              "  <thead>\n",
              "    <tr style=\"text-align: right;\">\n",
              "      <th></th>\n",
              "      <th>price</th>\n",
              "      <th>merchant_id</th>\n",
              "      <th>brand</th>\n",
              "      <th>name</th>\n",
              "    </tr>\n",
              "    <tr>\n",
              "      <th>product_id</th>\n",
              "      <th></th>\n",
              "      <th></th>\n",
              "      <th></th>\n",
              "      <th></th>\n",
              "    </tr>\n",
              "  </thead>\n",
              "  <tbody>\n",
              "    <tr>\n",
              "      <th>AVphzgbJLJeJML43fA0o</th>\n",
              "      <td>104.99</td>\n",
              "      <td>1001</td>\n",
              "      <td>Sanus</td>\n",
              "      <td>Sanus VLF410B1 10-Inch Super Slim Full-Motion ...</td>\n",
              "    </tr>\n",
              "    <tr>\n",
              "      <th>AVpgMuGwLJeJML43KY_c</th>\n",
              "      <td>69.00</td>\n",
              "      <td>1002</td>\n",
              "      <td>Boytone</td>\n",
              "      <td>Boytone - 2500W 2.1-Ch. Home Theater System - ...</td>\n",
              "    </tr>\n",
              "    <tr>\n",
              "      <th>AVpe9FXeLJeJML43zHrq</th>\n",
              "      <td>23.99</td>\n",
              "      <td>1001</td>\n",
              "      <td>DENAQ</td>\n",
              "      <td>DENAQ - AC Adapter for TOSHIBA SATELLITE</td>\n",
              "    </tr>\n",
              "    <tr>\n",
              "      <th>AVpfVJXu1cnluZ0-iwTT</th>\n",
              "      <td>290.99</td>\n",
              "      <td>1001</td>\n",
              "      <td>DreamWave</td>\n",
              "      <td>DreamWave - Tremor Portable Bluetooth Speaker ...</td>\n",
              "    </tr>\n",
              "    <tr>\n",
              "      <th>AVphUeKeilAPnD_x3-Be</th>\n",
              "      <td>244.01</td>\n",
              "      <td>1004</td>\n",
              "      <td>Yamaha</td>\n",
              "      <td>NS-SP1800BL 5.1-Channel Home Theater System (B...</td>\n",
              "    </tr>\n",
              "  </tbody>\n",
              "</table>\n",
              "</div>"
            ],
            "text/plain": [
              "                       price  merchant_id      brand  \\\n",
              "product_id                                             \n",
              "AVphzgbJLJeJML43fA0o  104.99         1001      Sanus   \n",
              "AVpgMuGwLJeJML43KY_c   69.00         1002    Boytone   \n",
              "AVpe9FXeLJeJML43zHrq   23.99         1001      DENAQ   \n",
              "AVpfVJXu1cnluZ0-iwTT  290.99         1001  DreamWave   \n",
              "AVphUeKeilAPnD_x3-Be  244.01         1004     Yamaha   \n",
              "\n",
              "                                                                   name  \n",
              "product_id                                                               \n",
              "AVphzgbJLJeJML43fA0o  Sanus VLF410B1 10-Inch Super Slim Full-Motion ...  \n",
              "AVpgMuGwLJeJML43KY_c  Boytone - 2500W 2.1-Ch. Home Theater System - ...  \n",
              "AVpe9FXeLJeJML43zHrq           DENAQ - AC Adapter for TOSHIBA SATELLITE  \n",
              "AVpfVJXu1cnluZ0-iwTT  DreamWave - Tremor Portable Bluetooth Speaker ...  \n",
              "AVphUeKeilAPnD_x3-Be  NS-SP1800BL 5.1-Channel Home Theater System (B...  "
            ]
          },
          "execution_count": 9,
          "metadata": {},
          "output_type": "execute_result"
        }
      ],
      "source": [
        "products.head()"
      ]
    },
    {
      "cell_type": "code",
      "execution_count": null,
      "metadata": {
        "scrolled": false,
        "id": "Db4wLvuigv3B"
      },
      "outputs": [],
      "source": [
        "merchants = pd.read_excel('products.xlsx',\n",
        "                          sheet_name='Merchants',\n",
        "                          index_col='merchant_id')"
      ]
    },
    {
      "cell_type": "code",
      "execution_count": null,
      "metadata": {
        "id": "BY_NR7bDgv3C",
        "outputId": "7116db00-694d-4b6b-eed5-906ebfc2585a"
      },
      "outputs": [
        {
          "data": {
            "text/html": [
              "<div>\n",
              "<style scoped>\n",
              "    .dataframe tbody tr th:only-of-type {\n",
              "        vertical-align: middle;\n",
              "    }\n",
              "\n",
              "    .dataframe tbody tr th {\n",
              "        vertical-align: top;\n",
              "    }\n",
              "\n",
              "    .dataframe thead th {\n",
              "        text-align: right;\n",
              "    }\n",
              "</style>\n",
              "<table border=\"1\" class=\"dataframe\">\n",
              "  <thead>\n",
              "    <tr style=\"text-align: right;\">\n",
              "      <th></th>\n",
              "      <th>merchant</th>\n",
              "    </tr>\n",
              "    <tr>\n",
              "      <th>merchant_id</th>\n",
              "      <th></th>\n",
              "    </tr>\n",
              "  </thead>\n",
              "  <tbody>\n",
              "    <tr>\n",
              "      <th>1001</th>\n",
              "      <td>Bestbuy.com</td>\n",
              "    </tr>\n",
              "    <tr>\n",
              "      <th>1002</th>\n",
              "      <td>Walmart.com</td>\n",
              "    </tr>\n",
              "    <tr>\n",
              "      <th>1003</th>\n",
              "      <td>Bestbuy.com</td>\n",
              "    </tr>\n",
              "    <tr>\n",
              "      <th>1004</th>\n",
              "      <td>Growkart</td>\n",
              "    </tr>\n",
              "    <tr>\n",
              "      <th>1005</th>\n",
              "      <td>bhphotovideo.com</td>\n",
              "    </tr>\n",
              "  </tbody>\n",
              "</table>\n",
              "</div>"
            ],
            "text/plain": [
              "                     merchant\n",
              "merchant_id                  \n",
              "1001              Bestbuy.com\n",
              "1002              Walmart.com\n",
              "1003              Bestbuy.com\n",
              "1004                 Growkart\n",
              "1005         bhphotovideo.com"
            ]
          },
          "execution_count": 11,
          "metadata": {},
          "output_type": "execute_result"
        }
      ],
      "source": [
        "merchants.head()"
      ]
    },
    {
      "cell_type": "markdown",
      "metadata": {
        "id": "--OiUs6wgv3C"
      },
      "source": [
        "![green-divider](https://user-images.githubusercontent.com/7065401/52071924-c003ad80-2562-11e9-8297-1c6595f8a7ff.png)\n",
        "\n",
        "## The `ExcelFile` class\n",
        "\n",
        "Another approach on reading Excel data is using the `ExcelFile` class for parsing tabular Excel sheets into `DataFrame` objects.\n",
        "\n",
        "This `ExcelFile` will let us work with sheets easily, and will be faster than the previous `read_excel` method."
      ]
    },
    {
      "cell_type": "code",
      "execution_count": null,
      "metadata": {
        "id": "Impubbetgv3C"
      },
      "outputs": [],
      "source": [
        "excel_file = pd.ExcelFile('products.xlsx')"
      ]
    },
    {
      "cell_type": "markdown",
      "metadata": {
        "id": "yqu2LU7lgv3C"
      },
      "source": [
        "We can now explore the sheets on that Excel file with `sheet_names`:"
      ]
    },
    {
      "cell_type": "code",
      "execution_count": null,
      "metadata": {
        "id": "txzoMG3xgv3C",
        "outputId": "f87a095c-e9a8-460e-a9c9-f4cd8df2c70c"
      },
      "outputs": [
        {
          "data": {
            "text/plain": [
              "['Products', 'Descriptions', 'Merchants']"
            ]
          },
          "execution_count": 13,
          "metadata": {},
          "output_type": "execute_result"
        }
      ],
      "source": [
        "excel_file.sheet_names"
      ]
    },
    {
      "cell_type": "markdown",
      "metadata": {
        "id": "-yCabL7igv3C"
      },
      "source": [
        "And parse specified sheet(s) into a Pandas' `DataFrame` using ExcelFile's `parse()` method.\n",
        "\n",
        "Everytime we call `parse()` method, we'll need to pass an explicit `sheet_name` parameter indicating which sheet from the Excel file we want to be parsed. First sheet will be parsed by default."
      ]
    },
    {
      "cell_type": "code",
      "execution_count": null,
      "metadata": {
        "id": "-LjSkk2Ggv3C"
      },
      "outputs": [],
      "source": [
        "products = excel_file.parse('Products')"
      ]
    },
    {
      "cell_type": "code",
      "execution_count": null,
      "metadata": {
        "id": "K--Tq9N5gv3C",
        "outputId": "ca181ba0-60cb-42ce-e463-5b1a5579551a"
      },
      "outputs": [
        {
          "data": {
            "text/html": [
              "<div>\n",
              "<style scoped>\n",
              "    .dataframe tbody tr th:only-of-type {\n",
              "        vertical-align: middle;\n",
              "    }\n",
              "\n",
              "    .dataframe tbody tr th {\n",
              "        vertical-align: top;\n",
              "    }\n",
              "\n",
              "    .dataframe thead th {\n",
              "        text-align: right;\n",
              "    }\n",
              "</style>\n",
              "<table border=\"1\" class=\"dataframe\">\n",
              "  <thead>\n",
              "    <tr style=\"text-align: right;\">\n",
              "      <th></th>\n",
              "      <th>product_id</th>\n",
              "      <th>price</th>\n",
              "      <th>merchant_id</th>\n",
              "      <th>brand</th>\n",
              "      <th>name</th>\n",
              "    </tr>\n",
              "  </thead>\n",
              "  <tbody>\n",
              "    <tr>\n",
              "      <th>0</th>\n",
              "      <td>AVphzgbJLJeJML43fA0o</td>\n",
              "      <td>104.99</td>\n",
              "      <td>1001</td>\n",
              "      <td>Sanus</td>\n",
              "      <td>Sanus VLF410B1 10-Inch Super Slim Full-Motion ...</td>\n",
              "    </tr>\n",
              "    <tr>\n",
              "      <th>1</th>\n",
              "      <td>AVpgMuGwLJeJML43KY_c</td>\n",
              "      <td>69.00</td>\n",
              "      <td>1002</td>\n",
              "      <td>Boytone</td>\n",
              "      <td>Boytone - 2500W 2.1-Ch. Home Theater System - ...</td>\n",
              "    </tr>\n",
              "    <tr>\n",
              "      <th>2</th>\n",
              "      <td>AVpe9FXeLJeJML43zHrq</td>\n",
              "      <td>23.99</td>\n",
              "      <td>1001</td>\n",
              "      <td>DENAQ</td>\n",
              "      <td>DENAQ - AC Adapter for TOSHIBA SATELLITE</td>\n",
              "    </tr>\n",
              "    <tr>\n",
              "      <th>3</th>\n",
              "      <td>AVpfVJXu1cnluZ0-iwTT</td>\n",
              "      <td>290.99</td>\n",
              "      <td>1001</td>\n",
              "      <td>DreamWave</td>\n",
              "      <td>DreamWave - Tremor Portable Bluetooth Speaker ...</td>\n",
              "    </tr>\n",
              "    <tr>\n",
              "      <th>4</th>\n",
              "      <td>AVphUeKeilAPnD_x3-Be</td>\n",
              "      <td>244.01</td>\n",
              "      <td>1004</td>\n",
              "      <td>Yamaha</td>\n",
              "      <td>NS-SP1800BL 5.1-Channel Home Theater System (B...</td>\n",
              "    </tr>\n",
              "  </tbody>\n",
              "</table>\n",
              "</div>"
            ],
            "text/plain": [
              "             product_id   price  merchant_id      brand  \\\n",
              "0  AVphzgbJLJeJML43fA0o  104.99         1001      Sanus   \n",
              "1  AVpgMuGwLJeJML43KY_c   69.00         1002    Boytone   \n",
              "2  AVpe9FXeLJeJML43zHrq   23.99         1001      DENAQ   \n",
              "3  AVpfVJXu1cnluZ0-iwTT  290.99         1001  DreamWave   \n",
              "4  AVphUeKeilAPnD_x3-Be  244.01         1004     Yamaha   \n",
              "\n",
              "                                                name  \n",
              "0  Sanus VLF410B1 10-Inch Super Slim Full-Motion ...  \n",
              "1  Boytone - 2500W 2.1-Ch. Home Theater System - ...  \n",
              "2           DENAQ - AC Adapter for TOSHIBA SATELLITE  \n",
              "3  DreamWave - Tremor Portable Bluetooth Speaker ...  \n",
              "4  NS-SP1800BL 5.1-Channel Home Theater System (B...  "
            ]
          },
          "execution_count": 15,
          "metadata": {},
          "output_type": "execute_result"
        }
      ],
      "source": [
        "products.head()"
      ]
    },
    {
      "cell_type": "markdown",
      "metadata": {
        "id": "k1DGL9Mxgv3C"
      },
      "source": [
        "This `parse()` method has all the parameters we saw before on `read_excel()` method, let's try some of them:"
      ]
    },
    {
      "cell_type": "code",
      "execution_count": null,
      "metadata": {
        "id": "gZQkqfD-gv3C"
      },
      "outputs": [],
      "source": [
        "products = excel_file.parse(sheet_name='Products',\n",
        "                            header=0,\n",
        "                            index_col='product_id')"
      ]
    },
    {
      "cell_type": "code",
      "execution_count": null,
      "metadata": {
        "id": "pXVehiZAgv3C",
        "outputId": "5ff36f6c-b309-4431-f61a-0a06ca6cc17d"
      },
      "outputs": [
        {
          "data": {
            "text/html": [
              "<div>\n",
              "<style scoped>\n",
              "    .dataframe tbody tr th:only-of-type {\n",
              "        vertical-align: middle;\n",
              "    }\n",
              "\n",
              "    .dataframe tbody tr th {\n",
              "        vertical-align: top;\n",
              "    }\n",
              "\n",
              "    .dataframe thead th {\n",
              "        text-align: right;\n",
              "    }\n",
              "</style>\n",
              "<table border=\"1\" class=\"dataframe\">\n",
              "  <thead>\n",
              "    <tr style=\"text-align: right;\">\n",
              "      <th></th>\n",
              "      <th>price</th>\n",
              "      <th>merchant_id</th>\n",
              "      <th>brand</th>\n",
              "      <th>name</th>\n",
              "    </tr>\n",
              "    <tr>\n",
              "      <th>product_id</th>\n",
              "      <th></th>\n",
              "      <th></th>\n",
              "      <th></th>\n",
              "      <th></th>\n",
              "    </tr>\n",
              "  </thead>\n",
              "  <tbody>\n",
              "    <tr>\n",
              "      <th>AVphzgbJLJeJML43fA0o</th>\n",
              "      <td>104.99</td>\n",
              "      <td>1001</td>\n",
              "      <td>Sanus</td>\n",
              "      <td>Sanus VLF410B1 10-Inch Super Slim Full-Motion ...</td>\n",
              "    </tr>\n",
              "    <tr>\n",
              "      <th>AVpgMuGwLJeJML43KY_c</th>\n",
              "      <td>69.00</td>\n",
              "      <td>1002</td>\n",
              "      <td>Boytone</td>\n",
              "      <td>Boytone - 2500W 2.1-Ch. Home Theater System - ...</td>\n",
              "    </tr>\n",
              "    <tr>\n",
              "      <th>AVpe9FXeLJeJML43zHrq</th>\n",
              "      <td>23.99</td>\n",
              "      <td>1001</td>\n",
              "      <td>DENAQ</td>\n",
              "      <td>DENAQ - AC Adapter for TOSHIBA SATELLITE</td>\n",
              "    </tr>\n",
              "    <tr>\n",
              "      <th>AVpfVJXu1cnluZ0-iwTT</th>\n",
              "      <td>290.99</td>\n",
              "      <td>1001</td>\n",
              "      <td>DreamWave</td>\n",
              "      <td>DreamWave - Tremor Portable Bluetooth Speaker ...</td>\n",
              "    </tr>\n",
              "    <tr>\n",
              "      <th>AVphUeKeilAPnD_x3-Be</th>\n",
              "      <td>244.01</td>\n",
              "      <td>1004</td>\n",
              "      <td>Yamaha</td>\n",
              "      <td>NS-SP1800BL 5.1-Channel Home Theater System (B...</td>\n",
              "    </tr>\n",
              "  </tbody>\n",
              "</table>\n",
              "</div>"
            ],
            "text/plain": [
              "                       price  merchant_id      brand  \\\n",
              "product_id                                             \n",
              "AVphzgbJLJeJML43fA0o  104.99         1001      Sanus   \n",
              "AVpgMuGwLJeJML43KY_c   69.00         1002    Boytone   \n",
              "AVpe9FXeLJeJML43zHrq   23.99         1001      DENAQ   \n",
              "AVpfVJXu1cnluZ0-iwTT  290.99         1001  DreamWave   \n",
              "AVphUeKeilAPnD_x3-Be  244.01         1004     Yamaha   \n",
              "\n",
              "                                                                   name  \n",
              "product_id                                                               \n",
              "AVphzgbJLJeJML43fA0o  Sanus VLF410B1 10-Inch Super Slim Full-Motion ...  \n",
              "AVpgMuGwLJeJML43KY_c  Boytone - 2500W 2.1-Ch. Home Theater System - ...  \n",
              "AVpe9FXeLJeJML43zHrq           DENAQ - AC Adapter for TOSHIBA SATELLITE  \n",
              "AVpfVJXu1cnluZ0-iwTT  DreamWave - Tremor Portable Bluetooth Speaker ...  \n",
              "AVphUeKeilAPnD_x3-Be  NS-SP1800BL 5.1-Channel Home Theater System (B...  "
            ]
          },
          "execution_count": 17,
          "metadata": {},
          "output_type": "execute_result"
        }
      ],
      "source": [
        "products.head()"
      ]
    },
    {
      "cell_type": "code",
      "execution_count": null,
      "metadata": {
        "id": "ExiBGVY4gv3C",
        "outputId": "27aed741-068f-4623-9336-7e208968b82b"
      },
      "outputs": [
        {
          "data": {
            "text/plain": [
              "price          float64\n",
              "merchant_id      int64\n",
              "brand           object\n",
              "name            object\n",
              "dtype: object"
            ]
          },
          "execution_count": 18,
          "metadata": {},
          "output_type": "execute_result"
        }
      ],
      "source": [
        "products.dtypes"
      ]
    },
    {
      "cell_type": "code",
      "execution_count": null,
      "metadata": {
        "id": "1LvuHV37gv3C"
      },
      "outputs": [],
      "source": [
        "merchants = excel_file.parse('Merchants',\n",
        "                             index_col='merchant_id')"
      ]
    },
    {
      "cell_type": "code",
      "execution_count": null,
      "metadata": {
        "id": "xZc6_035gv3C",
        "outputId": "4e094d08-1680-4fd6-b58f-3797eb9bb8da"
      },
      "outputs": [
        {
          "data": {
            "text/html": [
              "<div>\n",
              "<style scoped>\n",
              "    .dataframe tbody tr th:only-of-type {\n",
              "        vertical-align: middle;\n",
              "    }\n",
              "\n",
              "    .dataframe tbody tr th {\n",
              "        vertical-align: top;\n",
              "    }\n",
              "\n",
              "    .dataframe thead th {\n",
              "        text-align: right;\n",
              "    }\n",
              "</style>\n",
              "<table border=\"1\" class=\"dataframe\">\n",
              "  <thead>\n",
              "    <tr style=\"text-align: right;\">\n",
              "      <th></th>\n",
              "      <th>merchant</th>\n",
              "    </tr>\n",
              "    <tr>\n",
              "      <th>merchant_id</th>\n",
              "      <th></th>\n",
              "    </tr>\n",
              "  </thead>\n",
              "  <tbody>\n",
              "    <tr>\n",
              "      <th>1001</th>\n",
              "      <td>Bestbuy.com</td>\n",
              "    </tr>\n",
              "    <tr>\n",
              "      <th>1002</th>\n",
              "      <td>Walmart.com</td>\n",
              "    </tr>\n",
              "    <tr>\n",
              "      <th>1003</th>\n",
              "      <td>Bestbuy.com</td>\n",
              "    </tr>\n",
              "    <tr>\n",
              "      <th>1004</th>\n",
              "      <td>Growkart</td>\n",
              "    </tr>\n",
              "    <tr>\n",
              "      <th>1005</th>\n",
              "      <td>bhphotovideo.com</td>\n",
              "    </tr>\n",
              "  </tbody>\n",
              "</table>\n",
              "</div>"
            ],
            "text/plain": [
              "                     merchant\n",
              "merchant_id                  \n",
              "1001              Bestbuy.com\n",
              "1002              Walmart.com\n",
              "1003              Bestbuy.com\n",
              "1004                 Growkart\n",
              "1005         bhphotovideo.com"
            ]
          },
          "execution_count": 20,
          "metadata": {},
          "output_type": "execute_result"
        }
      ],
      "source": [
        "merchants.head()"
      ]
    },
    {
      "cell_type": "code",
      "execution_count": null,
      "metadata": {
        "id": "ni9N4Q-Igv3C",
        "outputId": "ee242985-02d4-4535-ce92-48031cbcb0d1"
      },
      "outputs": [
        {
          "data": {
            "text/plain": [
              "merchant    object\n",
              "dtype: object"
            ]
          },
          "execution_count": 21,
          "metadata": {},
          "output_type": "execute_result"
        }
      ],
      "source": [
        "merchants.dtypes"
      ]
    },
    {
      "cell_type": "markdown",
      "metadata": {
        "id": "lQjiGNNPgv3C"
      },
      "source": [
        "![green-divider](https://user-images.githubusercontent.com/7065401/52071924-c003ad80-2562-11e9-8297-1c6595f8a7ff.png)\n",
        "\n",
        "## Save to Excel file\n",
        "\n",
        "Finally we can save our `DataFrame` as a Excel file."
      ]
    },
    {
      "cell_type": "code",
      "execution_count": null,
      "metadata": {
        "id": "7VD2WW4Hgv3C",
        "outputId": "024ab677-6fe5-437b-8984-4381943dcca3"
      },
      "outputs": [
        {
          "data": {
            "text/html": [
              "<div>\n",
              "<style scoped>\n",
              "    .dataframe tbody tr th:only-of-type {\n",
              "        vertical-align: middle;\n",
              "    }\n",
              "\n",
              "    .dataframe tbody tr th {\n",
              "        vertical-align: top;\n",
              "    }\n",
              "\n",
              "    .dataframe thead th {\n",
              "        text-align: right;\n",
              "    }\n",
              "</style>\n",
              "<table border=\"1\" class=\"dataframe\">\n",
              "  <thead>\n",
              "    <tr style=\"text-align: right;\">\n",
              "      <th></th>\n",
              "      <th>price</th>\n",
              "      <th>merchant_id</th>\n",
              "      <th>brand</th>\n",
              "      <th>name</th>\n",
              "    </tr>\n",
              "    <tr>\n",
              "      <th>product_id</th>\n",
              "      <th></th>\n",
              "      <th></th>\n",
              "      <th></th>\n",
              "      <th></th>\n",
              "    </tr>\n",
              "  </thead>\n",
              "  <tbody>\n",
              "    <tr>\n",
              "      <th>AVphzgbJLJeJML43fA0o</th>\n",
              "      <td>104.99</td>\n",
              "      <td>1001</td>\n",
              "      <td>Sanus</td>\n",
              "      <td>Sanus VLF410B1 10-Inch Super Slim Full-Motion ...</td>\n",
              "    </tr>\n",
              "    <tr>\n",
              "      <th>AVpgMuGwLJeJML43KY_c</th>\n",
              "      <td>69.00</td>\n",
              "      <td>1002</td>\n",
              "      <td>Boytone</td>\n",
              "      <td>Boytone - 2500W 2.1-Ch. Home Theater System - ...</td>\n",
              "    </tr>\n",
              "    <tr>\n",
              "      <th>AVpe9FXeLJeJML43zHrq</th>\n",
              "      <td>23.99</td>\n",
              "      <td>1001</td>\n",
              "      <td>DENAQ</td>\n",
              "      <td>DENAQ - AC Adapter for TOSHIBA SATELLITE</td>\n",
              "    </tr>\n",
              "    <tr>\n",
              "      <th>AVpfVJXu1cnluZ0-iwTT</th>\n",
              "      <td>290.99</td>\n",
              "      <td>1001</td>\n",
              "      <td>DreamWave</td>\n",
              "      <td>DreamWave - Tremor Portable Bluetooth Speaker ...</td>\n",
              "    </tr>\n",
              "    <tr>\n",
              "      <th>AVphUeKeilAPnD_x3-Be</th>\n",
              "      <td>244.01</td>\n",
              "      <td>1004</td>\n",
              "      <td>Yamaha</td>\n",
              "      <td>NS-SP1800BL 5.1-Channel Home Theater System (B...</td>\n",
              "    </tr>\n",
              "  </tbody>\n",
              "</table>\n",
              "</div>"
            ],
            "text/plain": [
              "                       price  merchant_id      brand  \\\n",
              "product_id                                             \n",
              "AVphzgbJLJeJML43fA0o  104.99         1001      Sanus   \n",
              "AVpgMuGwLJeJML43KY_c   69.00         1002    Boytone   \n",
              "AVpe9FXeLJeJML43zHrq   23.99         1001      DENAQ   \n",
              "AVpfVJXu1cnluZ0-iwTT  290.99         1001  DreamWave   \n",
              "AVphUeKeilAPnD_x3-Be  244.01         1004     Yamaha   \n",
              "\n",
              "                                                                   name  \n",
              "product_id                                                               \n",
              "AVphzgbJLJeJML43fA0o  Sanus VLF410B1 10-Inch Super Slim Full-Motion ...  \n",
              "AVpgMuGwLJeJML43KY_c  Boytone - 2500W 2.1-Ch. Home Theater System - ...  \n",
              "AVpe9FXeLJeJML43zHrq           DENAQ - AC Adapter for TOSHIBA SATELLITE  \n",
              "AVpfVJXu1cnluZ0-iwTT  DreamWave - Tremor Portable Bluetooth Speaker ...  \n",
              "AVphUeKeilAPnD_x3-Be  NS-SP1800BL 5.1-Channel Home Theater System (B...  "
            ]
          },
          "execution_count": 22,
          "metadata": {},
          "output_type": "execute_result"
        }
      ],
      "source": [
        "products.head()"
      ]
    },
    {
      "cell_type": "markdown",
      "metadata": {
        "id": "sBDkkLdcgv3C"
      },
      "source": [
        "A fast, simple way to write a single `DataFrame` to an Excel file is to use the `to_excel()` method of the `DataFrame` directly.\n",
        "\n",
        "Note that it's required to pass a output file path.\n",
        "\n",
        "> The `OpenPyXL - openpyxl` library should be installed in order to save Excel files. `pip install openpyxl`"
      ]
    },
    {
      "cell_type": "code",
      "execution_count": null,
      "metadata": {
        "id": "efr77xFggv3D"
      },
      "outputs": [],
      "source": [
        "products.to_excel('out.xlsx')"
      ]
    },
    {
      "cell_type": "code",
      "execution_count": null,
      "metadata": {
        "id": "ZvvffUkUgv3D",
        "outputId": "410a067d-0390-4027-e7ad-9713fb2ebd65"
      },
      "outputs": [
        {
          "data": {
            "text/html": [
              "<div>\n",
              "<style scoped>\n",
              "    .dataframe tbody tr th:only-of-type {\n",
              "        vertical-align: middle;\n",
              "    }\n",
              "\n",
              "    .dataframe tbody tr th {\n",
              "        vertical-align: top;\n",
              "    }\n",
              "\n",
              "    .dataframe thead th {\n",
              "        text-align: right;\n",
              "    }\n",
              "</style>\n",
              "<table border=\"1\" class=\"dataframe\">\n",
              "  <thead>\n",
              "    <tr style=\"text-align: right;\">\n",
              "      <th></th>\n",
              "      <th>product_id</th>\n",
              "      <th>price</th>\n",
              "      <th>merchant_id</th>\n",
              "      <th>brand</th>\n",
              "      <th>name</th>\n",
              "    </tr>\n",
              "  </thead>\n",
              "  <tbody>\n",
              "    <tr>\n",
              "      <th>0</th>\n",
              "      <td>AVphzgbJLJeJML43fA0o</td>\n",
              "      <td>104.99</td>\n",
              "      <td>1001</td>\n",
              "      <td>Sanus</td>\n",
              "      <td>Sanus VLF410B1 10-Inch Super Slim Full-Motion ...</td>\n",
              "    </tr>\n",
              "    <tr>\n",
              "      <th>1</th>\n",
              "      <td>AVpgMuGwLJeJML43KY_c</td>\n",
              "      <td>69.00</td>\n",
              "      <td>1002</td>\n",
              "      <td>Boytone</td>\n",
              "      <td>Boytone - 2500W 2.1-Ch. Home Theater System - ...</td>\n",
              "    </tr>\n",
              "    <tr>\n",
              "      <th>2</th>\n",
              "      <td>AVpe9FXeLJeJML43zHrq</td>\n",
              "      <td>23.99</td>\n",
              "      <td>1001</td>\n",
              "      <td>DENAQ</td>\n",
              "      <td>DENAQ - AC Adapter for TOSHIBA SATELLITE</td>\n",
              "    </tr>\n",
              "    <tr>\n",
              "      <th>3</th>\n",
              "      <td>AVpfVJXu1cnluZ0-iwTT</td>\n",
              "      <td>290.99</td>\n",
              "      <td>1001</td>\n",
              "      <td>DreamWave</td>\n",
              "      <td>DreamWave - Tremor Portable Bluetooth Speaker ...</td>\n",
              "    </tr>\n",
              "    <tr>\n",
              "      <th>4</th>\n",
              "      <td>AVphUeKeilAPnD_x3-Be</td>\n",
              "      <td>244.01</td>\n",
              "      <td>1004</td>\n",
              "      <td>Yamaha</td>\n",
              "      <td>NS-SP1800BL 5.1-Channel Home Theater System (B...</td>\n",
              "    </tr>\n",
              "  </tbody>\n",
              "</table>\n",
              "</div>"
            ],
            "text/plain": [
              "             product_id   price  merchant_id      brand  \\\n",
              "0  AVphzgbJLJeJML43fA0o  104.99         1001      Sanus   \n",
              "1  AVpgMuGwLJeJML43KY_c   69.00         1002    Boytone   \n",
              "2  AVpe9FXeLJeJML43zHrq   23.99         1001      DENAQ   \n",
              "3  AVpfVJXu1cnluZ0-iwTT  290.99         1001  DreamWave   \n",
              "4  AVphUeKeilAPnD_x3-Be  244.01         1004     Yamaha   \n",
              "\n",
              "                                                name  \n",
              "0  Sanus VLF410B1 10-Inch Super Slim Full-Motion ...  \n",
              "1  Boytone - 2500W 2.1-Ch. Home Theater System - ...  \n",
              "2           DENAQ - AC Adapter for TOSHIBA SATELLITE  \n",
              "3  DreamWave - Tremor Portable Bluetooth Speaker ...  \n",
              "4  NS-SP1800BL 5.1-Channel Home Theater System (B...  "
            ]
          },
          "execution_count": 24,
          "metadata": {},
          "output_type": "execute_result"
        }
      ],
      "source": [
        "pd.read_excel('out.xlsx').head()"
      ]
    },
    {
      "cell_type": "markdown",
      "metadata": {
        "id": "3SZT3umAgv3D"
      },
      "source": [
        "We can specify the sheet name with `sheet_name` parameter:"
      ]
    },
    {
      "cell_type": "code",
      "execution_count": null,
      "metadata": {
        "id": "6lUN0-Eigv3D"
      },
      "outputs": [],
      "source": [
        "products.to_excel('out.xlsx',\n",
        "                  sheet_name='Products')"
      ]
    },
    {
      "cell_type": "markdown",
      "metadata": {
        "id": "k1bpK7Fggv3D"
      },
      "source": [
        "Further calls of `to_excel` with different sheet names will only overwrite the first sheet instead of adding additional sheets.\n",
        "\n",
        "Also, be aware that by removing the index, we'll lose that column."
      ]
    },
    {
      "cell_type": "code",
      "execution_count": null,
      "metadata": {
        "id": "Z8SxFl-lgv3D"
      },
      "outputs": [],
      "source": [
        "products.to_excel('out.xlsx',\n",
        "                  index=None)"
      ]
    },
    {
      "cell_type": "code",
      "execution_count": null,
      "metadata": {
        "scrolled": false,
        "id": "xhu1ssCtgv3D",
        "outputId": "aa575418-ec13-4ac3-f6a0-eeb0fdcba693"
      },
      "outputs": [
        {
          "data": {
            "text/html": [
              "<div>\n",
              "<style scoped>\n",
              "    .dataframe tbody tr th:only-of-type {\n",
              "        vertical-align: middle;\n",
              "    }\n",
              "\n",
              "    .dataframe tbody tr th {\n",
              "        vertical-align: top;\n",
              "    }\n",
              "\n",
              "    .dataframe thead th {\n",
              "        text-align: right;\n",
              "    }\n",
              "</style>\n",
              "<table border=\"1\" class=\"dataframe\">\n",
              "  <thead>\n",
              "    <tr style=\"text-align: right;\">\n",
              "      <th></th>\n",
              "      <th>price</th>\n",
              "      <th>merchant_id</th>\n",
              "      <th>brand</th>\n",
              "      <th>name</th>\n",
              "    </tr>\n",
              "  </thead>\n",
              "  <tbody>\n",
              "    <tr>\n",
              "      <th>0</th>\n",
              "      <td>104.99</td>\n",
              "      <td>1001</td>\n",
              "      <td>Sanus</td>\n",
              "      <td>Sanus VLF410B1 10-Inch Super Slim Full-Motion ...</td>\n",
              "    </tr>\n",
              "    <tr>\n",
              "      <th>1</th>\n",
              "      <td>69.00</td>\n",
              "      <td>1002</td>\n",
              "      <td>Boytone</td>\n",
              "      <td>Boytone - 2500W 2.1-Ch. Home Theater System - ...</td>\n",
              "    </tr>\n",
              "    <tr>\n",
              "      <th>2</th>\n",
              "      <td>23.99</td>\n",
              "      <td>1001</td>\n",
              "      <td>DENAQ</td>\n",
              "      <td>DENAQ - AC Adapter for TOSHIBA SATELLITE</td>\n",
              "    </tr>\n",
              "    <tr>\n",
              "      <th>3</th>\n",
              "      <td>290.99</td>\n",
              "      <td>1001</td>\n",
              "      <td>DreamWave</td>\n",
              "      <td>DreamWave - Tremor Portable Bluetooth Speaker ...</td>\n",
              "    </tr>\n",
              "    <tr>\n",
              "      <th>4</th>\n",
              "      <td>244.01</td>\n",
              "      <td>1004</td>\n",
              "      <td>Yamaha</td>\n",
              "      <td>NS-SP1800BL 5.1-Channel Home Theater System (B...</td>\n",
              "    </tr>\n",
              "  </tbody>\n",
              "</table>\n",
              "</div>"
            ],
            "text/plain": [
              "    price  merchant_id      brand  \\\n",
              "0  104.99         1001      Sanus   \n",
              "1   69.00         1002    Boytone   \n",
              "2   23.99         1001      DENAQ   \n",
              "3  290.99         1001  DreamWave   \n",
              "4  244.01         1004     Yamaha   \n",
              "\n",
              "                                                name  \n",
              "0  Sanus VLF410B1 10-Inch Super Slim Full-Motion ...  \n",
              "1  Boytone - 2500W 2.1-Ch. Home Theater System - ...  \n",
              "2           DENAQ - AC Adapter for TOSHIBA SATELLITE  \n",
              "3  DreamWave - Tremor Portable Bluetooth Speaker ...  \n",
              "4  NS-SP1800BL 5.1-Channel Home Theater System (B...  "
            ]
          },
          "execution_count": 27,
          "metadata": {},
          "output_type": "execute_result"
        }
      ],
      "source": [
        "pd.read_excel('out.xlsx').head()"
      ]
    },
    {
      "cell_type": "markdown",
      "metadata": {
        "id": "Y5-JZztCgv3F"
      },
      "source": [
        "![green-divider](https://user-images.githubusercontent.com/7065401/52071924-c003ad80-2562-11e9-8297-1c6595f8a7ff.png)\n",
        "\n",
        "## Positioning Data with `startrow` and `startcol`\n",
        "\n",
        "Suppose we wanted to insert the our data into the spreadsheet file in a position somewhere other than the top-left corner.\n",
        "\n",
        "We can shift where the `to_excel` method writes the data by using `startrow` to set the cell after which the first row will be printed, and `startcol` to set which cell after which the first column will be printed."
      ]
    },
    {
      "cell_type": "markdown",
      "metadata": {
        "id": "OIMMgAtYgv3F"
      },
      "source": [
        "<img src=\"https://user-images.githubusercontent.com/7065401/68594890-41378b80-0477-11ea-9ae4-ff87e5e1128d.png\" />"
      ]
    },
    {
      "cell_type": "code",
      "execution_count": null,
      "metadata": {
        "id": "3oX-je6ugv3F"
      },
      "outputs": [],
      "source": [
        "products.to_excel('out.xlsx',\n",
        "                  sheet_name='Products',\n",
        "                  startrow=1,\n",
        "                  startcol=2)"
      ]
    },
    {
      "cell_type": "markdown",
      "metadata": {
        "id": "SHaGdOO-gv3F"
      },
      "source": [
        "<img src=\"https://user-images.githubusercontent.com/7065401/68594828-249b5380-0477-11ea-87d7-af694c09f2d2.png\" />"
      ]
    },
    {
      "cell_type": "markdown",
      "metadata": {
        "id": "Uc9HCzQXgv3F"
      },
      "source": [
        "![green-divider](https://user-images.githubusercontent.com/7065401/52071924-c003ad80-2562-11e9-8297-1c6595f8a7ff.png)\n",
        "\n",
        "## Saving multiple sheets\n",
        "\n",
        "If we wanted to write a single `DataFrame` to a single sheet with default formatting then we are done. However, if we want to write multiple sheets and/or multiple `DataFrame`s, then we will need to create an `ExcelWriter` object.\n",
        "\n",
        "The `ExcelWriter` object is included in the Pandas module and is used to open Excel files and handle write operations. This object behaves almost exactly like the vanilla Python `open` object that we used on previous courses and can be used within a `with` block.\n",
        "\n",
        "> When the `ExcelWriter` object is executed, any existing file with the same name as the output file will be overwritten."
      ]
    },
    {
      "cell_type": "code",
      "execution_count": null,
      "metadata": {
        "id": "KjOpPAQNgv3F"
      },
      "outputs": [],
      "source": [
        "writer = pd.ExcelWriter('out.xlsx')"
      ]
    },
    {
      "cell_type": "code",
      "execution_count": null,
      "metadata": {
        "id": "fNZYT_vBgv3G",
        "outputId": "d2c3a9f9-450b-48ee-b430-188fb856127d"
      },
      "outputs": [
        {
          "data": {
            "text/plain": [
              "<pandas.io.excel._openpyxl._OpenpyxlWriter at 0x116668278>"
            ]
          },
          "execution_count": 30,
          "metadata": {},
          "output_type": "execute_result"
        }
      ],
      "source": [
        "writer"
      ]
    },
    {
      "cell_type": "markdown",
      "metadata": {
        "id": "l6B5KnVIgv3G"
      },
      "source": [
        "Instead of including the file pathname in the `to_excel` call, we will use the `ExcelWriter` object `writer` instead."
      ]
    },
    {
      "cell_type": "code",
      "execution_count": null,
      "metadata": {
        "id": "QFHR868-gv3G"
      },
      "outputs": [],
      "source": [
        "with writer:\n",
        "    products.to_excel(writer, sheet_name='Products')"
      ]
    },
    {
      "cell_type": "code",
      "execution_count": null,
      "metadata": {
        "id": "of28Fscsgv3G",
        "outputId": "7edf1b7a-a9bb-4624-80db-7a773b3b50bc"
      },
      "outputs": [
        {
          "data": {
            "text/html": [
              "<div>\n",
              "<style scoped>\n",
              "    .dataframe tbody tr th:only-of-type {\n",
              "        vertical-align: middle;\n",
              "    }\n",
              "\n",
              "    .dataframe tbody tr th {\n",
              "        vertical-align: top;\n",
              "    }\n",
              "\n",
              "    .dataframe thead th {\n",
              "        text-align: right;\n",
              "    }\n",
              "</style>\n",
              "<table border=\"1\" class=\"dataframe\">\n",
              "  <thead>\n",
              "    <tr style=\"text-align: right;\">\n",
              "      <th></th>\n",
              "      <th>product_id</th>\n",
              "      <th>price</th>\n",
              "      <th>merchant_id</th>\n",
              "      <th>brand</th>\n",
              "      <th>name</th>\n",
              "    </tr>\n",
              "  </thead>\n",
              "  <tbody>\n",
              "    <tr>\n",
              "      <th>0</th>\n",
              "      <td>AVphzgbJLJeJML43fA0o</td>\n",
              "      <td>104.99</td>\n",
              "      <td>1001</td>\n",
              "      <td>Sanus</td>\n",
              "      <td>Sanus VLF410B1 10-Inch Super Slim Full-Motion ...</td>\n",
              "    </tr>\n",
              "    <tr>\n",
              "      <th>1</th>\n",
              "      <td>AVpgMuGwLJeJML43KY_c</td>\n",
              "      <td>69.00</td>\n",
              "      <td>1002</td>\n",
              "      <td>Boytone</td>\n",
              "      <td>Boytone - 2500W 2.1-Ch. Home Theater System - ...</td>\n",
              "    </tr>\n",
              "    <tr>\n",
              "      <th>2</th>\n",
              "      <td>AVpe9FXeLJeJML43zHrq</td>\n",
              "      <td>23.99</td>\n",
              "      <td>1001</td>\n",
              "      <td>DENAQ</td>\n",
              "      <td>DENAQ - AC Adapter for TOSHIBA SATELLITE</td>\n",
              "    </tr>\n",
              "    <tr>\n",
              "      <th>3</th>\n",
              "      <td>AVpfVJXu1cnluZ0-iwTT</td>\n",
              "      <td>290.99</td>\n",
              "      <td>1001</td>\n",
              "      <td>DreamWave</td>\n",
              "      <td>DreamWave - Tremor Portable Bluetooth Speaker ...</td>\n",
              "    </tr>\n",
              "    <tr>\n",
              "      <th>4</th>\n",
              "      <td>AVphUeKeilAPnD_x3-Be</td>\n",
              "      <td>244.01</td>\n",
              "      <td>1004</td>\n",
              "      <td>Yamaha</td>\n",
              "      <td>NS-SP1800BL 5.1-Channel Home Theater System (B...</td>\n",
              "    </tr>\n",
              "  </tbody>\n",
              "</table>\n",
              "</div>"
            ],
            "text/plain": [
              "             product_id   price  merchant_id      brand  \\\n",
              "0  AVphzgbJLJeJML43fA0o  104.99         1001      Sanus   \n",
              "1  AVpgMuGwLJeJML43KY_c   69.00         1002    Boytone   \n",
              "2  AVpe9FXeLJeJML43zHrq   23.99         1001      DENAQ   \n",
              "3  AVpfVJXu1cnluZ0-iwTT  290.99         1001  DreamWave   \n",
              "4  AVphUeKeilAPnD_x3-Be  244.01         1004     Yamaha   \n",
              "\n",
              "                                                name  \n",
              "0  Sanus VLF410B1 10-Inch Super Slim Full-Motion ...  \n",
              "1  Boytone - 2500W 2.1-Ch. Home Theater System - ...  \n",
              "2           DENAQ - AC Adapter for TOSHIBA SATELLITE  \n",
              "3  DreamWave - Tremor Portable Bluetooth Speaker ...  \n",
              "4  NS-SP1800BL 5.1-Channel Home Theater System (B...  "
            ]
          },
          "execution_count": 32,
          "metadata": {},
          "output_type": "execute_result"
        }
      ],
      "source": [
        "pd.read_excel('out.xlsx', sheet_name='Products').head()"
      ]
    },
    {
      "cell_type": "markdown",
      "metadata": {
        "id": "YVtMrgF8gv3G"
      },
      "source": [
        "We can now add another `Merchants` sheet simply using the `writer` object:"
      ]
    },
    {
      "cell_type": "code",
      "execution_count": null,
      "metadata": {
        "id": "euhYlDEggv3G"
      },
      "outputs": [],
      "source": [
        "with writer:\n",
        "    merchants.to_excel(writer, sheet_name='Merchants')"
      ]
    },
    {
      "cell_type": "code",
      "execution_count": null,
      "metadata": {
        "id": "-Gfihr16gv3G",
        "outputId": "753900ab-c075-4dc7-c850-4d677773fae3"
      },
      "outputs": [
        {
          "data": {
            "text/html": [
              "<div>\n",
              "<style scoped>\n",
              "    .dataframe tbody tr th:only-of-type {\n",
              "        vertical-align: middle;\n",
              "    }\n",
              "\n",
              "    .dataframe tbody tr th {\n",
              "        vertical-align: top;\n",
              "    }\n",
              "\n",
              "    .dataframe thead th {\n",
              "        text-align: right;\n",
              "    }\n",
              "</style>\n",
              "<table border=\"1\" class=\"dataframe\">\n",
              "  <thead>\n",
              "    <tr style=\"text-align: right;\">\n",
              "      <th></th>\n",
              "      <th>product_id</th>\n",
              "      <th>price</th>\n",
              "      <th>merchant_id</th>\n",
              "      <th>brand</th>\n",
              "      <th>name</th>\n",
              "    </tr>\n",
              "  </thead>\n",
              "  <tbody>\n",
              "    <tr>\n",
              "      <th>0</th>\n",
              "      <td>AVphzgbJLJeJML43fA0o</td>\n",
              "      <td>104.99</td>\n",
              "      <td>1001</td>\n",
              "      <td>Sanus</td>\n",
              "      <td>Sanus VLF410B1 10-Inch Super Slim Full-Motion ...</td>\n",
              "    </tr>\n",
              "    <tr>\n",
              "      <th>1</th>\n",
              "      <td>AVpgMuGwLJeJML43KY_c</td>\n",
              "      <td>69.00</td>\n",
              "      <td>1002</td>\n",
              "      <td>Boytone</td>\n",
              "      <td>Boytone - 2500W 2.1-Ch. Home Theater System - ...</td>\n",
              "    </tr>\n",
              "    <tr>\n",
              "      <th>2</th>\n",
              "      <td>AVpe9FXeLJeJML43zHrq</td>\n",
              "      <td>23.99</td>\n",
              "      <td>1001</td>\n",
              "      <td>DENAQ</td>\n",
              "      <td>DENAQ - AC Adapter for TOSHIBA SATELLITE</td>\n",
              "    </tr>\n",
              "    <tr>\n",
              "      <th>3</th>\n",
              "      <td>AVpfVJXu1cnluZ0-iwTT</td>\n",
              "      <td>290.99</td>\n",
              "      <td>1001</td>\n",
              "      <td>DreamWave</td>\n",
              "      <td>DreamWave - Tremor Portable Bluetooth Speaker ...</td>\n",
              "    </tr>\n",
              "    <tr>\n",
              "      <th>4</th>\n",
              "      <td>AVphUeKeilAPnD_x3-Be</td>\n",
              "      <td>244.01</td>\n",
              "      <td>1004</td>\n",
              "      <td>Yamaha</td>\n",
              "      <td>NS-SP1800BL 5.1-Channel Home Theater System (B...</td>\n",
              "    </tr>\n",
              "  </tbody>\n",
              "</table>\n",
              "</div>"
            ],
            "text/plain": [
              "             product_id   price  merchant_id      brand  \\\n",
              "0  AVphzgbJLJeJML43fA0o  104.99         1001      Sanus   \n",
              "1  AVpgMuGwLJeJML43KY_c   69.00         1002    Boytone   \n",
              "2  AVpe9FXeLJeJML43zHrq   23.99         1001      DENAQ   \n",
              "3  AVpfVJXu1cnluZ0-iwTT  290.99         1001  DreamWave   \n",
              "4  AVphUeKeilAPnD_x3-Be  244.01         1004     Yamaha   \n",
              "\n",
              "                                                name  \n",
              "0  Sanus VLF410B1 10-Inch Super Slim Full-Motion ...  \n",
              "1  Boytone - 2500W 2.1-Ch. Home Theater System - ...  \n",
              "2           DENAQ - AC Adapter for TOSHIBA SATELLITE  \n",
              "3  DreamWave - Tremor Portable Bluetooth Speaker ...  \n",
              "4  NS-SP1800BL 5.1-Channel Home Theater System (B...  "
            ]
          },
          "execution_count": 34,
          "metadata": {},
          "output_type": "execute_result"
        }
      ],
      "source": [
        "pd.read_excel('out.xlsx', sheet_name='Products').head()"
      ]
    },
    {
      "cell_type": "code",
      "execution_count": null,
      "metadata": {
        "id": "rJLlYvNrgv3G",
        "outputId": "575be054-be65-4c76-938b-cbe2d79fb025"
      },
      "outputs": [
        {
          "data": {
            "text/html": [
              "<div>\n",
              "<style scoped>\n",
              "    .dataframe tbody tr th:only-of-type {\n",
              "        vertical-align: middle;\n",
              "    }\n",
              "\n",
              "    .dataframe tbody tr th {\n",
              "        vertical-align: top;\n",
              "    }\n",
              "\n",
              "    .dataframe thead th {\n",
              "        text-align: right;\n",
              "    }\n",
              "</style>\n",
              "<table border=\"1\" class=\"dataframe\">\n",
              "  <thead>\n",
              "    <tr style=\"text-align: right;\">\n",
              "      <th></th>\n",
              "      <th>merchant_id</th>\n",
              "      <th>merchant</th>\n",
              "    </tr>\n",
              "  </thead>\n",
              "  <tbody>\n",
              "    <tr>\n",
              "      <th>0</th>\n",
              "      <td>1001</td>\n",
              "      <td>Bestbuy.com</td>\n",
              "    </tr>\n",
              "    <tr>\n",
              "      <th>1</th>\n",
              "      <td>1002</td>\n",
              "      <td>Walmart.com</td>\n",
              "    </tr>\n",
              "    <tr>\n",
              "      <th>2</th>\n",
              "      <td>1003</td>\n",
              "      <td>Bestbuy.com</td>\n",
              "    </tr>\n",
              "    <tr>\n",
              "      <th>3</th>\n",
              "      <td>1004</td>\n",
              "      <td>Growkart</td>\n",
              "    </tr>\n",
              "    <tr>\n",
              "      <th>4</th>\n",
              "      <td>1005</td>\n",
              "      <td>bhphotovideo.com</td>\n",
              "    </tr>\n",
              "  </tbody>\n",
              "</table>\n",
              "</div>"
            ],
            "text/plain": [
              "   merchant_id          merchant\n",
              "0         1001       Bestbuy.com\n",
              "1         1002       Walmart.com\n",
              "2         1003       Bestbuy.com\n",
              "3         1004          Growkart\n",
              "4         1005  bhphotovideo.com"
            ]
          },
          "execution_count": 35,
          "metadata": {},
          "output_type": "execute_result"
        }
      ],
      "source": [
        "pd.read_excel('out.xlsx', sheet_name='Merchants').head()"
      ]
    },
    {
      "cell_type": "markdown",
      "metadata": {
        "id": "mIL4FoM9gv3G"
      },
      "source": [
        "Or we can save multiple sheets at the same time:"
      ]
    },
    {
      "cell_type": "code",
      "execution_count": null,
      "metadata": {
        "id": "Wp0TKuiOgv3G"
      },
      "outputs": [],
      "source": [
        "with pd.ExcelWriter('out.xlsx') as writer:\n",
        "    products.to_excel(writer, sheet_name='Products')\n",
        "    merchants.to_excel(writer, sheet_name='Merchants')"
      ]
    },
    {
      "cell_type": "markdown",
      "metadata": {
        "id": "gB725HvEgv3G"
      },
      "source": [
        "In that case the resulting `out.xlxs` file will have two sheets `Products` and `Merchants`."
      ]
    },
    {
      "cell_type": "markdown",
      "metadata": {
        "id": "qIe-6Kjmgv3H"
      },
      "source": [
        "![purple-divider](https://user-images.githubusercontent.com/7065401/52071927-c1cd7100-2562-11e9-908a-dde91ba14e59.png)"
      ]
    }
  ],
  "metadata": {
    "kernelspec": {
      "display_name": "Python 3",
      "language": "python",
      "name": "python3"
    },
    "language_info": {
      "codemirror_mode": {
        "name": "ipython",
        "version": 3
      },
      "file_extension": ".py",
      "mimetype": "text/x-python",
      "name": "python",
      "nbconvert_exporter": "python",
      "pygments_lexer": "ipython3",
      "version": "3.6.8"
    },
    "colab": {
      "provenance": []
    }
  },
  "nbformat": 4,
  "nbformat_minor": 0
}