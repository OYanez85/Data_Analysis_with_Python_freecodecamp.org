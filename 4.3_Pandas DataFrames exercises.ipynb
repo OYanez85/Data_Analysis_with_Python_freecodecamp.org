{
  "cells": [
    {
      "cell_type": "markdown",
      "source": [
        "[![Open In Colab](https://colab.research.google.com/assets/colab-badge.svg)](https://colab.research.google.com/github/OYanez85/Data_Analysis_with_Python_freecodecamp.org/blob/main/4.3_Pandas%20DataFrames%20exercises.ipynb#scrollTo=68VgDUbPIYxQ)\n"
      ],
      "metadata": {
        "id": "68VgDUbPIYxQ"
      }
    },
    {
      "cell_type": "markdown",
      "metadata": {
        "id": "239VgNfCIX1w"
      },
      "source": [
        "![rmotr](https://user-images.githubusercontent.com/7065401/52071918-bda15380-2562-11e9-828c-7f95297e4a82.png)\n",
        "<hr style=\"margin-bottom: 40px;\">\n",
        "\n",
        "# Pandas DataFrame exercises\n"
      ]
    },
    {
      "cell_type": "code",
      "execution_count": null,
      "metadata": {
        "id": "Zd9P39gwIX1y"
      },
      "outputs": [],
      "source": [
        "# Import the numpy package under the name np\n",
        "import numpy as np\n",
        "\n",
        "# Import the pandas package under the name pd\n",
        "import pandas as pd\n",
        "\n",
        "# Import the matplotlib package under the name plt\n",
        "import matplotlib.pyplot as plt\n",
        "%matplotlib inline\n",
        "\n",
        "# Print the pandas version and the configuration\n",
        "print(pd.__version__)"
      ]
    },
    {
      "cell_type": "markdown",
      "metadata": {
        "id": "Td9XfK32IX1z"
      },
      "source": [
        "![purple-divider](https://user-images.githubusercontent.com/7065401/52071927-c1cd7100-2562-11e9-908a-dde91ba14e59.png)\n",
        "\n",
        "## DataFrame creation"
      ]
    },
    {
      "cell_type": "markdown",
      "metadata": {
        "id": "qbyEVB4hIX10"
      },
      "source": [
        "### Create an empty pandas DataFrame\n"
      ]
    },
    {
      "cell_type": "code",
      "execution_count": null,
      "metadata": {
        "id": "fDnmDVhWIX10"
      },
      "outputs": [],
      "source": [
        "# your code goes here\n"
      ]
    },
    {
      "cell_type": "code",
      "execution_count": null,
      "metadata": {
        "cell_type": "solution",
        "id": "DNuATodfIX10"
      },
      "outputs": [],
      "source": [
        "pd.DataFrame(data=[None],\n",
        "             index=[None],\n",
        "             columns=[None])"
      ]
    },
    {
      "cell_type": "markdown",
      "metadata": {
        "id": "OJUgXQUUIX10"
      },
      "source": [
        "<img width=400 src=\"https://cdn.dribbble.com/users/4678/screenshots/1986600/avengers.png\"></img>"
      ]
    },
    {
      "cell_type": "markdown",
      "metadata": {
        "id": "0IIELqAFIX10"
      },
      "source": [
        "![green-divider](https://user-images.githubusercontent.com/7065401/52071924-c003ad80-2562-11e9-8297-1c6595f8a7ff.png)\n",
        "\n",
        "### Create a `marvel_df` pandas DataFrame with the given marvel data\n"
      ]
    },
    {
      "cell_type": "code",
      "execution_count": null,
      "metadata": {
        "id": "JjEiOWkjIX11"
      },
      "outputs": [],
      "source": [
        "marvel_data = [\n",
        "    ['Spider-Man', 'male', 1962],\n",
        "    ['Captain America', 'male', 1941],\n",
        "    ['Wolverine', 'male', 1974],\n",
        "    ['Iron Man', 'male', 1963],\n",
        "    ['Thor', 'male', 1963],\n",
        "    ['Thing', 'male', 1961],\n",
        "    ['Mister Fantastic', 'male', 1961],\n",
        "    ['Hulk', 'male', 1962],\n",
        "    ['Beast', 'male', 1963],\n",
        "    ['Invisible Woman', 'female', 1961],\n",
        "    ['Storm', 'female', 1975],\n",
        "    ['Namor', 'male', 1939],\n",
        "    ['Hawkeye', 'male', 1964],\n",
        "    ['Daredevil', 'male', 1964],\n",
        "    ['Doctor Strange', 'male', 1963],\n",
        "    ['Hank Pym', 'male', 1962],\n",
        "    ['Scarlet Witch', 'female', 1964],\n",
        "    ['Wasp', 'female', 1963],\n",
        "    ['Black Widow', 'female', 1964],\n",
        "    ['Vision', 'male', 1968]\n",
        "]"
      ]
    },
    {
      "cell_type": "code",
      "execution_count": null,
      "metadata": {
        "id": "DSKntnjUIX11"
      },
      "outputs": [],
      "source": [
        "# your code goes here\n"
      ]
    },
    {
      "cell_type": "code",
      "execution_count": null,
      "metadata": {
        "cell_type": "solution",
        "id": "Sp8ZoCc5IX11"
      },
      "outputs": [],
      "source": [
        "marvel_df = pd.DataFrame(data=marvel_data)\n",
        "\n",
        "marvel_df"
      ]
    },
    {
      "cell_type": "markdown",
      "metadata": {
        "id": "Lf3ld39oIX11"
      },
      "source": [
        "![green-divider](https://user-images.githubusercontent.com/7065401/52071924-c003ad80-2562-11e9-8297-1c6595f8a7ff.png)\n",
        "\n",
        "### Add column names to the `marvel_df`\n",
        ""
      ]
    },
    {
      "cell_type": "code",
      "execution_count": null,
      "metadata": {
        "id": "QQmFkR23IX11"
      },
      "outputs": [],
      "source": [
        "# your code goes here\n"
      ]
    },
    {
      "cell_type": "code",
      "execution_count": null,
      "metadata": {
        "cell_type": "solution",
        "id": "H-OCox9qIX11"
      },
      "outputs": [],
      "source": [
        "col_names = ['name', 'sex', 'first_appearance']\n",
        "\n",
        "marvel_df.columns = col_names\n",
        "marvel_df"
      ]
    },
    {
      "cell_type": "markdown",
      "metadata": {
        "id": "RrTGaq1-IX12"
      },
      "source": [
        "![green-divider](https://user-images.githubusercontent.com/7065401/52071924-c003ad80-2562-11e9-8297-1c6595f8a7ff.png)\n",
        "\n",
        "### Add index names to the `marvel_df` (use the character name as index)\n"
      ]
    },
    {
      "cell_type": "code",
      "execution_count": null,
      "metadata": {
        "id": "E9Tdf5AnIX12"
      },
      "outputs": [],
      "source": [
        "# your code goes here\n"
      ]
    },
    {
      "cell_type": "code",
      "execution_count": null,
      "metadata": {
        "cell_type": "solution",
        "id": "g-N4duPfIX12"
      },
      "outputs": [],
      "source": [
        "marvel_df.index = marvel_df['name']\n",
        "marvel_df"
      ]
    },
    {
      "cell_type": "markdown",
      "metadata": {
        "id": "Bkl0m1JUIX12"
      },
      "source": [
        "![green-divider](https://user-images.githubusercontent.com/7065401/52071924-c003ad80-2562-11e9-8297-1c6595f8a7ff.png)\n",
        "\n",
        "### Drop the name column as it's now the index"
      ]
    },
    {
      "cell_type": "code",
      "execution_count": null,
      "metadata": {
        "id": "zY81OsCSIX12"
      },
      "outputs": [],
      "source": [
        "# your code goes here\n"
      ]
    },
    {
      "cell_type": "code",
      "execution_count": null,
      "metadata": {
        "cell_type": "solution",
        "id": "tjVV8SNTIX12"
      },
      "outputs": [],
      "source": [
        "#marvel_df = marvel_df.drop(columns=['name'])\n",
        "marvel_df = marvel_df.drop(['name'], axis=1)\n",
        "marvel_df"
      ]
    },
    {
      "cell_type": "markdown",
      "metadata": {
        "id": "zK8wgv8vIX12"
      },
      "source": [
        "![green-divider](https://user-images.githubusercontent.com/7065401/52071924-c003ad80-2562-11e9-8297-1c6595f8a7ff.png)\n",
        "\n",
        "### Drop 'Namor' and 'Hank Pym' rows\n"
      ]
    },
    {
      "cell_type": "code",
      "execution_count": null,
      "metadata": {
        "id": "UhRr6czEIX12"
      },
      "outputs": [],
      "source": [
        "# your code goes here\n"
      ]
    },
    {
      "cell_type": "code",
      "execution_count": null,
      "metadata": {
        "cell_type": "solution",
        "id": "xW4yDaOvIX12"
      },
      "outputs": [],
      "source": [
        "marvel_df = marvel_df.drop(['Namor', 'Hank Pym'], axis=0)\n",
        "marvel_df"
      ]
    },
    {
      "cell_type": "markdown",
      "metadata": {
        "id": "8pxUu03EIX12"
      },
      "source": [
        "![purple-divider](https://user-images.githubusercontent.com/7065401/52071927-c1cd7100-2562-11e9-908a-dde91ba14e59.png)\n",
        "\n",
        "## DataFrame selection, slicing and indexation"
      ]
    },
    {
      "cell_type": "markdown",
      "metadata": {
        "id": "Q1VBf7ZEIX12"
      },
      "source": [
        "### Show the first 5 elements on `marvel_df`\n",
        ""
      ]
    },
    {
      "cell_type": "code",
      "execution_count": null,
      "metadata": {
        "id": "uKJ_CJtAIX12"
      },
      "outputs": [],
      "source": [
        "# your code goes here\n"
      ]
    },
    {
      "cell_type": "code",
      "execution_count": null,
      "metadata": {
        "cell_type": "solution",
        "id": "4u03ex9kIX12"
      },
      "outputs": [],
      "source": [
        "#marvel_df.loc[['Spider-Man', 'Captain America', 'Wolverine', 'Iron Man', 'Thor'], :] # bad!\n",
        "#marvel_df.loc['Spider-Man': 'Thor', :]\n",
        "#marvel_df.iloc[0:5, :]\n",
        "#marvel_df.iloc[0:5,]\n",
        "marvel_df.iloc[:5,]\n",
        "#marvel_df.head()"
      ]
    },
    {
      "cell_type": "markdown",
      "metadata": {
        "id": "_kIsFIS8IX12"
      },
      "source": [
        "![green-divider](https://user-images.githubusercontent.com/7065401/52071924-c003ad80-2562-11e9-8297-1c6595f8a7ff.png)\n",
        "\n",
        "### Show the last 5 elements on `marvel_df`\n"
      ]
    },
    {
      "cell_type": "code",
      "execution_count": null,
      "metadata": {
        "id": "al0E99ilIX12"
      },
      "outputs": [],
      "source": [
        "# your code goes here\n"
      ]
    },
    {
      "cell_type": "code",
      "execution_count": null,
      "metadata": {
        "cell_type": "solution",
        "id": "PJMfbQdeIX12"
      },
      "outputs": [],
      "source": [
        "#marvel_df.loc[['Hank Pym', 'Scarlet Witch', 'Wasp', 'Black Widow', 'Vision'], :] # bad!\n",
        "#marvel_df.loc['Hank Pym':'Vision', :]\n",
        "marvel_df.iloc[-5:,]\n",
        "#marvel_df.tail()"
      ]
    },
    {
      "cell_type": "markdown",
      "metadata": {
        "id": "0LTPUABBIX12"
      },
      "source": [
        "![green-divider](https://user-images.githubusercontent.com/7065401/52071924-c003ad80-2562-11e9-8297-1c6595f8a7ff.png)\n",
        "\n",
        "### Show just the sex of the first 5 elements on `marvel_df`"
      ]
    },
    {
      "cell_type": "code",
      "execution_count": null,
      "metadata": {
        "id": "pKvGFYO0IX12"
      },
      "outputs": [],
      "source": [
        "# your code goes here\n"
      ]
    },
    {
      "cell_type": "code",
      "execution_count": null,
      "metadata": {
        "cell_type": "solution",
        "id": "hiPKHXNiIX13"
      },
      "outputs": [],
      "source": [
        "#marvel_df.iloc[:5,]['sex'].to_frame()\n",
        "marvel_df.iloc[:5,].sex.to_frame()\n",
        "#marvel_df.head().sex.to_frame()"
      ]
    },
    {
      "cell_type": "markdown",
      "metadata": {
        "id": "qL01_62QIX13"
      },
      "source": [
        "![green-divider](https://user-images.githubusercontent.com/7065401/52071924-c003ad80-2562-11e9-8297-1c6595f8a7ff.png)\n",
        "\n",
        "### Show the first_appearance of all middle elements on `marvel_df`"
      ]
    },
    {
      "cell_type": "code",
      "execution_count": null,
      "metadata": {
        "id": "Keo1rxN-IX13"
      },
      "outputs": [],
      "source": [
        "# your code goes here\n"
      ]
    },
    {
      "cell_type": "code",
      "execution_count": null,
      "metadata": {
        "cell_type": "solution",
        "id": "PjoJOdQxIX13"
      },
      "outputs": [],
      "source": [
        "marvel_df.iloc[1:-1,].first_appearance.to_frame()"
      ]
    },
    {
      "cell_type": "markdown",
      "metadata": {
        "id": "6opfUWNYIX13"
      },
      "source": [
        "![green-divider](https://user-images.githubusercontent.com/7065401/52071924-c003ad80-2562-11e9-8297-1c6595f8a7ff.png)\n",
        "\n",
        "### Show the first and last elements on `marvel_df`\n"
      ]
    },
    {
      "cell_type": "code",
      "execution_count": null,
      "metadata": {
        "id": "uD_ni1VYIX13"
      },
      "outputs": [],
      "source": [
        "# your code goes here\n"
      ]
    },
    {
      "cell_type": "code",
      "execution_count": null,
      "metadata": {
        "cell_type": "solution",
        "id": "qB6uwnzZIX13"
      },
      "outputs": [],
      "source": [
        "#marvel_df.iloc[[0, -1],][['sex', 'first_appearance']]\n",
        "marvel_df.iloc[[0, -1],]"
      ]
    },
    {
      "cell_type": "markdown",
      "metadata": {
        "id": "YCWw0maeIX16"
      },
      "source": [
        "![purple-divider](https://user-images.githubusercontent.com/7065401/52071927-c1cd7100-2562-11e9-908a-dde91ba14e59.png)\n",
        "\n",
        "## DataFrame manipulation and operations"
      ]
    },
    {
      "cell_type": "markdown",
      "metadata": {
        "id": "PZxqKyEPIX16"
      },
      "source": [
        "### Modify the `first_appearance` of 'Vision' to year 1964"
      ]
    },
    {
      "cell_type": "code",
      "execution_count": null,
      "metadata": {
        "id": "heUVw1U1IX17"
      },
      "outputs": [],
      "source": [
        "# your code goes here\n"
      ]
    },
    {
      "cell_type": "code",
      "execution_count": null,
      "metadata": {
        "cell_type": "solution",
        "id": "2il8z6sIIX17"
      },
      "outputs": [],
      "source": [
        "marvel_df.loc['Vision', 'first_appearance'] = 1964\n",
        "\n",
        "marvel_df"
      ]
    },
    {
      "cell_type": "markdown",
      "metadata": {
        "id": "B4OZTrsUIX17"
      },
      "source": [
        "![green-divider](https://user-images.githubusercontent.com/7065401/52071924-c003ad80-2562-11e9-8297-1c6595f8a7ff.png)\n",
        "\n",
        "### Add a new column to `marvel_df` called 'years_since' with the years since `first_appearance`\n"
      ]
    },
    {
      "cell_type": "code",
      "execution_count": null,
      "metadata": {
        "id": "x9y-H8XAIX17"
      },
      "outputs": [],
      "source": [
        "# your code goes here\n"
      ]
    },
    {
      "cell_type": "code",
      "execution_count": null,
      "metadata": {
        "cell_type": "solution",
        "id": "spiCVhg-IX17"
      },
      "outputs": [],
      "source": [
        "marvel_df['years_since'] = 2018 - marvel_df['first_appearance']\n",
        "\n",
        "marvel_df"
      ]
    },
    {
      "cell_type": "markdown",
      "metadata": {
        "id": "eJYj4g1NIX17"
      },
      "source": [
        "![purple-divider](https://user-images.githubusercontent.com/7065401/52071927-c1cd7100-2562-11e9-908a-dde91ba14e59.png)\n",
        "\n",
        "## DataFrame boolean arrays (also called masks)"
      ]
    },
    {
      "cell_type": "markdown",
      "metadata": {
        "id": "A7MNV8v_IX17"
      },
      "source": [
        "### Given the `marvel_df` pandas DataFrame, make a mask showing the female characters\n"
      ]
    },
    {
      "cell_type": "code",
      "execution_count": null,
      "metadata": {
        "id": "pXUuaO-eIX17"
      },
      "outputs": [],
      "source": [
        "# your code goes here\n"
      ]
    },
    {
      "cell_type": "code",
      "execution_count": null,
      "metadata": {
        "cell_type": "solution",
        "id": "tnGbe5TmIX17"
      },
      "outputs": [],
      "source": [
        "mask = marvel_df['sex'] == 'female'\n",
        "\n",
        "mask"
      ]
    },
    {
      "cell_type": "markdown",
      "metadata": {
        "id": "aRfpetIsIX17"
      },
      "source": [
        "![green-divider](https://user-images.githubusercontent.com/7065401/52071924-c003ad80-2562-11e9-8297-1c6595f8a7ff.png)\n",
        "\n",
        "### Given the `marvel_df` pandas DataFrame, get the male characters\n"
      ]
    },
    {
      "cell_type": "code",
      "execution_count": null,
      "metadata": {
        "id": "nYQsVU6iIX17"
      },
      "outputs": [],
      "source": [
        "# your code goes here\n"
      ]
    },
    {
      "cell_type": "code",
      "execution_count": null,
      "metadata": {
        "cell_type": "solution",
        "id": "Ql09TIARIX17"
      },
      "outputs": [],
      "source": [
        "mask = marvel_df['sex'] == 'male'\n",
        "\n",
        "marvel_df[mask]"
      ]
    },
    {
      "cell_type": "markdown",
      "metadata": {
        "id": "EZ3jcy3hIX17"
      },
      "source": [
        "![green-divider](https://user-images.githubusercontent.com/7065401/52071924-c003ad80-2562-11e9-8297-1c6595f8a7ff.png)\n",
        "\n",
        "### Given the `marvel_df` pandas DataFrame, get the characters with `first_appearance` after 1970\n"
      ]
    },
    {
      "cell_type": "code",
      "execution_count": null,
      "metadata": {
        "id": "ZJO82bN_IX17"
      },
      "outputs": [],
      "source": [
        "# your code goes here\n"
      ]
    },
    {
      "cell_type": "code",
      "execution_count": null,
      "metadata": {
        "cell_type": "solution",
        "id": "K1MbAl6fIX17"
      },
      "outputs": [],
      "source": [
        "mask = marvel_df['first_appearance'] > 1970\n",
        "\n",
        "marvel_df[mask]"
      ]
    },
    {
      "cell_type": "markdown",
      "metadata": {
        "id": "1qLwU1gUIX18"
      },
      "source": [
        "![green-divider](https://user-images.githubusercontent.com/7065401/52071924-c003ad80-2562-11e9-8297-1c6595f8a7ff.png)\n",
        "\n",
        "### Given the `marvel_df` pandas DataFrame, get the female characters with `first_appearance` after 1970"
      ]
    },
    {
      "cell_type": "code",
      "execution_count": null,
      "metadata": {
        "id": "GjD9tfguIX18"
      },
      "outputs": [],
      "source": [
        "# your code goes here\n"
      ]
    },
    {
      "cell_type": "code",
      "execution_count": null,
      "metadata": {
        "cell_type": "solution",
        "scrolled": true,
        "id": "hibVx3oTIX18"
      },
      "outputs": [],
      "source": [
        "mask = (marvel_df['sex'] == 'female') & (marvel_df['first_appearance'] > 1970)\n",
        "\n",
        "marvel_df[mask]"
      ]
    },
    {
      "cell_type": "markdown",
      "metadata": {
        "id": "v1PAVO-MIX18"
      },
      "source": [
        "![purple-divider](https://user-images.githubusercontent.com/7065401/52071927-c1cd7100-2562-11e9-908a-dde91ba14e59.png)\n",
        "\n",
        "## DataFrame summary statistics"
      ]
    },
    {
      "cell_type": "markdown",
      "metadata": {
        "id": "hcab2mBwIX18"
      },
      "source": [
        "### Show basic statistics of `marvel_df`"
      ]
    },
    {
      "cell_type": "code",
      "execution_count": null,
      "metadata": {
        "id": "rpqt5yeRIX18"
      },
      "outputs": [],
      "source": [
        "# your code goes here\n"
      ]
    },
    {
      "cell_type": "code",
      "execution_count": null,
      "metadata": {
        "cell_type": "solution",
        "id": "dgyu3sOcIX18"
      },
      "outputs": [],
      "source": [
        "marvel_df.describe()"
      ]
    },
    {
      "cell_type": "markdown",
      "metadata": {
        "id": "YjtEODH0IX18"
      },
      "source": [
        "![green-divider](https://user-images.githubusercontent.com/7065401/52071924-c003ad80-2562-11e9-8297-1c6595f8a7ff.png)\n",
        "\n",
        "### Given the `marvel_df` pandas DataFrame, show the mean value of `first_appearance`"
      ]
    },
    {
      "cell_type": "code",
      "execution_count": null,
      "metadata": {
        "id": "JMD8cRYUIX18"
      },
      "outputs": [],
      "source": [
        "# your code goes here\n"
      ]
    },
    {
      "cell_type": "code",
      "execution_count": null,
      "metadata": {
        "cell_type": "solution",
        "id": "ChiyrDEeIX18"
      },
      "outputs": [],
      "source": [
        "\n",
        "#np.mean(marvel_df.first_appearance)\n",
        "marvel_df.first_appearance.mean()"
      ]
    },
    {
      "cell_type": "markdown",
      "metadata": {
        "id": "3da-FzLrIX18"
      },
      "source": [
        "![green-divider](https://user-images.githubusercontent.com/7065401/52071924-c003ad80-2562-11e9-8297-1c6595f8a7ff.png)\n",
        "\n",
        "### Given the `marvel_df` pandas DataFrame, show the min value of `first_appearance`\n"
      ]
    },
    {
      "cell_type": "code",
      "execution_count": null,
      "metadata": {
        "id": "j-e-pVJLIX18"
      },
      "outputs": [],
      "source": [
        "# your code goes here\n"
      ]
    },
    {
      "cell_type": "code",
      "execution_count": null,
      "metadata": {
        "cell_type": "solution",
        "id": "bOsbZu0GIX18"
      },
      "outputs": [],
      "source": [
        "#np.min(marvel_df.first_appearance)\n",
        "marvel_df.first_appearance.min()"
      ]
    },
    {
      "cell_type": "markdown",
      "metadata": {
        "id": "ymo-h4zfIX18"
      },
      "source": [
        "![green-divider](https://user-images.githubusercontent.com/7065401/52071924-c003ad80-2562-11e9-8297-1c6595f8a7ff.png)\n",
        "\n",
        "### Given the `marvel_df` pandas DataFrame, get the characters with the min value of `first_appearance`"
      ]
    },
    {
      "cell_type": "code",
      "execution_count": null,
      "metadata": {
        "id": "OkmSrP-QIX18"
      },
      "outputs": [],
      "source": [
        "# your code goes here\n"
      ]
    },
    {
      "cell_type": "code",
      "execution_count": null,
      "metadata": {
        "cell_type": "solution",
        "id": "Mwhh76u7IX19"
      },
      "outputs": [],
      "source": [
        "mask = marvel_df['first_appearance'] == marvel_df.first_appearance.min()\n",
        "marvel_df[mask]"
      ]
    },
    {
      "cell_type": "markdown",
      "metadata": {
        "id": "gCxUPMZTIX19"
      },
      "source": [
        "![purple-divider](https://user-images.githubusercontent.com/7065401/52071927-c1cd7100-2562-11e9-908a-dde91ba14e59.png)\n",
        "\n",
        "## DataFrame basic plottings"
      ]
    },
    {
      "cell_type": "markdown",
      "metadata": {
        "id": "nyDbmV2XIX19"
      },
      "source": [
        "### Reset index names of `marvel_df`\n"
      ]
    },
    {
      "cell_type": "code",
      "execution_count": null,
      "metadata": {
        "id": "6hCG8j6XIX19"
      },
      "outputs": [],
      "source": [
        "# your code goes here\n"
      ]
    },
    {
      "cell_type": "code",
      "execution_count": null,
      "metadata": {
        "cell_type": "solution",
        "id": "g0u0ZJzuIX19"
      },
      "outputs": [],
      "source": [
        "marvel_df = marvel_df.reset_index()\n",
        "\n",
        "marvel_df"
      ]
    },
    {
      "cell_type": "markdown",
      "metadata": {
        "id": "uqT5Wh6nIX19"
      },
      "source": [
        "![green-divider](https://user-images.githubusercontent.com/7065401/52071924-c003ad80-2562-11e9-8297-1c6595f8a7ff.png)\n",
        "\n",
        "### Plot the values of `first_appearance`\n"
      ]
    },
    {
      "cell_type": "code",
      "execution_count": null,
      "metadata": {
        "id": "VZsyWYm2IX19"
      },
      "outputs": [],
      "source": [
        "# your code goes here\n"
      ]
    },
    {
      "cell_type": "code",
      "execution_count": null,
      "metadata": {
        "cell_type": "solution",
        "id": "qg3FMi4zIX19"
      },
      "outputs": [],
      "source": [
        "#plt.plot(marvel_df.index, marvel_df.first_appearance)\n",
        "marvel_df.first_appearance.plot()"
      ]
    },
    {
      "cell_type": "markdown",
      "metadata": {
        "id": "AGQFlAZqIX19"
      },
      "source": [
        "![green-divider](https://user-images.githubusercontent.com/7065401/52071924-c003ad80-2562-11e9-8297-1c6595f8a7ff.png)\n",
        "\n",
        "### Plot a histogram (plot.hist) with values of `first_appearance`\n"
      ]
    },
    {
      "cell_type": "code",
      "execution_count": null,
      "metadata": {
        "id": "lPs5cjaJIX19"
      },
      "outputs": [],
      "source": [
        "# your code goes here\n"
      ]
    },
    {
      "cell_type": "code",
      "execution_count": null,
      "metadata": {
        "cell_type": "solution",
        "id": "f8HdWjC7IX19"
      },
      "outputs": [],
      "source": [
        "\n",
        "plt.hist(marvel_df.first_appearance)"
      ]
    },
    {
      "cell_type": "markdown",
      "metadata": {
        "id": "RAcZeClvIX19"
      },
      "source": [
        "![purple-divider](https://user-images.githubusercontent.com/7065401/52071927-c1cd7100-2562-11e9-908a-dde91ba14e59.png)\n"
      ]
    }
  ],
  "metadata": {
    "kernelspec": {
      "display_name": "Python 3",
      "language": "python",
      "name": "python3"
    },
    "language_info": {
      "codemirror_mode": {
        "name": "ipython",
        "version": 3
      },
      "file_extension": ".py",
      "mimetype": "text/x-python",
      "name": "python",
      "nbconvert_exporter": "python",
      "pygments_lexer": "ipython3",
      "version": "3.8.1"
    },
    "colab": {
      "provenance": []
    }
  },
  "nbformat": 4,
  "nbformat_minor": 0
}