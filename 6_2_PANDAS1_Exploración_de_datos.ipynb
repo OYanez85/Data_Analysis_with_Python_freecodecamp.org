{
  "nbformat": 4,
  "nbformat_minor": 0,
  "metadata": {
    "colab": {
      "provenance": [],
      "mount_file_id": "1OTCOe_7qL6Y1zE9agnVwjbzTuocCg9AY",
      "authorship_tag": "ABX9TyPZ1v5v2sQOUyHPsSFsPGa/",
      "include_colab_link": true
    },
    "kernelspec": {
      "name": "python3",
      "display_name": "Python 3"
    },
    "language_info": {
      "name": "python"
    }
  },
  "cells": [
    {
      "cell_type": "markdown",
      "metadata": {
        "id": "view-in-github",
        "colab_type": "text"
      },
      "source": [
        "<a href=\"https://colab.research.google.com/github/annaa-p-na/nds_exercises/blob/develop/PANDAS1_Exploraci%C3%B3n_de_datos.ipynb\" target=\"_parent\"><img src=\"https://colab.research.google.com/assets/colab-badge.svg\" alt=\"Open In Colab\"/></a>"
      ]
    },
    {
      "cell_type": "markdown",
      "source": [
        "## **PANDAS 1: Exploración de datos**"
      ],
      "metadata": {
        "id": "uQFrK_u_KOI-"
      }
    },
    {
      "cell_type": "markdown",
      "source": [
        "1. Importa la librería de pandas y renombrala como pd"
      ],
      "metadata": {
        "id": "qQDJzU9vKJN1"
      }
    },
    {
      "cell_type": "code",
      "source": [],
      "metadata": {
        "id": "6m2kyhU1nzwX"
      },
      "execution_count": null,
      "outputs": []
    },
    {
      "cell_type": "markdown",
      "source": [
        "2. Sube el archivo llamado passengers.csv al entorno Colab o a tu Drive para trabajar con el. Luego, importalo al cuaderno mediante la funcion de pandas read_csv y guárdalo en un dataframe llamado df. La tabla de datos contenida en el archivo csv es un dataset y los datasets en pandas son llamados DataFrames, así que usaremos ambas palabras indistintamente."
      ],
      "metadata": {
        "id": "D3rUT1DjKRb4"
      }
    },
    {
      "cell_type": "code",
      "source": [],
      "metadata": {
        "id": "TGxwt4dTn1uN"
      },
      "execution_count": null,
      "outputs": []
    },
    {
      "cell_type": "markdown",
      "source": [
        "3. Muestra las 5 primeras filas de este dataframe, luego muestra las 5 últimas filas"
      ],
      "metadata": {
        "id": "SO_PQbJWLmBY"
      }
    },
    {
      "cell_type": "code",
      "source": [],
      "metadata": {
        "id": "DjG0jNybn2GY"
      },
      "execution_count": null,
      "outputs": []
    },
    {
      "cell_type": "markdown",
      "source": [
        "4. Muestra las 3 primeras filas del dataframe, luego muestra las 3 últimas filas"
      ],
      "metadata": {
        "id": "Vix8PDj0L08H"
      }
    },
    {
      "cell_type": "code",
      "source": [],
      "metadata": {
        "id": "xwCII9L7n3MF"
      },
      "execution_count": null,
      "outputs": []
    },
    {
      "cell_type": "markdown",
      "source": [
        "En un mismo dataset podemos encontrar distintos tipos de datos. Por ejemplo, observamos que la columna 'brand' de df contiene texto y la columna 'year_repaired' contiene números. Dependiendo de su tipo, podremos usar la columna para realizar un tipo de análisis u otro, como por ejemplo, si es numérica podremos calcular su promedio. El tipo de la columna, lo definirá el tipo de datos que se encuentre en ella. Los tipos serán los mismos que hemos visto en el primer módulo de python (int, float, string, booleana) con la diferencia de que el tipo string se llamara object en pandas."
      ],
      "metadata": {
        "id": "fFkXzjjbL8VW"
      }
    },
    {
      "cell_type": "markdown",
      "source": [
        "Cuando nosotros importamos un dataset en pandas y obtenemos su correspondiente dataframe, pandas asigna un tipo a cada columna. Puede ser que a veces el tipo asignado no sea el adecuado, es por ello que es recomendable ver de que tipo son las columnas de tu dataframe y corregir el tipo si es necesario. Un ejemplo de tipo no adecuado, seria una columna numérica que la ha tomado como texto, lo que no nos permitirá llevar a cabo operaciones matemáticas con ella. O bien, la edad de las personas de nuestro dataframe tomadas como decimal (float) cuándo la edad siempre la damos en número enteros (int), lo que nos haría consumir más memoria de la necesaria."
      ],
      "metadata": {
        "id": "3byNDIPLj90u"
      }
    },
    {
      "cell_type": "markdown",
      "source": [
        "5. Mira de que tipo son las columnas de tu dataframe df mediante el atributo .dtypes"
      ],
      "metadata": {
        "id": "IXbCahbKlAzo"
      }
    },
    {
      "cell_type": "code",
      "source": [],
      "metadata": {
        "id": "-rxnp_4Bn4WX"
      },
      "execution_count": null,
      "outputs": []
    },
    {
      "cell_type": "markdown",
      "source": [
        "6. Cambia el tipo de la columna 'age' de float64 a int64, mediante el método .astype() y comprueba que el cambio se ha llevado a cabo correctamente."
      ],
      "metadata": {
        "id": "wc9qK0kEapx-"
      }
    },
    {
      "cell_type": "code",
      "source": [],
      "metadata": {
        "id": "RxvpyL3On4_8"
      },
      "execution_count": null,
      "outputs": []
    },
    {
      "cell_type": "markdown",
      "source": [
        "7. Para ver cuántos registros tiene nuestro dataframe, es decir cuántas filas y cuántas columnas tiene, podemos usar el atributo .shape, aplica el atributo .shape a df"
      ],
      "metadata": {
        "id": "YZHRKok1d97P"
      }
    },
    {
      "cell_type": "code",
      "source": [],
      "metadata": {
        "id": "zD8_3N4in5yV"
      },
      "execution_count": null,
      "outputs": []
    },
    {
      "cell_type": "markdown",
      "source": [
        "8. Accede a la columna fare mediante los corchetes. Recuerda que si solamente pones un corchete para abrir y otro para cerrar, vas a obtener una Serie de pandas en vez de un DataFrame. Esto no suele ser ningún problema ya que ambas estructuras comparten la mayoría de métodos y funciones, pero es importante tenerlo en cuenta por si queremos aplicar algun método exclusivo de DataFrames. Si queremos obtener un DataFrame de una sola columna en vez de una Serie, deberemos acceder a ella mediante doble corchete, dos para abrir y dos para cerrar, igual que cuando accedemos a un conjunto de columnas, que pasaremos una lista con todas las columnas que queremos seleccionar."
      ],
      "metadata": {
        "id": "-aJg8YpMvzTz"
      }
    },
    {
      "cell_type": "code",
      "source": [],
      "metadata": {
        "id": "F9NNNKPhn6dU"
      },
      "execution_count": null,
      "outputs": []
    },
    {
      "cell_type": "markdown",
      "source": [
        "9. Toma las columnas pclass y age y almacenalas en un nuevo dataframe llamado df2"
      ],
      "metadata": {
        "id": "fwsdz6JA7pVw"
      }
    },
    {
      "cell_type": "code",
      "source": [],
      "metadata": {
        "id": "GsPS30Ldn7iE"
      },
      "execution_count": null,
      "outputs": []
    },
    {
      "cell_type": "markdown",
      "source": [
        "10. Mira en que clase había más pasajeros mediante el método .value_counts(), teniendo en cuenta que la clase del passajero se encuentra en la columna pclass. Recuerda que el método value_counts te proporciona el número de apariciones en el dataframe de cada uno de los valores de la columna dada."
      ],
      "metadata": {
        "id": "0HXU_eWN7vpM"
      }
    },
    {
      "cell_type": "code",
      "source": [],
      "metadata": {
        "id": "05a0kajNn8Ws"
      },
      "execution_count": null,
      "outputs": []
    },
    {
      "cell_type": "markdown",
      "source": [
        "11. Por defecto, mediante .value_counts() se ordenarán los elementos del que más veces se encuentre en el dataframe al que menos. Si queremos que el orden sea inverso, del que menos aparece al que más, podemos usar el parámetro ascending en el método .value_counts() y determinar que ascending = True. Ahora, llama al método value_counts para la columna pclass otra vez, pero ordena los valores de menor a mayor como recién explicado."
      ],
      "metadata": {
        "id": "iw795bEG8A35"
      }
    },
    {
      "cell_type": "code",
      "source": [],
      "metadata": {
        "id": "_QJ0tHb4n9Q9"
      },
      "execution_count": null,
      "outputs": []
    },
    {
      "cell_type": "markdown",
      "source": [
        "12. Otro parámetro muy interesante del método value_counts es el normalize. Por defecto, el método value_counts nos proporcionará el número absoluto de veces que aparece cada elemento, pero si en vez de la cantidad de veces queremos saber en porcentaje cuánta presencia tiene cada valor en la determinada columna, deberemos usar el parámetro normalize=True. Aplica el método value_counts con el parámetro normalize=True para ver que porcentaje de pasajeros viajaba en cada clase."
      ],
      "metadata": {
        "id": "s4w_2hYw8p54"
      }
    },
    {
      "cell_type": "code",
      "source": [],
      "metadata": {
        "id": "6T4HSQjwn93E"
      },
      "execution_count": null,
      "outputs": []
    },
    {
      "cell_type": "markdown",
      "source": [
        "Si lo que queremos no es saber cuántas veces aparece un valor en una columna, sino algunas métricas estadísticas sobre la distribución de los valores en una columna, tenemos el método .describe(). Este será útil sobretodo en datos numéricos."
      ],
      "metadata": {
        "id": "DJ1ep8kd9glt"
      }
    },
    {
      "cell_type": "markdown",
      "source": [
        "13. Aplica el método .describe() a la columna fare"
      ],
      "metadata": {
        "id": "ghCuyGZKAOoF"
      }
    },
    {
      "cell_type": "code",
      "source": [],
      "metadata": {
        "id": "RlpTbWjOn-4e"
      },
      "execution_count": null,
      "outputs": []
    },
    {
      "cell_type": "markdown",
      "source": [
        "14. Para las columnas de tipo object, el output del método .describe() será distinto. Aplícalo a la columna sex del dataframe df"
      ],
      "metadata": {
        "id": "vrm-yP9DAYqh"
      }
    },
    {
      "cell_type": "code",
      "source": [],
      "metadata": {
        "id": "4LY7npvkoABF"
      },
      "execution_count": null,
      "outputs": []
    }
  ]
}
